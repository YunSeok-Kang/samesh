{
 "cells": [
  {
   "cell_type": "markdown",
   "id": "e4983a0e",
   "metadata": {},
   "source": [
    "### 하나의 mesh 파일에 대한 캡셔닝 진행하기"
   ]
  },
  {
   "cell_type": "code",
   "execution_count": null,
   "id": "1b2f0413",
   "metadata": {},
   "outputs": [
    {
     "name": "stdout",
     "output_type": "stream",
     "text": [
      "\n",
      "=== LLM 결과 ===\n",
      "**Status:** Good\n",
      "\n",
      "**Caption:**\n",
      "A 3D model of a parabolic dish antenna featuring a concave dish with a central support structure extending from the back, connected to a base.\n",
      "\n",
      "**Objects:**\n",
      "Dish, Support Structure, Base\n",
      "\n",
      "**Parts and Relationships:**\n",
      "- The concave dish is attached to a central support structure.\n",
      "- The support structure extends from the back of the dish.\n",
      "- The support structure is connected to a base that provides stability.\n"
     ]
    }
   ],
   "source": [
    "import openai\n",
    "import requests\n",
    "import base64\n",
    "import subprocess\n",
    "import json\n",
    "import time\n",
    "\n",
    "\n",
    "# 타겟 오브젝트 로드\n",
    "target_directory = \"../outputs/mesh_segmentation_output/CustomDataset/000-0000\"\n",
    "config_directory = \"../configs\"\n",
    "\n",
    "mesh_id = \"01659373a49d4ff29e6b99abd3b734ce\"  # 안테나?\n",
    "\n",
    "matte_image_path = f\"{target_directory}/{mesh_id}/matte_collage_2048x2048.png\"\n",
    "segmentation_image_path = f\"{target_directory}/{mesh_id}/segmented_collage_2048x2048.png\"\n",
    "\n",
    "prompt_template_path = f\"{config_directory}/captioning_template.txt\"\n",
    "\n",
    "with open('openai_api_key.txt', 'r') as file:\n",
    "    api_key = file.read().strip()\n",
    "\n",
    "# 텍스트 프롬프트 읽기\n",
    "with open(prompt_template_path, 'r', encoding='utf-8') as f:\n",
    "    prompt_template = f.read()\n",
    "\n",
    "# 이미지를 base64로 인코딩\n",
    "def encode_image_to_base64(image_path):\n",
    "    with open(image_path, \"rb\") as image_file:\n",
    "        return base64.b64encode(image_file.read()).decode('utf-8')\n",
    "\n",
    "matte_image_b64 = encode_image_to_base64(matte_image_path)\n",
    "segmentation_image_b64 = encode_image_to_base64(segmentation_image_path)\n",
    "\n",
    "# LLM API 호출 함수\n",
    "def call_openai_api(prompt, matte_image_b64, segmentation_image_b64):\n",
    "    from openai import OpenAI\n",
    "\n",
    "    client = OpenAI(api_key=api_key, timeout=30, max_retries=3)  # OPENAI_API_KEY 환경변수 필요\n",
    "\n",
    "    response = client.chat.completions.create(\n",
    "        model=\"gpt-4o\",\n",
    "        messages=[\n",
    "            {\"role\": \"system\", \"content\": prompt},\n",
    "            {\"role\": \"user\", \"content\": [\n",
    "                {\"type\": \"text\", \"text\": \"Here are two images of the object.\"},\n",
    "                {\"type\": \"image_url\", \"image_url\": {\"url\": f\"data:image/png;base64,{matte_image_b64}\"}},\n",
    "                {\"type\": \"image_url\", \"image_url\": {\"url\": f\"data:image/png;base64,{segmentation_image_b64}\"}},\n",
    "            ]}\n",
    "        ]\n",
    "    )\n",
    "    return response.choices[0].message.content\n",
    "\n",
    "def call_ollama_deepseek_api(prompt, matte_image_b64, segmentation_image_b64):\n",
    "    url = \"http://localhost:11434/api/generate\"\n",
    "    \n",
    "    full_prompt = f\"{prompt}\\n\\nMatte Image (base64): {matte_image_b64}\\n\\nSegmentation Image (base64): {segmentation_image_b64}\\n\\nPlease describe the 3D object's geometry based on these images.\"\n",
    "\n",
    "    payload = {\n",
    "        \"model\": \"deepseek-r1:70b\",  # 원하는 모델명으로 변경 가능\n",
    "        \"prompt\": full_prompt,\n",
    "        \"stream\": False\n",
    "    }\n",
    "\n",
    "    response = requests.post(url, json=payload)\n",
    "    if response.status_code == 200:\n",
    "        return response.json()['response']\n",
    "    else:\n",
    "        raise Exception(f\"Ollama (DeepSeek) API 호출 실패: {response.status_code}, {response.text}\")\n",
    "\n",
    "def call_ollama_gemma_api(prompt, matte_image_b64, segmentation_image_b64):\n",
    "    url = \"http://localhost:11434/api/generate\"\n",
    "\n",
    "    payload = {\n",
    "        \"model\": \"gemma3:27b\",\n",
    "        \"prompt\": prompt,\n",
    "        \"images\": [matte_image_b64, segmentation_image_b64],\n",
    "        \"stream\": False\n",
    "    }\n",
    "\n",
    "    headers = {\n",
    "        \"Content-Type\": \"application/json\"\n",
    "    }\n",
    "\n",
    "    max_retries = 3\n",
    "    timeout_seconds = 30\n",
    "\n",
    "    for attempt in range(1, max_retries + 1):\n",
    "        try:\n",
    "            print(f\"[요청] Ollama Gemma API 호출 (시도 {attempt}/{max_retries})...\")\n",
    "            response = requests.post(url, headers=headers, json=payload, timeout=timeout_seconds)\n",
    "\n",
    "            if response.status_code == 200:\n",
    "                response_json = response.json()\n",
    "                if \"response\" in response_json:\n",
    "                    print(\"[성공] 요청 성공 ✅\")\n",
    "                    return response_json[\"response\"]\n",
    "                else:\n",
    "                    raise Exception(f\"[에러] 응답 형식 오류: {response_json}\")\n",
    "            else:\n",
    "                raise Exception(f\"[에러] HTTP 상태 코드 오류: {response.status_code}, {response.text}\")\n",
    "\n",
    "        except (requests.exceptions.Timeout, requests.exceptions.ConnectionError) as e:\n",
    "            print(f\"[경고] 요청 실패 (타임아웃 또는 연결 문제): {e}\")\n",
    "        except Exception as e:\n",
    "            print(f\"[경고] 요청 실패: {e}\")\n",
    "\n",
    "        if attempt < max_retries:\n",
    "            wait_time = 2 ** attempt  # 지수 백오프 (2초 → 4초 → 8초)\n",
    "            print(f\"[대기] {wait_time}초 후 재시도합니다...\\n\")\n",
    "            time.sleep(wait_time)\n",
    "        else:\n",
    "            print(\"[실패] 모든 재시도 실패 ❌\")\n",
    "\n",
    "    raise RuntimeError(\"최대 재시도 후에도 요청에 실패했습니다.\")\n",
    "\n",
    "# 사용 방법\n",
    "use_openai = True\n",
    "use_ollama_deepseek = False\n",
    "use_ollama_gemma = False\n",
    "\n",
    "# 호출 분기\n",
    "if use_openai:\n",
    "    result = call_openai_api(prompt_template, matte_image_path, segmentation_image_path)\n",
    "elif use_ollama_deepseek:\n",
    "    result = call_ollama_deepseek_api(prompt_template, matte_image_b64, segmentation_image_b64)\n",
    "elif use_ollama_gemma:\n",
    "    result = call_ollama_gemma_api(prompt_template, matte_image_b64, segmentation_image_b64)\n",
    "else:\n",
    "    raise ValueError(\"하나의 API만 True로 설정하세요.\")\n",
    "\n",
    "print(\"\\n=== LLM 결과 ===\")\n",
    "print(result)"
   ]
  },
  {
   "cell_type": "markdown",
   "id": "f7fb7984",
   "metadata": {},
   "source": [
    "### 특정 디렉토리 내에 있는 모든 메시 파일에 대해 캡셔닝 진행하기"
   ]
  },
  {
   "cell_type": "code",
   "execution_count": null,
   "id": "d5831b5a",
   "metadata": {},
   "outputs": [
    {
     "name": "stderr",
     "output_type": "stream",
     "text": [
      "Captioning meshes:   0%|          | 0/386 [00:00<?, ?it/s]"
     ]
    },
    {
     "name": "stdout",
     "output_type": "stream",
     "text": [
      "2025-04-29 14:56:04,766 [INFO] HTTP Request: POST https://api.openai.com/v1/chat/completions \"HTTP/1.1 200 OK\"\n",
      "2025-04-29 14:56:04,769 [INFO] ✅ 000234d39e684deb80b7b8d028681dc1 완료 → ../outputs/mesh_segmentation_output/CustomDataset/000-001/000234d39e684deb80b7b8d028681dc1/caption_gpt.txt\n"
     ]
    },
    {
     "name": "stderr",
     "output_type": "stream",
     "text": [
      "Captioning meshes:   0%|          | 1/386 [00:04<28:59,  4.52s/it]"
     ]
    },
    {
     "name": "stdout",
     "output_type": "stream",
     "text": [
      "2025-04-29 14:56:09,769 [INFO] HTTP Request: POST https://api.openai.com/v1/chat/completions \"HTTP/1.1 200 OK\"\n",
      "2025-04-29 14:56:09,771 [INFO] ✅ 0073f94df6fe405eae5185fef6ba7b51 완료 → ../outputs/mesh_segmentation_output/CustomDataset/000-001/0073f94df6fe405eae5185fef6ba7b51/caption_gpt.txt\n"
     ]
    },
    {
     "name": "stderr",
     "output_type": "stream",
     "text": [
      "Captioning meshes:   1%|          | 2/386 [00:09<30:44,  4.80s/it]"
     ]
    },
    {
     "name": "stdout",
     "output_type": "stream",
     "text": [
      "2025-04-29 14:56:17,835 [INFO] HTTP Request: POST https://api.openai.com/v1/chat/completions \"HTTP/1.1 200 OK\"\n",
      "2025-04-29 14:56:17,838 [INFO] ✅ 017219de07a14b5ca612189fcde1f163 완료 → ../outputs/mesh_segmentation_output/CustomDataset/000-001/017219de07a14b5ca612189fcde1f163/caption_gpt.txt\n"
     ]
    },
    {
     "name": "stderr",
     "output_type": "stream",
     "text": [
      "Captioning meshes:   1%|          | 3/386 [00:17<40:10,  6.29s/it]"
     ]
    },
    {
     "name": "stdout",
     "output_type": "stream",
     "text": [
      "2025-04-29 14:56:17,839 [WARNING] ⚠️  01a0a08fba3e45149946aa52b70a6eda: 필요한 이미지 파일이 존재하지 않음\n",
      "2025-04-29 14:56:17,839 [WARNING] ⚠️  01dcffbc03554d6b9de9ca51952f81fe: 필요한 이미지 파일이 존재하지 않음\n",
      "2025-04-29 14:56:23,247 [INFO] HTTP Request: POST https://api.openai.com/v1/chat/completions \"HTTP/1.1 200 OK\"\n",
      "2025-04-29 14:56:23,249 [INFO] ✅ 02e21ad692854ce89cee4fd7a989eab0 완료 → ../outputs/mesh_segmentation_output/CustomDataset/000-001/02e21ad692854ce89cee4fd7a989eab0/caption_gpt.txt\n"
     ]
    },
    {
     "name": "stderr",
     "output_type": "stream",
     "text": [
      "Captioning meshes:   2%|▏         | 6/386 [00:22<21:02,  3.32s/it]"
     ]
    },
    {
     "name": "stdout",
     "output_type": "stream",
     "text": [
      "2025-04-29 14:56:28,314 [INFO] HTTP Request: POST https://api.openai.com/v1/chat/completions \"HTTP/1.1 200 OK\"\n",
      "2025-04-29 14:56:28,317 [INFO] ✅ 031fc51e43854d1794022bb533e06f37 완료 → ../outputs/mesh_segmentation_output/CustomDataset/000-001/031fc51e43854d1794022bb533e06f37/caption_gpt.txt\n"
     ]
    },
    {
     "name": "stderr",
     "output_type": "stream",
     "text": [
      "Captioning meshes:   2%|▏         | 7/386 [00:28<23:37,  3.74s/it]"
     ]
    },
    {
     "name": "stdout",
     "output_type": "stream",
     "text": [
      "2025-04-29 14:56:33,132 [INFO] HTTP Request: POST https://api.openai.com/v1/chat/completions \"HTTP/1.1 200 OK\"\n",
      "2025-04-29 14:56:33,135 [INFO] ✅ 03dcf530026741e19eb363c703d4af43 완료 → ../outputs/mesh_segmentation_output/CustomDataset/000-001/03dcf530026741e19eb363c703d4af43/caption_gpt.txt\n"
     ]
    },
    {
     "name": "stderr",
     "output_type": "stream",
     "text": [
      "Captioning meshes:   2%|▏         | 8/386 [00:32<25:17,  4.02s/it]"
     ]
    },
    {
     "name": "stdout",
     "output_type": "stream",
     "text": [
      "2025-04-29 14:56:38,659 [INFO] HTTP Request: POST https://api.openai.com/v1/chat/completions \"HTTP/1.1 200 OK\"\n",
      "2025-04-29 14:56:38,661 [INFO] ✅ 04819557781441b6aeeefbf04268157f 완료 → ../outputs/mesh_segmentation_output/CustomDataset/000-001/04819557781441b6aeeefbf04268157f/caption_gpt.txt\n"
     ]
    },
    {
     "name": "stderr",
     "output_type": "stream",
     "text": [
      "Captioning meshes:   2%|▏         | 9/386 [00:38<27:45,  4.42s/it]"
     ]
    },
    {
     "name": "stdout",
     "output_type": "stream",
     "text": [
      "2025-04-29 14:56:42,329 [INFO] HTTP Request: POST https://api.openai.com/v1/chat/completions \"HTTP/1.1 200 OK\"\n",
      "2025-04-29 14:56:42,331 [INFO] ✅ 04f0887da3a443ee87d22830ddc7c6f1 완료 → ../outputs/mesh_segmentation_output/CustomDataset/000-001/04f0887da3a443ee87d22830ddc7c6f1/caption_gpt.txt\n"
     ]
    },
    {
     "name": "stderr",
     "output_type": "stream",
     "text": [
      "Captioning meshes:   3%|▎         | 10/386 [00:42<26:23,  4.21s/it]"
     ]
    },
    {
     "name": "stdout",
     "output_type": "stream",
     "text": [
      "2025-04-29 14:56:47,646 [INFO] HTTP Request: POST https://api.openai.com/v1/chat/completions \"HTTP/1.1 200 OK\"\n",
      "2025-04-29 14:56:47,648 [INFO] ✅ 0625374e7eb2489f9ed77d6e55028c59 완료 → ../outputs/mesh_segmentation_output/CustomDataset/000-001/0625374e7eb2489f9ed77d6e55028c59/caption_gpt.txt\n"
     ]
    },
    {
     "name": "stderr",
     "output_type": "stream",
     "text": [
      "Captioning meshes:   3%|▎         | 11/386 [00:47<28:16,  4.52s/it]"
     ]
    },
    {
     "name": "stdout",
     "output_type": "stream",
     "text": [
      "2025-04-29 14:56:50,829 [INFO] HTTP Request: POST https://api.openai.com/v1/chat/completions \"HTTP/1.1 200 OK\"\n",
      "2025-04-29 14:56:50,831 [INFO] ✅ 06af8c7e909744bc9248cf254e3427bf 완료 → ../outputs/mesh_segmentation_output/CustomDataset/000-001/06af8c7e909744bc9248cf254e3427bf/caption_gpt.txt\n"
     ]
    },
    {
     "name": "stderr",
     "output_type": "stream",
     "text": [
      "Captioning meshes:   3%|▎         | 12/386 [00:50<25:47,  4.14s/it]"
     ]
    },
    {
     "name": "stdout",
     "output_type": "stream",
     "text": [
      "2025-04-29 14:56:53,788 [INFO] HTTP Request: POST https://api.openai.com/v1/chat/completions \"HTTP/1.1 200 OK\"\n",
      "2025-04-29 14:56:53,789 [INFO] ✅ 07fb95f21d1d4e6582a3ce2f7c691604 완료 → ../outputs/mesh_segmentation_output/CustomDataset/000-001/07fb95f21d1d4e6582a3ce2f7c691604/caption_gpt.txt\n"
     ]
    },
    {
     "name": "stderr",
     "output_type": "stream",
     "text": [
      "Captioning meshes:   3%|▎         | 13/386 [00:53<23:35,  3.79s/it]"
     ]
    },
    {
     "name": "stdout",
     "output_type": "stream",
     "text": [
      "2025-04-29 14:56:58,691 [INFO] HTTP Request: POST https://api.openai.com/v1/chat/completions \"HTTP/1.1 200 OK\"\n",
      "2025-04-29 14:56:58,693 [INFO] ✅ 08d5ce2b7d05413998cc6d1c6a66f934 완료 → ../outputs/mesh_segmentation_output/CustomDataset/000-001/08d5ce2b7d05413998cc6d1c6a66f934/caption_gpt.txt\n"
     ]
    },
    {
     "name": "stderr",
     "output_type": "stream",
     "text": [
      "Captioning meshes:   4%|▎         | 14/386 [00:58<25:32,  4.12s/it]"
     ]
    },
    {
     "name": "stdout",
     "output_type": "stream",
     "text": [
      "2025-04-29 14:57:02,722 [INFO] HTTP Request: POST https://api.openai.com/v1/chat/completions \"HTTP/1.1 200 OK\"\n",
      "2025-04-29 14:57:02,725 [INFO] ✅ 099d6dcd26ad4d4eb8389e60c74c173a 완료 → ../outputs/mesh_segmentation_output/CustomDataset/000-001/099d6dcd26ad4d4eb8389e60c74c173a/caption_gpt.txt\n"
     ]
    },
    {
     "name": "stderr",
     "output_type": "stream",
     "text": [
      "Captioning meshes:   4%|▍         | 15/386 [01:02<25:18,  4.09s/it]"
     ]
    },
    {
     "name": "stdout",
     "output_type": "stream",
     "text": [
      "2025-04-29 14:57:02,726 [WARNING] ⚠️  099fe0701192482eb0e56a30ad29ca0c: 필요한 이미지 파일이 존재하지 않음\n",
      "2025-04-29 14:57:10,785 [INFO] HTTP Request: POST https://api.openai.com/v1/chat/completions \"HTTP/1.1 200 OK\"\n",
      "2025-04-29 14:57:10,786 [INFO] ✅ 0a03535a46da431c8d7937206714d3d1 완료 → ../outputs/mesh_segmentation_output/CustomDataset/000-001/0a03535a46da431c8d7937206714d3d1/caption_gpt.txt\n"
     ]
    },
    {
     "name": "stderr",
     "output_type": "stream",
     "text": [
      "Captioning meshes:   4%|▍         | 17/386 [01:10<25:00,  4.07s/it]"
     ]
    },
    {
     "name": "stdout",
     "output_type": "stream",
     "text": [
      "2025-04-29 14:57:16,934 [INFO] HTTP Request: POST https://api.openai.com/v1/chat/completions \"HTTP/1.1 200 OK\"\n",
      "2025-04-29 14:57:16,936 [INFO] ✅ 0a9823c9645a4d3fa28a1445199f6fea 완료 → ../outputs/mesh_segmentation_output/CustomDataset/000-001/0a9823c9645a4d3fa28a1445199f6fea/caption_gpt.txt\n"
     ]
    },
    {
     "name": "stderr",
     "output_type": "stream",
     "text": [
      "Captioning meshes:   5%|▍         | 18/386 [01:16<28:05,  4.58s/it]"
     ]
    },
    {
     "name": "stdout",
     "output_type": "stream",
     "text": [
      "2025-04-29 14:57:16,937 [WARNING] ⚠️  0bdb3cb8c2374d57a9cb5dce77d7a9ba: 필요한 이미지 파일이 존재하지 않음\n",
      "2025-04-29 14:57:19,792 [INFO] HTTP Request: POST https://api.openai.com/v1/chat/completions \"HTTP/1.1 200 OK\"\n",
      "2025-04-29 14:57:19,794 [INFO] ✅ 0dd1fd9ce87f4b50b3a57f2f0dfd93b2 완료 → ../outputs/mesh_segmentation_output/CustomDataset/000-001/0dd1fd9ce87f4b50b3a57f2f0dfd93b2/caption_gpt.txt\n"
     ]
    },
    {
     "name": "stderr",
     "output_type": "stream",
     "text": [
      "Captioning meshes:   5%|▌         | 20/386 [01:19<19:59,  3.28s/it]"
     ]
    },
    {
     "name": "stdout",
     "output_type": "stream",
     "text": [
      "2025-04-29 14:57:24,415 [INFO] HTTP Request: POST https://api.openai.com/v1/chat/completions \"HTTP/1.1 200 OK\"\n",
      "2025-04-29 14:57:24,417 [INFO] ✅ 0ec7d54bcc4c46758908df635edb0d31 완료 → ../outputs/mesh_segmentation_output/CustomDataset/000-001/0ec7d54bcc4c46758908df635edb0d31/caption_gpt.txt\n"
     ]
    },
    {
     "name": "stderr",
     "output_type": "stream",
     "text": [
      "Captioning meshes:   5%|▌         | 21/386 [01:24<21:48,  3.58s/it]"
     ]
    },
    {
     "name": "stdout",
     "output_type": "stream",
     "text": [
      "2025-04-29 14:57:30,102 [INFO] HTTP Request: POST https://api.openai.com/v1/chat/completions \"HTTP/1.1 200 OK\"\n",
      "2025-04-29 14:57:30,104 [INFO] ✅ 0f2a1e1976a942e4b2ec86a612f726f6 완료 → ../outputs/mesh_segmentation_output/CustomDataset/000-001/0f2a1e1976a942e4b2ec86a612f726f6/caption_gpt.txt\n"
     ]
    },
    {
     "name": "stderr",
     "output_type": "stream",
     "text": [
      "Captioning meshes:   6%|▌         | 22/386 [01:29<24:52,  4.10s/it]"
     ]
    },
    {
     "name": "stdout",
     "output_type": "stream",
     "text": [
      "2025-04-29 14:57:34,721 [INFO] HTTP Request: POST https://api.openai.com/v1/chat/completions \"HTTP/1.1 200 OK\"\n",
      "2025-04-29 14:57:34,723 [INFO] ✅ 0fbe950da89644b6baa179da90dee3d5 완료 → ../outputs/mesh_segmentation_output/CustomDataset/000-001/0fbe950da89644b6baa179da90dee3d5/caption_gpt.txt\n"
     ]
    },
    {
     "name": "stderr",
     "output_type": "stream",
     "text": [
      "Captioning meshes:   6%|▌         | 23/386 [01:34<25:37,  4.24s/it]"
     ]
    },
    {
     "name": "stdout",
     "output_type": "stream",
     "text": [
      "2025-04-29 14:57:42,029 [INFO] HTTP Request: POST https://api.openai.com/v1/chat/completions \"HTTP/1.1 200 OK\"\n",
      "2025-04-29 14:57:42,031 [INFO] ✅ 0fe49e30f1bb4ecea26626399f2b057c 완료 → ../outputs/mesh_segmentation_output/CustomDataset/000-001/0fe49e30f1bb4ecea26626399f2b057c/caption_gpt.txt\n"
     ]
    },
    {
     "name": "stderr",
     "output_type": "stream",
     "text": [
      "Captioning meshes:   6%|▌         | 24/386 [01:41<30:34,  5.07s/it]"
     ]
    },
    {
     "name": "stdout",
     "output_type": "stream",
     "text": [
      "2025-04-29 14:57:46,752 [INFO] HTTP Request: POST https://api.openai.com/v1/chat/completions \"HTTP/1.1 200 OK\"\n",
      "2025-04-29 14:57:46,755 [INFO] ✅ 10199f2ed79e4497b41ef459a76e51f4 완료 → ../outputs/mesh_segmentation_output/CustomDataset/000-001/10199f2ed79e4497b41ef459a76e51f4/caption_gpt.txt\n"
     ]
    },
    {
     "name": "stderr",
     "output_type": "stream",
     "text": [
      "Captioning meshes:   6%|▋         | 25/386 [01:46<29:54,  4.97s/it]"
     ]
    },
    {
     "name": "stdout",
     "output_type": "stream",
     "text": [
      "2025-04-29 14:57:52,829 [INFO] HTTP Request: POST https://api.openai.com/v1/chat/completions \"HTTP/1.1 200 OK\"\n",
      "2025-04-29 14:57:52,831 [INFO] ✅ 1035cb4b0d7a4826b61d693616b07a58 완료 → ../outputs/mesh_segmentation_output/CustomDataset/000-001/1035cb4b0d7a4826b61d693616b07a58/caption_gpt.txt\n"
     ]
    },
    {
     "name": "stderr",
     "output_type": "stream",
     "text": [
      "Captioning meshes:   7%|▋         | 26/386 [01:52<31:42,  5.29s/it]"
     ]
    },
    {
     "name": "stdout",
     "output_type": "stream",
     "text": [
      "2025-04-29 14:57:57,231 [INFO] HTTP Request: POST https://api.openai.com/v1/chat/completions \"HTTP/1.1 200 OK\"\n",
      "2025-04-29 14:57:57,234 [INFO] ✅ 109c563a01f34e049cd5dc2689227f87 완료 → ../outputs/mesh_segmentation_output/CustomDataset/000-001/109c563a01f34e049cd5dc2689227f87/caption_gpt.txt\n"
     ]
    },
    {
     "name": "stderr",
     "output_type": "stream",
     "text": [
      "Captioning meshes:   7%|▋         | 27/386 [01:56<30:05,  5.03s/it]"
     ]
    },
    {
     "name": "stdout",
     "output_type": "stream",
     "text": [
      "2025-04-29 14:58:05,178 [INFO] HTTP Request: POST https://api.openai.com/v1/chat/completions \"HTTP/1.1 200 OK\"\n",
      "2025-04-29 14:58:05,180 [INFO] ✅ 112c059282cf4511a01fd27211edcae8 완료 → ../outputs/mesh_segmentation_output/CustomDataset/000-001/112c059282cf4511a01fd27211edcae8/caption_gpt.txt\n"
     ]
    },
    {
     "name": "stderr",
     "output_type": "stream",
     "text": [
      "Captioning meshes:   7%|▋         | 28/386 [02:04<35:06,  5.88s/it]"
     ]
    },
    {
     "name": "stdout",
     "output_type": "stream",
     "text": [
      "2025-04-29 14:58:08,965 [INFO] HTTP Request: POST https://api.openai.com/v1/chat/completions \"HTTP/1.1 200 OK\"\n",
      "2025-04-29 14:58:08,968 [INFO] ✅ 11a23df5c95b4f35bb0012fe7c5c56b4 완료 → ../outputs/mesh_segmentation_output/CustomDataset/000-001/11a23df5c95b4f35bb0012fe7c5c56b4/caption_gpt.txt\n"
     ]
    },
    {
     "name": "stderr",
     "output_type": "stream",
     "text": [
      "Captioning meshes:   8%|▊         | 29/386 [02:08<31:19,  5.27s/it]"
     ]
    },
    {
     "name": "stdout",
     "output_type": "stream",
     "text": [
      "2025-04-29 14:58:13,821 [INFO] HTTP Request: POST https://api.openai.com/v1/chat/completions \"HTTP/1.1 200 OK\"\n",
      "2025-04-29 14:58:13,823 [INFO] ✅ 11b51d639a9547e9a9ac7e197d1bc3b0 완료 → ../outputs/mesh_segmentation_output/CustomDataset/000-001/11b51d639a9547e9a9ac7e197d1bc3b0/caption_gpt.txt\n"
     ]
    },
    {
     "name": "stderr",
     "output_type": "stream",
     "text": [
      "Captioning meshes:   8%|▊         | 30/386 [02:13<30:31,  5.14s/it]"
     ]
    },
    {
     "name": "stdout",
     "output_type": "stream",
     "text": [
      "2025-04-29 14:58:17,044 [INFO] HTTP Request: POST https://api.openai.com/v1/chat/completions \"HTTP/1.1 200 OK\"\n",
      "2025-04-29 14:58:17,045 [INFO] ✅ 11d737058d87423a84bf4ec99187649e 완료 → ../outputs/mesh_segmentation_output/CustomDataset/000-001/11d737058d87423a84bf4ec99187649e/caption_gpt.txt\n"
     ]
    },
    {
     "name": "stderr",
     "output_type": "stream",
     "text": [
      "Captioning meshes:   8%|▊         | 31/386 [02:16<27:03,  4.57s/it]"
     ]
    },
    {
     "name": "stdout",
     "output_type": "stream",
     "text": [
      "2025-04-29 14:58:42,838 [INFO] HTTP Request: POST https://api.openai.com/v1/chat/completions \"HTTP/1.1 200 OK\"\n",
      "2025-04-29 14:58:42,840 [INFO] ✅ 11d7e83fe2c943848569c79403b3c48d 완료 → ../outputs/mesh_segmentation_output/CustomDataset/000-001/11d7e83fe2c943848569c79403b3c48d/caption_gpt.txt\n"
     ]
    },
    {
     "name": "stderr",
     "output_type": "stream",
     "text": [
      "Captioning meshes:   8%|▊         | 32/386 [02:42<1:04:18, 10.90s/it]"
     ]
    },
    {
     "name": "stdout",
     "output_type": "stream",
     "text": [
      "2025-04-29 14:58:50,006 [INFO] HTTP Request: POST https://api.openai.com/v1/chat/completions \"HTTP/1.1 200 OK\"\n",
      "2025-04-29 14:58:50,008 [INFO] ✅ 123b35a9e70e4fe5b9e7d2d84fa87790 완료 → ../outputs/mesh_segmentation_output/CustomDataset/000-001/123b35a9e70e4fe5b9e7d2d84fa87790/caption_gpt.txt\n"
     ]
    },
    {
     "name": "stderr",
     "output_type": "stream",
     "text": [
      "Captioning meshes:   9%|▊         | 33/386 [02:49<57:34,  9.79s/it]  "
     ]
    },
    {
     "name": "stdout",
     "output_type": "stream",
     "text": [
      "2025-04-29 14:58:57,416 [INFO] HTTP Request: POST https://api.openai.com/v1/chat/completions \"HTTP/1.1 200 OK\"\n",
      "2025-04-29 14:58:57,418 [INFO] ✅ 12e49d2edb1d467ba84a38d06b239afc 완료 → ../outputs/mesh_segmentation_output/CustomDataset/000-001/12e49d2edb1d467ba84a38d06b239afc/caption_gpt.txt\n"
     ]
    },
    {
     "name": "stderr",
     "output_type": "stream",
     "text": [
      "Captioning meshes:   9%|▉         | 34/386 [02:57<53:14,  9.07s/it]"
     ]
    },
    {
     "name": "stdout",
     "output_type": "stream",
     "text": [
      "2025-04-29 14:59:06,843 [INFO] HTTP Request: POST https://api.openai.com/v1/chat/completions \"HTTP/1.1 200 OK\"\n",
      "2025-04-29 14:59:06,845 [INFO] ✅ 12fc770cde5546c0bbf62605f1a1052e 완료 → ../outputs/mesh_segmentation_output/CustomDataset/000-001/12fc770cde5546c0bbf62605f1a1052e/caption_gpt.txt\n"
     ]
    },
    {
     "name": "stderr",
     "output_type": "stream",
     "text": [
      "Captioning meshes:   9%|▉         | 35/386 [03:06<53:42,  9.18s/it]"
     ]
    },
    {
     "name": "stdout",
     "output_type": "stream",
     "text": [
      "2025-04-29 14:59:15,302 [INFO] HTTP Request: POST https://api.openai.com/v1/chat/completions \"HTTP/1.1 200 OK\"\n",
      "2025-04-29 14:59:15,304 [INFO] ✅ 13497879f75a4cd6a70a98e86f1517bc 완료 → ../outputs/mesh_segmentation_output/CustomDataset/000-001/13497879f75a4cd6a70a98e86f1517bc/caption_gpt.txt\n"
     ]
    },
    {
     "name": "stderr",
     "output_type": "stream",
     "text": [
      "Captioning meshes:   9%|▉         | 36/386 [03:15<52:17,  8.96s/it]"
     ]
    },
    {
     "name": "stdout",
     "output_type": "stream",
     "text": [
      "2025-04-29 14:59:24,332 [INFO] HTTP Request: POST https://api.openai.com/v1/chat/completions \"HTTP/1.1 200 OK\"\n",
      "2025-04-29 14:59:24,334 [INFO] ✅ 16cd5c8bd38f4934a5b65d22c599b83c 완료 → ../outputs/mesh_segmentation_output/CustomDataset/000-001/16cd5c8bd38f4934a5b65d22c599b83c/caption_gpt.txt\n"
     ]
    },
    {
     "name": "stderr",
     "output_type": "stream",
     "text": [
      "Captioning meshes:  10%|▉         | 37/386 [03:24<52:15,  8.98s/it]"
     ]
    },
    {
     "name": "stdout",
     "output_type": "stream",
     "text": [
      "2025-04-29 14:59:30,397 [INFO] HTTP Request: POST https://api.openai.com/v1/chat/completions \"HTTP/1.1 200 OK\"\n",
      "2025-04-29 14:59:30,399 [INFO] ✅ 179eb52792274e49a65516ac6f454e5f 완료 → ../outputs/mesh_segmentation_output/CustomDataset/000-001/179eb52792274e49a65516ac6f454e5f/caption_gpt.txt\n"
     ]
    },
    {
     "name": "stderr",
     "output_type": "stream",
     "text": [
      "Captioning meshes:  10%|▉         | 38/386 [03:30<47:01,  8.11s/it]"
     ]
    },
    {
     "name": "stdout",
     "output_type": "stream",
     "text": [
      "2025-04-29 14:59:30,400 [WARNING] ⚠️  181c197a71534f028f8aa65646587107: 필요한 이미지 파일이 존재하지 않음\n",
      "2025-04-29 14:59:35,942 [INFO] HTTP Request: POST https://api.openai.com/v1/chat/completions \"HTTP/1.1 200 OK\"\n",
      "2025-04-29 14:59:35,944 [INFO] ✅ 192fe727d3d74a0a94bb866ef0cf3959 완료 → ../outputs/mesh_segmentation_output/CustomDataset/000-001/192fe727d3d74a0a94bb866ef0cf3959/caption_gpt.txt\n"
     ]
    },
    {
     "name": "stderr",
     "output_type": "stream",
     "text": [
      "Captioning meshes:  10%|█         | 40/386 [03:35<32:33,  5.65s/it]"
     ]
    },
    {
     "name": "stdout",
     "output_type": "stream",
     "text": [
      "2025-04-29 14:59:38,531 [INFO] HTTP Request: POST https://api.openai.com/v1/chat/completions \"HTTP/1.1 200 OK\"\n",
      "2025-04-29 14:59:38,533 [INFO] ✅ 19404cd3d744425093aa38e461386bb0 완료 → ../outputs/mesh_segmentation_output/CustomDataset/000-001/19404cd3d744425093aa38e461386bb0/caption_gpt.txt\n"
     ]
    },
    {
     "name": "stderr",
     "output_type": "stream",
     "text": [
      "Captioning meshes:  11%|█         | 41/386 [03:38<28:06,  4.89s/it]"
     ]
    },
    {
     "name": "stdout",
     "output_type": "stream",
     "text": [
      "2025-04-29 14:59:38,534 [WARNING] ⚠️  1954b4ccb77b450abb0ec95ff9550d53: 필요한 이미지 파일이 존재하지 않음\n",
      "2025-04-29 14:59:43,245 [INFO] HTTP Request: POST https://api.openai.com/v1/chat/completions \"HTTP/1.1 200 OK\"\n",
      "2025-04-29 14:59:43,247 [INFO] ✅ 199cc9fc8c0a42c7bce62855e4c76604 완료 → ../outputs/mesh_segmentation_output/CustomDataset/000-001/199cc9fc8c0a42c7bce62855e4c76604/caption_gpt.txt\n"
     ]
    },
    {
     "name": "stderr",
     "output_type": "stream",
     "text": [
      "Captioning meshes:  11%|█         | 43/386 [03:42<21:56,  3.84s/it]"
     ]
    },
    {
     "name": "stdout",
     "output_type": "stream",
     "text": [
      "2025-04-29 14:59:49,987 [INFO] HTTP Request: POST https://api.openai.com/v1/chat/completions \"HTTP/1.1 200 OK\"\n",
      "2025-04-29 14:59:49,989 [INFO] ✅ 1a0eaf4183d446b0bafa8325c802a9f6 완료 → ../outputs/mesh_segmentation_output/CustomDataset/000-001/1a0eaf4183d446b0bafa8325c802a9f6/caption_gpt.txt\n"
     ]
    },
    {
     "name": "stderr",
     "output_type": "stream",
     "text": [
      "Captioning meshes:  11%|█▏        | 44/386 [03:49<25:39,  4.50s/it]"
     ]
    },
    {
     "name": "stdout",
     "output_type": "stream",
     "text": [
      "2025-04-29 14:59:49,991 [WARNING] ⚠️  1b1a259c91a64e64a67feb7b9933634f: 필요한 이미지 파일이 존재하지 않음\n",
      "2025-04-29 14:59:49,991 [WARNING] ⚠️  1b2916d72e724558b1ccfe09646f46a7: 필요한 이미지 파일이 존재하지 않음\n",
      "2025-04-29 14:59:59,573 [INFO] HTTP Request: POST https://api.openai.com/v1/chat/completions \"HTTP/1.1 200 OK\"\n",
      "2025-04-29 14:59:59,575 [INFO] ✅ 1cb80bae053947228efec4ab151e924d 완료 → ../outputs/mesh_segmentation_output/CustomDataset/000-001/1cb80bae053947228efec4ab151e924d/caption_gpt.txt\n"
     ]
    },
    {
     "name": "stderr",
     "output_type": "stream",
     "text": [
      "Captioning meshes:  12%|█▏        | 47/386 [03:59<21:47,  3.86s/it]"
     ]
    },
    {
     "name": "stdout",
     "output_type": "stream",
     "text": [
      "2025-04-29 15:00:05,304 [INFO] HTTP Request: POST https://api.openai.com/v1/chat/completions \"HTTP/1.1 200 OK\"\n",
      "2025-04-29 15:00:05,307 [INFO] ✅ 1d08bd8dd71e45abaa318a6d26ef02ad 완료 → ../outputs/mesh_segmentation_output/CustomDataset/000-001/1d08bd8dd71e45abaa318a6d26ef02ad/caption_gpt.txt\n"
     ]
    },
    {
     "name": "stderr",
     "output_type": "stream",
     "text": [
      "Captioning meshes:  12%|█▏        | 48/386 [04:05<23:44,  4.21s/it]"
     ]
    },
    {
     "name": "stdout",
     "output_type": "stream",
     "text": [
      "2025-04-29 15:00:09,016 [INFO] HTTP Request: POST https://api.openai.com/v1/chat/completions \"HTTP/1.1 200 OK\"\n",
      "2025-04-29 15:00:09,019 [INFO] ✅ 1db9cb4ca0b543f48b85e59b5db6aa58 완료 → ../outputs/mesh_segmentation_output/CustomDataset/000-001/1db9cb4ca0b543f48b85e59b5db6aa58/caption_gpt.txt\n"
     ]
    },
    {
     "name": "stderr",
     "output_type": "stream",
     "text": [
      "Captioning meshes:  13%|█▎        | 49/386 [04:08<23:03,  4.11s/it]"
     ]
    },
    {
     "name": "stdout",
     "output_type": "stream",
     "text": [
      "2025-04-29 15:00:09,020 [WARNING] ⚠️  1e1cbbef562a447dbb30a9c4e0815b48: 필요한 이미지 파일이 존재하지 않음\n",
      "2025-04-29 15:00:09,021 [WARNING] ⚠️  1e8664dcc709449c949ab0ed81ebda96: 필요한 이미지 파일이 존재하지 않음\n",
      "2025-04-29 15:00:14,439 [INFO] HTTP Request: POST https://api.openai.com/v1/chat/completions \"HTTP/1.1 200 OK\"\n",
      "2025-04-29 15:00:14,441 [INFO] ✅ 1e88d4e5c1bc4b58800a3cd831b8d746 완료 → ../outputs/mesh_segmentation_output/CustomDataset/000-001/1e88d4e5c1bc4b58800a3cd831b8d746/caption_gpt.txt\n"
     ]
    },
    {
     "name": "stderr",
     "output_type": "stream",
     "text": [
      "Captioning meshes:  13%|█▎        | 52/386 [04:14<16:44,  3.01s/it]"
     ]
    },
    {
     "name": "stdout",
     "output_type": "stream",
     "text": [
      "2025-04-29 15:00:14,443 [WARNING] ⚠️  1ebe77bc899e45ffab5a1705f2d9c156: 필요한 이미지 파일이 존재하지 않음\n",
      "2025-04-29 15:00:20,575 [INFO] HTTP Request: POST https://api.openai.com/v1/chat/completions \"HTTP/1.1 200 OK\"\n",
      "2025-04-29 15:00:20,578 [INFO] ✅ 1ec554c5f23e4d17a22fe6898f5ee756 완료 → ../outputs/mesh_segmentation_output/CustomDataset/000-001/1ec554c5f23e4d17a22fe6898f5ee756/caption_gpt.txt\n"
     ]
    },
    {
     "name": "stderr",
     "output_type": "stream",
     "text": [
      "Captioning meshes:  14%|█▍        | 54/386 [04:20<16:44,  3.03s/it]"
     ]
    },
    {
     "name": "stdout",
     "output_type": "stream",
     "text": [
      "2025-04-29 15:00:26,847 [INFO] HTTP Request: POST https://api.openai.com/v1/chat/completions \"HTTP/1.1 200 OK\"\n",
      "2025-04-29 15:00:26,849 [INFO] ✅ 1ee6e90bc76b49f3aa5acb744587da49 완료 → ../outputs/mesh_segmentation_output/CustomDataset/000-001/1ee6e90bc76b49f3aa5acb744587da49/caption_gpt.txt\n"
     ]
    },
    {
     "name": "stderr",
     "output_type": "stream",
     "text": [
      "Captioning meshes:  14%|█▍        | 55/386 [04:26<19:57,  3.62s/it]"
     ]
    },
    {
     "name": "stdout",
     "output_type": "stream",
     "text": [
      "2025-04-29 15:00:29,816 [INFO] HTTP Request: POST https://api.openai.com/v1/chat/completions \"HTTP/1.1 200 OK\"\n",
      "2025-04-29 15:00:29,818 [INFO] ✅ 20c740ac137c4e22ba31ea6b5cf9e549 완료 → ../outputs/mesh_segmentation_output/CustomDataset/000-001/20c740ac137c4e22ba31ea6b5cf9e549/caption_gpt.txt\n"
     ]
    },
    {
     "name": "stderr",
     "output_type": "stream",
     "text": [
      "Captioning meshes:  15%|█▍        | 56/386 [04:29<19:09,  3.48s/it]"
     ]
    },
    {
     "name": "stdout",
     "output_type": "stream",
     "text": [
      "2025-04-29 15:00:29,819 [WARNING] ⚠️  2239a4c5703946cd93b1a147c9aaf075: 필요한 이미지 파일이 존재하지 않음\n",
      "2025-04-29 15:00:34,544 [INFO] HTTP Request: POST https://api.openai.com/v1/chat/completions \"HTTP/1.1 200 OK\"\n",
      "2025-04-29 15:00:34,546 [INFO] ✅ 2293975e01924aaf83eda83d7c1429dc 완료 → ../outputs/mesh_segmentation_output/CustomDataset/000-001/2293975e01924aaf83eda83d7c1429dc/caption_gpt.txt\n"
     ]
    },
    {
     "name": "stderr",
     "output_type": "stream",
     "text": [
      "Captioning meshes:  15%|█▌        | 58/386 [04:34<16:46,  3.07s/it]"
     ]
    },
    {
     "name": "stdout",
     "output_type": "stream",
     "text": [
      "2025-04-29 15:00:38,629 [INFO] HTTP Request: POST https://api.openai.com/v1/chat/completions \"HTTP/1.1 200 OK\"\n",
      "2025-04-29 15:00:38,631 [INFO] ✅ 22a9447c6ed64fc796f0ce00ee813d96 완료 → ../outputs/mesh_segmentation_output/CustomDataset/000-001/22a9447c6ed64fc796f0ce00ee813d96/caption_gpt.txt\n"
     ]
    },
    {
     "name": "stderr",
     "output_type": "stream",
     "text": [
      "Captioning meshes:  15%|█▌        | 59/386 [04:38<17:52,  3.28s/it]"
     ]
    },
    {
     "name": "stdout",
     "output_type": "stream",
     "text": [
      "2025-04-29 15:00:41,809 [INFO] HTTP Request: POST https://api.openai.com/v1/chat/completions \"HTTP/1.1 200 OK\"\n",
      "2025-04-29 15:00:41,811 [INFO] ✅ 23fd9c62286a4973a0ed615f8b9e1965 완료 → ../outputs/mesh_segmentation_output/CustomDataset/000-001/23fd9c62286a4973a0ed615f8b9e1965/caption_gpt.txt\n"
     ]
    },
    {
     "name": "stderr",
     "output_type": "stream",
     "text": [
      "Captioning meshes:  16%|█▌        | 60/386 [04:41<17:42,  3.26s/it]"
     ]
    },
    {
     "name": "stdout",
     "output_type": "stream",
     "text": [
      "2025-04-29 15:00:46,431 [INFO] HTTP Request: POST https://api.openai.com/v1/chat/completions \"HTTP/1.1 200 OK\"\n",
      "2025-04-29 15:00:46,433 [INFO] ✅ 244af85f20b44b3fa8cc29271940c891 완료 → ../outputs/mesh_segmentation_output/CustomDataset/000-001/244af85f20b44b3fa8cc29271940c891/caption_gpt.txt\n"
     ]
    },
    {
     "name": "stderr",
     "output_type": "stream",
     "text": [
      "Captioning meshes:  16%|█▌        | 61/386 [04:46<19:28,  3.60s/it]"
     ]
    },
    {
     "name": "stdout",
     "output_type": "stream",
     "text": [
      "2025-04-29 15:00:51,086 [INFO] HTTP Request: POST https://api.openai.com/v1/chat/completions \"HTTP/1.1 200 OK\"\n",
      "2025-04-29 15:00:51,088 [INFO] ✅ 250b8f979441404d95988f57a0235eb3 완료 → ../outputs/mesh_segmentation_output/CustomDataset/000-001/250b8f979441404d95988f57a0235eb3/caption_gpt.txt\n"
     ]
    },
    {
     "name": "stderr",
     "output_type": "stream",
     "text": [
      "Captioning meshes:  16%|█▌        | 62/386 [04:50<20:54,  3.87s/it]"
     ]
    },
    {
     "name": "stdout",
     "output_type": "stream",
     "text": [
      "2025-04-29 15:00:57,416 [INFO] HTTP Request: POST https://api.openai.com/v1/chat/completions \"HTTP/1.1 200 OK\"\n",
      "2025-04-29 15:00:57,418 [INFO] ✅ 259e6b160e454f4695561ca4bc298564 완료 → ../outputs/mesh_segmentation_output/CustomDataset/000-001/259e6b160e454f4695561ca4bc298564/caption_gpt.txt\n"
     ]
    },
    {
     "name": "stderr",
     "output_type": "stream",
     "text": [
      "Captioning meshes:  16%|█▋        | 63/386 [04:57<24:26,  4.54s/it]"
     ]
    },
    {
     "name": "stdout",
     "output_type": "stream",
     "text": [
      "2025-04-29 15:01:01,770 [INFO] HTTP Request: POST https://api.openai.com/v1/chat/completions \"HTTP/1.1 200 OK\"\n",
      "2025-04-29 15:01:01,772 [INFO] ✅ 259fc4e00db34474b7942221a61ffb3a 완료 → ../outputs/mesh_segmentation_output/CustomDataset/000-001/259fc4e00db34474b7942221a61ffb3a/caption_gpt.txt\n"
     ]
    },
    {
     "name": "stderr",
     "output_type": "stream",
     "text": [
      "Captioning meshes:  17%|█▋        | 64/386 [05:01<24:05,  4.49s/it]"
     ]
    },
    {
     "name": "stdout",
     "output_type": "stream",
     "text": [
      "2025-04-29 15:01:05,664 [INFO] HTTP Request: POST https://api.openai.com/v1/chat/completions \"HTTP/1.1 200 OK\"\n",
      "2025-04-29 15:01:05,666 [INFO] ✅ 260ed137c0964b4988245535bff63036 완료 → ../outputs/mesh_segmentation_output/CustomDataset/000-001/260ed137c0964b4988245535bff63036/caption_gpt.txt\n"
     ]
    },
    {
     "name": "stderr",
     "output_type": "stream",
     "text": [
      "Captioning meshes:  17%|█▋        | 65/386 [05:05<23:06,  4.32s/it]"
     ]
    },
    {
     "name": "stdout",
     "output_type": "stream",
     "text": [
      "2025-04-29 15:01:09,365 [INFO] HTTP Request: POST https://api.openai.com/v1/chat/completions \"HTTP/1.1 200 OK\"\n",
      "2025-04-29 15:01:09,368 [INFO] ✅ 26fed852405b401a82c92e6e9ebd456b 완료 → ../outputs/mesh_segmentation_output/CustomDataset/000-001/26fed852405b401a82c92e6e9ebd456b/caption_gpt.txt\n"
     ]
    },
    {
     "name": "stderr",
     "output_type": "stream",
     "text": [
      "Captioning meshes:  17%|█▋        | 66/386 [05:09<22:04,  4.14s/it]"
     ]
    },
    {
     "name": "stdout",
     "output_type": "stream",
     "text": [
      "2025-04-29 15:01:15,245 [INFO] HTTP Request: POST https://api.openai.com/v1/chat/completions \"HTTP/1.1 200 OK\"\n",
      "2025-04-29 15:01:15,247 [INFO] ✅ 2768c1c6d17d40b29e3dcfc7f25a1458 완료 → ../outputs/mesh_segmentation_output/CustomDataset/000-001/2768c1c6d17d40b29e3dcfc7f25a1458/caption_gpt.txt\n"
     ]
    },
    {
     "name": "stderr",
     "output_type": "stream",
     "text": [
      "Captioning meshes:  17%|█▋        | 67/386 [05:14<24:43,  4.65s/it]"
     ]
    },
    {
     "name": "stdout",
     "output_type": "stream",
     "text": [
      "2025-04-29 15:01:24,685 [INFO] HTTP Request: POST https://api.openai.com/v1/chat/completions \"HTTP/1.1 200 OK\"\n",
      "2025-04-29 15:01:24,693 [INFO] ✅ 280aefc5c53c4c8aa0c79f302635f82e 완료 → ../outputs/mesh_segmentation_output/CustomDataset/000-001/280aefc5c53c4c8aa0c79f302635f82e/caption_gpt.txt\n"
     ]
    },
    {
     "name": "stderr",
     "output_type": "stream",
     "text": [
      "Captioning meshes:  18%|█▊        | 68/386 [05:24<32:08,  6.06s/it]"
     ]
    },
    {
     "name": "stdout",
     "output_type": "stream",
     "text": [
      "2025-04-29 15:01:35,635 [INFO] HTTP Request: POST https://api.openai.com/v1/chat/completions \"HTTP/1.1 200 OK\"\n",
      "2025-04-29 15:01:35,637 [INFO] ✅ 2b8040dbbcbc4b1894eb7cd1325a30ae 완료 → ../outputs/mesh_segmentation_output/CustomDataset/000-001/2b8040dbbcbc4b1894eb7cd1325a30ae/caption_gpt.txt\n"
     ]
    },
    {
     "name": "stderr",
     "output_type": "stream",
     "text": [
      "Captioning meshes:  18%|█▊        | 69/386 [05:35<39:40,  7.51s/it]"
     ]
    },
    {
     "name": "stdout",
     "output_type": "stream",
     "text": [
      "2025-04-29 15:01:40,511 [INFO] HTTP Request: POST https://api.openai.com/v1/chat/completions \"HTTP/1.1 200 OK\"\n",
      "2025-04-29 15:01:40,512 [INFO] ✅ 2b9b52e117024cdcbe451b9d26251191 완료 → ../outputs/mesh_segmentation_output/CustomDataset/000-001/2b9b52e117024cdcbe451b9d26251191/caption_gpt.txt\n"
     ]
    },
    {
     "name": "stderr",
     "output_type": "stream",
     "text": [
      "Captioning meshes:  18%|█▊        | 70/386 [05:40<35:25,  6.73s/it]"
     ]
    },
    {
     "name": "stdout",
     "output_type": "stream",
     "text": [
      "2025-04-29 15:01:45,816 [INFO] HTTP Request: POST https://api.openai.com/v1/chat/completions \"HTTP/1.1 200 OK\"\n",
      "2025-04-29 15:01:45,819 [INFO] ✅ 2be941fdc3a048e5b53a96787312b31c 완료 → ../outputs/mesh_segmentation_output/CustomDataset/000-001/2be941fdc3a048e5b53a96787312b31c/caption_gpt.txt\n"
     ]
    },
    {
     "name": "stderr",
     "output_type": "stream",
     "text": [
      "Captioning meshes:  18%|█▊        | 71/386 [05:45<33:05,  6.30s/it]"
     ]
    },
    {
     "name": "stdout",
     "output_type": "stream",
     "text": [
      "2025-04-29 15:01:45,820 [WARNING] ⚠️  2de74f12ff634ae19b3f1caf44448336: 필요한 이미지 파일이 존재하지 않음\n",
      "2025-04-29 15:01:50,041 [INFO] HTTP Request: POST https://api.openai.com/v1/chat/completions \"HTTP/1.1 200 OK\"\n",
      "2025-04-29 15:01:50,043 [INFO] ✅ 3007c0686c084397bda4687eb4edab84 완료 → ../outputs/mesh_segmentation_output/CustomDataset/000-001/3007c0686c084397bda4687eb4edab84/caption_gpt.txt\n"
     ]
    },
    {
     "name": "stderr",
     "output_type": "stream",
     "text": [
      "Captioning meshes:  19%|█▉        | 73/386 [05:49<22:49,  4.37s/it]"
     ]
    },
    {
     "name": "stdout",
     "output_type": "stream",
     "text": [
      "2025-04-29 15:01:54,992 [INFO] HTTP Request: POST https://api.openai.com/v1/chat/completions \"HTTP/1.1 200 OK\"\n",
      "2025-04-29 15:01:54,994 [INFO] ✅ 30b983e063ce40e5935934deff22f09f 완료 → ../outputs/mesh_segmentation_output/CustomDataset/000-001/30b983e063ce40e5935934deff22f09f/caption_gpt.txt\n"
     ]
    },
    {
     "name": "stderr",
     "output_type": "stream",
     "text": [
      "Captioning meshes:  19%|█▉        | 74/386 [05:54<23:29,  4.52s/it]"
     ]
    },
    {
     "name": "stdout",
     "output_type": "stream",
     "text": [
      "2025-04-29 15:01:59,094 [INFO] HTTP Request: POST https://api.openai.com/v1/chat/completions \"HTTP/1.1 200 OK\"\n",
      "2025-04-29 15:01:59,096 [INFO] ✅ 31dc5f3ca06449ee8e8aaefd9f101f9c 완료 → ../outputs/mesh_segmentation_output/CustomDataset/000-001/31dc5f3ca06449ee8e8aaefd9f101f9c/caption_gpt.txt\n"
     ]
    },
    {
     "name": "stderr",
     "output_type": "stream",
     "text": [
      "Captioning meshes:  19%|█▉        | 75/386 [05:58<22:51,  4.41s/it]"
     ]
    },
    {
     "name": "stdout",
     "output_type": "stream",
     "text": [
      "2025-04-29 15:02:04,876 [INFO] HTTP Request: POST https://api.openai.com/v1/chat/completions \"HTTP/1.1 200 OK\"\n",
      "2025-04-29 15:02:04,879 [INFO] ✅ 337e0445667a4f159fd08f068b0ac334 완료 → ../outputs/mesh_segmentation_output/CustomDataset/000-001/337e0445667a4f159fd08f068b0ac334/caption_gpt.txt\n"
     ]
    },
    {
     "name": "stderr",
     "output_type": "stream",
     "text": [
      "Captioning meshes:  20%|█▉        | 76/386 [06:04<24:42,  4.78s/it]"
     ]
    },
    {
     "name": "stdout",
     "output_type": "stream",
     "text": [
      "2025-04-29 15:02:10,410 [INFO] HTTP Request: POST https://api.openai.com/v1/chat/completions \"HTTP/1.1 200 OK\"\n",
      "2025-04-29 15:02:10,412 [INFO] ✅ 33c770ab8b444ca988d7c0d0d6de004d 완료 → ../outputs/mesh_segmentation_output/CustomDataset/000-001/33c770ab8b444ca988d7c0d0d6de004d/caption_gpt.txt\n"
     ]
    },
    {
     "name": "stderr",
     "output_type": "stream",
     "text": [
      "Captioning meshes:  20%|█▉        | 77/386 [06:10<25:42,  4.99s/it]"
     ]
    },
    {
     "name": "stdout",
     "output_type": "stream",
     "text": [
      "2025-04-29 15:02:15,234 [INFO] HTTP Request: POST https://api.openai.com/v1/chat/completions \"HTTP/1.1 200 OK\"\n",
      "2025-04-29 15:02:15,236 [INFO] ✅ 343f18ba1a9f4ea084572053715fd33e 완료 → ../outputs/mesh_segmentation_output/CustomDataset/000-001/343f18ba1a9f4ea084572053715fd33e/caption_gpt.txt\n"
     ]
    },
    {
     "name": "stderr",
     "output_type": "stream",
     "text": [
      "Captioning meshes:  20%|██        | 78/386 [06:14<25:22,  4.94s/it]"
     ]
    },
    {
     "name": "stdout",
     "output_type": "stream",
     "text": [
      "2025-04-29 15:02:15,238 [WARNING] ⚠️  35190150e7154ae9acbb945d9e84e957: 필요한 이미지 파일이 존재하지 않음\n",
      "2025-04-29 15:02:19,297 [INFO] HTTP Request: POST https://api.openai.com/v1/chat/completions \"HTTP/1.1 200 OK\"\n",
      "2025-04-29 15:02:19,299 [INFO] ✅ 35dda11c35ba4d77b4b9ea79f50accf5 완료 → ../outputs/mesh_segmentation_output/CustomDataset/000-001/35dda11c35ba4d77b4b9ea79f50accf5/caption_gpt.txt\n"
     ]
    },
    {
     "name": "stderr",
     "output_type": "stream",
     "text": [
      "Captioning meshes:  21%|██        | 80/386 [06:19<18:32,  3.64s/it]"
     ]
    },
    {
     "name": "stdout",
     "output_type": "stream",
     "text": [
      "2025-04-29 15:02:22,718 [INFO] HTTP Request: POST https://api.openai.com/v1/chat/completions \"HTTP/1.1 200 OK\"\n",
      "2025-04-29 15:02:22,719 [INFO] ✅ 35eabff6b2e74cb5b39fad81acb2347d 완료 → ../outputs/mesh_segmentation_output/CustomDataset/000-001/35eabff6b2e74cb5b39fad81acb2347d/caption_gpt.txt\n"
     ]
    },
    {
     "name": "stderr",
     "output_type": "stream",
     "text": [
      "Captioning meshes:  21%|██        | 81/386 [06:22<18:12,  3.58s/it]"
     ]
    },
    {
     "name": "stdout",
     "output_type": "stream",
     "text": [
      "2025-04-29 15:02:27,238 [INFO] HTTP Request: POST https://api.openai.com/v1/chat/completions \"HTTP/1.1 200 OK\"\n",
      "2025-04-29 15:02:27,241 [INFO] ✅ 36ae25f3e3ce485ca78ae6c81bd08b00 완료 → ../outputs/mesh_segmentation_output/CustomDataset/000-001/36ae25f3e3ce485ca78ae6c81bd08b00/caption_gpt.txt\n"
     ]
    },
    {
     "name": "stderr",
     "output_type": "stream",
     "text": [
      "Captioning meshes:  21%|██        | 82/386 [06:26<19:22,  3.83s/it]"
     ]
    },
    {
     "name": "stdout",
     "output_type": "stream",
     "text": [
      "2025-04-29 15:02:33,988 [INFO] HTTP Request: POST https://api.openai.com/v1/chat/completions \"HTTP/1.1 200 OK\"\n",
      "2025-04-29 15:02:33,989 [INFO] ✅ 379f89bb4fda4471b7bf1535f7980d95 완료 → ../outputs/mesh_segmentation_output/CustomDataset/000-001/379f89bb4fda4471b7bf1535f7980d95/caption_gpt.txt\n"
     ]
    },
    {
     "name": "stderr",
     "output_type": "stream",
     "text": [
      "Captioning meshes:  22%|██▏       | 83/386 [06:33<23:17,  4.61s/it]"
     ]
    },
    {
     "name": "stdout",
     "output_type": "stream",
     "text": [
      "2025-04-29 15:02:33,989 [WARNING] ⚠️  37f02b63d397445c9b45ae19dded7b76: 필요한 이미지 파일이 존재하지 않음\n",
      "2025-04-29 15:02:37,512 [INFO] HTTP Request: POST https://api.openai.com/v1/chat/completions \"HTTP/1.1 200 OK\"\n",
      "2025-04-29 15:02:37,514 [INFO] ✅ 38f32b10d8c7456aa0d2493a4ac0abe6 완료 → ../outputs/mesh_segmentation_output/CustomDataset/000-001/38f32b10d8c7456aa0d2493a4ac0abe6/caption_gpt.txt\n"
     ]
    },
    {
     "name": "stderr",
     "output_type": "stream",
     "text": [
      "Captioning meshes:  22%|██▏       | 85/386 [06:37<16:55,  3.37s/it]"
     ]
    },
    {
     "name": "stdout",
     "output_type": "stream",
     "text": [
      "2025-04-29 15:02:42,369 [INFO] HTTP Request: POST https://api.openai.com/v1/chat/completions \"HTTP/1.1 200 OK\"\n",
      "2025-04-29 15:02:42,371 [INFO] ✅ 3948dc24abe9467587286508b1cc6384 완료 → ../outputs/mesh_segmentation_output/CustomDataset/000-001/3948dc24abe9467587286508b1cc6384/caption_gpt.txt\n"
     ]
    },
    {
     "name": "stderr",
     "output_type": "stream",
     "text": [
      "Captioning meshes:  22%|██▏       | 86/386 [06:42<18:37,  3.72s/it]"
     ]
    },
    {
     "name": "stdout",
     "output_type": "stream",
     "text": [
      "2025-04-29 15:02:46,693 [INFO] HTTP Request: POST https://api.openai.com/v1/chat/completions \"HTTP/1.1 200 OK\"\n",
      "2025-04-29 15:02:46,695 [INFO] ✅ 39f591a8c25e4746974e848fc2fcd4e1 완료 → ../outputs/mesh_segmentation_output/CustomDataset/000-001/39f591a8c25e4746974e848fc2fcd4e1/caption_gpt.txt\n"
     ]
    },
    {
     "name": "stderr",
     "output_type": "stream",
     "text": [
      "Captioning meshes:  23%|██▎       | 87/386 [06:46<19:18,  3.88s/it]"
     ]
    },
    {
     "name": "stdout",
     "output_type": "stream",
     "text": [
      "2025-04-29 15:02:54,038 [INFO] HTTP Request: POST https://api.openai.com/v1/chat/completions \"HTTP/1.1 200 OK\"\n",
      "2025-04-29 15:02:54,040 [INFO] ✅ 3b85981a17d34bafb938b5a572166211 완료 → ../outputs/mesh_segmentation_output/CustomDataset/000-001/3b85981a17d34bafb938b5a572166211/caption_gpt.txt\n"
     ]
    },
    {
     "name": "stderr",
     "output_type": "stream",
     "text": [
      "Captioning meshes:  23%|██▎       | 88/386 [06:53<23:49,  4.80s/it]"
     ]
    },
    {
     "name": "stdout",
     "output_type": "stream",
     "text": [
      "2025-04-29 15:02:58,306 [INFO] HTTP Request: POST https://api.openai.com/v1/chat/completions \"HTTP/1.1 200 OK\"\n",
      "2025-04-29 15:02:58,307 [INFO] ✅ 3cead284c87046dbb313579a2bcff1d7 완료 → ../outputs/mesh_segmentation_output/CustomDataset/000-001/3cead284c87046dbb313579a2bcff1d7/caption_gpt.txt\n"
     ]
    },
    {
     "name": "stderr",
     "output_type": "stream",
     "text": [
      "Captioning meshes:  23%|██▎       | 89/386 [06:58<23:01,  4.65s/it]"
     ]
    },
    {
     "name": "stdout",
     "output_type": "stream",
     "text": [
      "2025-04-29 15:02:58,307 [WARNING] ⚠️  3cfb0994a9774d53b23db8ab988e296d: 필요한 이미지 파일이 존재하지 않음\n",
      "2025-04-29 15:02:58,308 [WARNING] ⚠️  3d8de612d4e442d49629edc1c5304e39: 필요한 이미지 파일이 존재하지 않음\n",
      "2025-04-29 15:03:02,101 [INFO] HTTP Request: POST https://api.openai.com/v1/chat/completions \"HTTP/1.1 200 OK\"\n",
      "2025-04-29 15:03:02,103 [INFO] ✅ 3d93a3bdbf65490c9d7f3c7b9fdc0d82 완료 → ../outputs/mesh_segmentation_output/CustomDataset/000-001/3d93a3bdbf65490c9d7f3c7b9fdc0d82/caption_gpt.txt\n"
     ]
    },
    {
     "name": "stderr",
     "output_type": "stream",
     "text": [
      "Captioning meshes:  24%|██▍       | 92/386 [07:01<13:49,  2.82s/it]"
     ]
    },
    {
     "name": "stdout",
     "output_type": "stream",
     "text": [
      "2025-04-29 15:03:07,592 [INFO] HTTP Request: POST https://api.openai.com/v1/chat/completions \"HTTP/1.1 200 OK\"\n",
      "2025-04-29 15:03:07,596 [INFO] ✅ 3dc9c9770f5d4ceb9829cb7c47537a6a 완료 → ../outputs/mesh_segmentation_output/CustomDataset/000-001/3dc9c9770f5d4ceb9829cb7c47537a6a/caption_gpt.txt\n"
     ]
    },
    {
     "name": "stderr",
     "output_type": "stream",
     "text": [
      "Captioning meshes:  24%|██▍       | 93/386 [07:07<16:27,  3.37s/it]"
     ]
    },
    {
     "name": "stdout",
     "output_type": "stream",
     "text": [
      "2025-04-29 15:03:11,395 [INFO] HTTP Request: POST https://api.openai.com/v1/chat/completions \"HTTP/1.1 200 OK\"\n",
      "2025-04-29 15:03:11,397 [INFO] ✅ 3df0b1fc0e0a445c8edcaddf3dd6ceb5 완료 → ../outputs/mesh_segmentation_output/CustomDataset/000-001/3df0b1fc0e0a445c8edcaddf3dd6ceb5/caption_gpt.txt\n"
     ]
    },
    {
     "name": "stderr",
     "output_type": "stream",
     "text": [
      "Captioning meshes:  24%|██▍       | 94/386 [07:11<16:51,  3.46s/it]"
     ]
    },
    {
     "name": "stdout",
     "output_type": "stream",
     "text": [
      "2025-04-29 15:03:15,252 [INFO] HTTP Request: POST https://api.openai.com/v1/chat/completions \"HTTP/1.1 200 OK\"\n",
      "2025-04-29 15:03:15,254 [INFO] ✅ 3e586d9c13214edc834f730df93d5baf 완료 → ../outputs/mesh_segmentation_output/CustomDataset/000-001/3e586d9c13214edc834f730df93d5baf/caption_gpt.txt\n"
     ]
    },
    {
     "name": "stderr",
     "output_type": "stream",
     "text": [
      "Captioning meshes:  25%|██▍       | 95/386 [07:15<17:16,  3.56s/it]"
     ]
    },
    {
     "name": "stdout",
     "output_type": "stream",
     "text": [
      "2025-04-29 15:03:19,504 [INFO] HTTP Request: POST https://api.openai.com/v1/chat/completions \"HTTP/1.1 200 OK\"\n",
      "2025-04-29 15:03:19,506 [INFO] ✅ 3e767106d0c84082952eb97a46e41747 완료 → ../outputs/mesh_segmentation_output/CustomDataset/000-001/3e767106d0c84082952eb97a46e41747/caption_gpt.txt\n"
     ]
    },
    {
     "name": "stderr",
     "output_type": "stream",
     "text": [
      "Captioning meshes:  25%|██▍       | 96/386 [07:19<18:04,  3.74s/it]"
     ]
    },
    {
     "name": "stdout",
     "output_type": "stream",
     "text": [
      "2025-04-29 15:03:24,432 [INFO] HTTP Request: POST https://api.openai.com/v1/chat/completions \"HTTP/1.1 200 OK\"\n",
      "2025-04-29 15:03:24,434 [INFO] ✅ 3ec565efd1be4edd9049f65bfdfa720e 완료 → ../outputs/mesh_segmentation_output/CustomDataset/000-001/3ec565efd1be4edd9049f65bfdfa720e/caption_gpt.txt\n"
     ]
    },
    {
     "name": "stderr",
     "output_type": "stream",
     "text": [
      "Captioning meshes:  25%|██▌       | 97/386 [07:24<19:33,  4.06s/it]"
     ]
    },
    {
     "name": "stdout",
     "output_type": "stream",
     "text": [
      "2025-04-29 15:03:29,459 [INFO] HTTP Request: POST https://api.openai.com/v1/chat/completions \"HTTP/1.1 200 OK\"\n",
      "2025-04-29 15:03:29,461 [INFO] ✅ 3ed33f66888447e78274e558db3ea921 완료 → ../outputs/mesh_segmentation_output/CustomDataset/000-001/3ed33f66888447e78274e558db3ea921/caption_gpt.txt\n"
     ]
    },
    {
     "name": "stderr",
     "output_type": "stream",
     "text": [
      "Captioning meshes:  25%|██▌       | 98/386 [07:29<20:46,  4.33s/it]"
     ]
    },
    {
     "name": "stdout",
     "output_type": "stream",
     "text": [
      "2025-04-29 15:03:34,998 [INFO] HTTP Request: POST https://api.openai.com/v1/chat/completions \"HTTP/1.1 200 OK\"\n",
      "2025-04-29 15:03:35,000 [INFO] ✅ 3eea5f34bc6f4530bacefb7acb0b2bd3 완료 → ../outputs/mesh_segmentation_output/CustomDataset/000-001/3eea5f34bc6f4530bacefb7acb0b2bd3/caption_gpt.txt\n"
     ]
    },
    {
     "name": "stderr",
     "output_type": "stream",
     "text": [
      "Captioning meshes:  26%|██▌       | 99/386 [07:34<22:21,  4.67s/it]"
     ]
    },
    {
     "name": "stdout",
     "output_type": "stream",
     "text": [
      "2025-04-29 15:03:44,342 [INFO] HTTP Request: POST https://api.openai.com/v1/chat/completions \"HTTP/1.1 200 OK\"\n",
      "2025-04-29 15:03:44,345 [INFO] ✅ 3eff3a5b79a44aabb429046de29efc84 완료 → ../outputs/mesh_segmentation_output/CustomDataset/000-001/3eff3a5b79a44aabb429046de29efc84/caption_gpt.txt\n"
     ]
    },
    {
     "name": "stderr",
     "output_type": "stream",
     "text": [
      "Captioning meshes:  26%|██▌       | 100/386 [07:44<28:42,  6.02s/it]"
     ]
    },
    {
     "name": "stdout",
     "output_type": "stream",
     "text": [
      "2025-04-29 15:03:49,341 [INFO] HTTP Request: POST https://api.openai.com/v1/chat/completions \"HTTP/1.1 200 OK\"\n",
      "2025-04-29 15:03:49,343 [INFO] ✅ 3f13ca8b3d094b498e9aa1c3e3479ad9 완료 → ../outputs/mesh_segmentation_output/CustomDataset/000-001/3f13ca8b3d094b498e9aa1c3e3479ad9/caption_gpt.txt\n"
     ]
    },
    {
     "name": "stderr",
     "output_type": "stream",
     "text": [
      "Captioning meshes:  26%|██▌       | 101/386 [07:49<27:11,  5.72s/it]"
     ]
    },
    {
     "name": "stdout",
     "output_type": "stream",
     "text": [
      "2025-04-29 15:03:55,296 [INFO] HTTP Request: POST https://api.openai.com/v1/chat/completions \"HTTP/1.1 200 OK\"\n",
      "2025-04-29 15:03:55,299 [INFO] ✅ 3f521cf2d2204bd095c4fce86c384846 완료 → ../outputs/mesh_segmentation_output/CustomDataset/000-001/3f521cf2d2204bd095c4fce86c384846/caption_gpt.txt\n"
     ]
    },
    {
     "name": "stderr",
     "output_type": "stream",
     "text": [
      "Captioning meshes:  26%|██▋       | 102/386 [07:55<27:24,  5.79s/it]"
     ]
    },
    {
     "name": "stdout",
     "output_type": "stream",
     "text": [
      "2025-04-29 15:03:59,361 [INFO] HTTP Request: POST https://api.openai.com/v1/chat/completions \"HTTP/1.1 200 OK\"\n",
      "2025-04-29 15:03:59,363 [INFO] ✅ 41e3852ac9924dc3a934f90b16aba717 완료 → ../outputs/mesh_segmentation_output/CustomDataset/000-001/41e3852ac9924dc3a934f90b16aba717/caption_gpt.txt\n"
     ]
    },
    {
     "name": "stderr",
     "output_type": "stream",
     "text": [
      "Captioning meshes:  27%|██▋       | 103/386 [07:59<24:54,  5.28s/it]"
     ]
    },
    {
     "name": "stdout",
     "output_type": "stream",
     "text": [
      "2025-04-29 15:04:04,771 [INFO] HTTP Request: POST https://api.openai.com/v1/chat/completions \"HTTP/1.1 200 OK\"\n",
      "2025-04-29 15:04:04,774 [INFO] ✅ 42b7b600bf334853839248949a7c7d27 완료 → ../outputs/mesh_segmentation_output/CustomDataset/000-001/42b7b600bf334853839248949a7c7d27/caption_gpt.txt\n"
     ]
    },
    {
     "name": "stderr",
     "output_type": "stream",
     "text": [
      "Captioning meshes:  27%|██▋       | 104/386 [08:04<24:59,  5.32s/it]"
     ]
    },
    {
     "name": "stdout",
     "output_type": "stream",
     "text": [
      "2025-04-29 15:04:08,875 [INFO] HTTP Request: POST https://api.openai.com/v1/chat/completions \"HTTP/1.1 200 OK\"\n",
      "2025-04-29 15:04:08,877 [INFO] ✅ 43e15221a2994aa980fbe56daaffa0b8 완료 → ../outputs/mesh_segmentation_output/CustomDataset/000-001/43e15221a2994aa980fbe56daaffa0b8/caption_gpt.txt\n"
     ]
    },
    {
     "name": "stderr",
     "output_type": "stream",
     "text": [
      "Captioning meshes:  27%|██▋       | 105/386 [08:08<23:12,  4.96s/it]"
     ]
    },
    {
     "name": "stdout",
     "output_type": "stream",
     "text": [
      "2025-04-29 15:04:13,303 [INFO] HTTP Request: POST https://api.openai.com/v1/chat/completions \"HTTP/1.1 200 OK\"\n",
      "2025-04-29 15:04:13,305 [INFO] ✅ 458185b7406a47cc92253b13107ebd28 완료 → ../outputs/mesh_segmentation_output/CustomDataset/000-001/458185b7406a47cc92253b13107ebd28/caption_gpt.txt\n"
     ]
    },
    {
     "name": "stderr",
     "output_type": "stream",
     "text": [
      "Captioning meshes:  27%|██▋       | 106/386 [08:13<22:23,  4.80s/it]"
     ]
    },
    {
     "name": "stdout",
     "output_type": "stream",
     "text": [
      "2025-04-29 15:04:16,471 [INFO] HTTP Request: POST https://api.openai.com/v1/chat/completions \"HTTP/1.1 200 OK\"\n",
      "2025-04-29 15:04:16,473 [INFO] ✅ 45903dddee634c8780f24cc9489476a7 완료 → ../outputs/mesh_segmentation_output/CustomDataset/000-001/45903dddee634c8780f24cc9489476a7/caption_gpt.txt\n"
     ]
    },
    {
     "name": "stderr",
     "output_type": "stream",
     "text": [
      "Captioning meshes:  28%|██▊       | 107/386 [08:16<20:02,  4.31s/it]"
     ]
    },
    {
     "name": "stdout",
     "output_type": "stream",
     "text": [
      "2025-04-29 15:04:19,250 [INFO] HTTP Request: POST https://api.openai.com/v1/chat/completions \"HTTP/1.1 200 OK\"\n",
      "2025-04-29 15:04:19,252 [INFO] ✅ 45f30ddecc25406fabbfb12fdda60a33 완료 → ../outputs/mesh_segmentation_output/CustomDataset/000-001/45f30ddecc25406fabbfb12fdda60a33/caption_gpt.txt\n"
     ]
    },
    {
     "name": "stderr",
     "output_type": "stream",
     "text": [
      "Captioning meshes:  28%|██▊       | 108/386 [08:19<17:50,  3.85s/it]"
     ]
    },
    {
     "name": "stdout",
     "output_type": "stream",
     "text": [
      "2025-04-29 15:04:24,569 [INFO] HTTP Request: POST https://api.openai.com/v1/chat/completions \"HTTP/1.1 200 OK\"\n",
      "2025-04-29 15:04:24,571 [INFO] ✅ 4651999097d54772a159869789b8d36d 완료 → ../outputs/mesh_segmentation_output/CustomDataset/000-001/4651999097d54772a159869789b8d36d/caption_gpt.txt\n"
     ]
    },
    {
     "name": "stderr",
     "output_type": "stream",
     "text": [
      "Captioning meshes:  28%|██▊       | 109/386 [08:24<19:48,  4.29s/it]"
     ]
    },
    {
     "name": "stdout",
     "output_type": "stream",
     "text": [
      "2025-04-29 15:04:27,507 [INFO] HTTP Request: POST https://api.openai.com/v1/chat/completions \"HTTP/1.1 200 OK\"\n",
      "2025-04-29 15:04:27,509 [INFO] ✅ 46e64593c4234183b3b00391fc960415 완료 → ../outputs/mesh_segmentation_output/CustomDataset/000-001/46e64593c4234183b3b00391fc960415/caption_gpt.txt\n"
     ]
    },
    {
     "name": "stderr",
     "output_type": "stream",
     "text": [
      "Captioning meshes:  28%|██▊       | 110/386 [08:27<17:52,  3.89s/it]"
     ]
    },
    {
     "name": "stdout",
     "output_type": "stream",
     "text": [
      "2025-04-29 15:04:30,182 [INFO] HTTP Request: POST https://api.openai.com/v1/chat/completions \"HTTP/1.1 200 OK\"\n",
      "2025-04-29 15:04:30,185 [INFO] ✅ 48d3782909204430b57a36e1e3f922f2 완료 → ../outputs/mesh_segmentation_output/CustomDataset/000-001/48d3782909204430b57a36e1e3f922f2/caption_gpt.txt\n"
     ]
    },
    {
     "name": "stderr",
     "output_type": "stream",
     "text": [
      "Captioning meshes:  29%|██▉       | 111/386 [08:29<16:08,  3.52s/it]"
     ]
    },
    {
     "name": "stdout",
     "output_type": "stream",
     "text": [
      "2025-04-29 15:04:34,130 [INFO] HTTP Request: POST https://api.openai.com/v1/chat/completions \"HTTP/1.1 200 OK\"\n",
      "2025-04-29 15:04:34,132 [INFO] ✅ 48edfbeeb7224975a8f333742b497b2a 완료 → ../outputs/mesh_segmentation_output/CustomDataset/000-001/48edfbeeb7224975a8f333742b497b2a/caption_gpt.txt\n"
     ]
    },
    {
     "name": "stderr",
     "output_type": "stream",
     "text": [
      "Captioning meshes:  29%|██▉       | 112/386 [08:33<16:40,  3.65s/it]"
     ]
    },
    {
     "name": "stdout",
     "output_type": "stream",
     "text": [
      "2025-04-29 15:04:36,816 [INFO] HTTP Request: POST https://api.openai.com/v1/chat/completions \"HTTP/1.1 200 OK\"\n",
      "2025-04-29 15:04:36,818 [INFO] ✅ 49286b9e4a8e475fb609047fea0ac23b 완료 → ../outputs/mesh_segmentation_output/CustomDataset/000-001/49286b9e4a8e475fb609047fea0ac23b/caption_gpt.txt\n"
     ]
    },
    {
     "name": "stderr",
     "output_type": "stream",
     "text": [
      "Captioning meshes:  29%|██▉       | 113/386 [08:36<15:17,  3.36s/it]"
     ]
    },
    {
     "name": "stdout",
     "output_type": "stream",
     "text": [
      "2025-04-29 15:04:41,813 [INFO] HTTP Request: POST https://api.openai.com/v1/chat/completions \"HTTP/1.1 200 OK\"\n",
      "2025-04-29 15:04:41,815 [INFO] ✅ 492bd30091ce4c1c92ba5e9eba08d2b4 완료 → ../outputs/mesh_segmentation_output/CustomDataset/000-001/492bd30091ce4c1c92ba5e9eba08d2b4/caption_gpt.txt\n"
     ]
    },
    {
     "name": "stderr",
     "output_type": "stream",
     "text": [
      "Captioning meshes:  30%|██▉       | 114/386 [08:41<17:27,  3.85s/it]"
     ]
    },
    {
     "name": "stdout",
     "output_type": "stream",
     "text": [
      "2025-04-29 15:04:46,784 [INFO] HTTP Request: POST https://api.openai.com/v1/chat/completions \"HTTP/1.1 200 OK\"\n",
      "2025-04-29 15:04:46,787 [INFO] ✅ 4aa1d289257141718be9e98a4f529875 완료 → ../outputs/mesh_segmentation_output/CustomDataset/000-001/4aa1d289257141718be9e98a4f529875/caption_gpt.txt\n"
     ]
    },
    {
     "name": "stderr",
     "output_type": "stream",
     "text": [
      "Captioning meshes:  30%|██▉       | 115/386 [08:46<18:54,  4.19s/it]"
     ]
    },
    {
     "name": "stdout",
     "output_type": "stream",
     "text": [
      "2025-04-29 15:04:46,788 [WARNING] ⚠️  4bc2df827792477f9b97d94f8fb3468f: 필요한 이미지 파일이 존재하지 않음\n",
      "2025-04-29 15:04:46,789 [WARNING] ⚠️  4cea928e4b0e4bb5a511d39748288112: 필요한 이미지 파일이 존재하지 않음\n",
      "2025-04-29 15:04:50,862 [INFO] HTTP Request: POST https://api.openai.com/v1/chat/completions \"HTTP/1.1 200 OK\"\n",
      "2025-04-29 15:04:50,864 [INFO] ✅ 4d4b59e8293849a3bf79486a171b187a 완료 → ../outputs/mesh_segmentation_output/CustomDataset/000-001/4d4b59e8293849a3bf79486a171b187a/caption_gpt.txt\n"
     ]
    },
    {
     "name": "stderr",
     "output_type": "stream",
     "text": [
      "Captioning meshes:  31%|███       | 118/386 [08:50<11:35,  2.60s/it]"
     ]
    },
    {
     "name": "stdout",
     "output_type": "stream",
     "text": [
      "2025-04-29 15:04:55,958 [INFO] HTTP Request: POST https://api.openai.com/v1/chat/completions \"HTTP/1.1 200 OK\"\n",
      "2025-04-29 15:04:55,960 [INFO] ✅ 4d5bccc256794a9398404457cf087385 완료 → ../outputs/mesh_segmentation_output/CustomDataset/000-001/4d5bccc256794a9398404457cf087385/caption_gpt.txt\n"
     ]
    },
    {
     "name": "stderr",
     "output_type": "stream",
     "text": [
      "Captioning meshes:  31%|███       | 119/386 [08:55<13:54,  3.12s/it]"
     ]
    },
    {
     "name": "stdout",
     "output_type": "stream",
     "text": [
      "2025-04-29 15:04:59,152 [INFO] HTTP Request: POST https://api.openai.com/v1/chat/completions \"HTTP/1.1 200 OK\"\n",
      "2025-04-29 15:04:59,154 [INFO] ✅ 4ef4122011094310b3e8e415782d12da 완료 → ../outputs/mesh_segmentation_output/CustomDataset/000-001/4ef4122011094310b3e8e415782d12da/caption_gpt.txt\n"
     ]
    },
    {
     "name": "stderr",
     "output_type": "stream",
     "text": [
      "Captioning meshes:  31%|███       | 120/386 [08:58<13:55,  3.14s/it]"
     ]
    },
    {
     "name": "stdout",
     "output_type": "stream",
     "text": [
      "2025-04-29 15:05:04,153 [INFO] HTTP Request: POST https://api.openai.com/v1/chat/completions \"HTTP/1.1 200 OK\"\n",
      "2025-04-29 15:05:04,155 [INFO] ✅ 4fa9146b3f5b4891b33633265f81e11d 완료 → ../outputs/mesh_segmentation_output/CustomDataset/000-001/4fa9146b3f5b4891b33633265f81e11d/caption_gpt.txt\n"
     ]
    },
    {
     "name": "stderr",
     "output_type": "stream",
     "text": [
      "Captioning meshes:  31%|███▏      | 121/386 [09:03<15:54,  3.60s/it]"
     ]
    },
    {
     "name": "stdout",
     "output_type": "stream",
     "text": [
      "2025-04-29 15:05:06,604 [INFO] HTTP Request: POST https://api.openai.com/v1/chat/completions \"HTTP/1.1 200 OK\"\n",
      "2025-04-29 15:05:06,606 [INFO] ✅ 505974221fd7432489ffbfd275958f83 완료 → ../outputs/mesh_segmentation_output/CustomDataset/000-001/505974221fd7432489ffbfd275958f83/caption_gpt.txt\n"
     ]
    },
    {
     "name": "stderr",
     "output_type": "stream",
     "text": [
      "Captioning meshes:  32%|███▏      | 122/386 [09:06<14:31,  3.30s/it]"
     ]
    },
    {
     "name": "stdout",
     "output_type": "stream",
     "text": [
      "2025-04-29 15:05:13,050 [INFO] HTTP Request: POST https://api.openai.com/v1/chat/completions \"HTTP/1.1 200 OK\"\n",
      "2025-04-29 15:05:13,052 [INFO] ✅ 50bebc0dc9324f08bf366d12ed42a6f6 완료 → ../outputs/mesh_segmentation_output/CustomDataset/000-001/50bebc0dc9324f08bf366d12ed42a6f6/caption_gpt.txt\n"
     ]
    },
    {
     "name": "stderr",
     "output_type": "stream",
     "text": [
      "Captioning meshes:  32%|███▏      | 123/386 [09:12<18:13,  4.16s/it]"
     ]
    },
    {
     "name": "stdout",
     "output_type": "stream",
     "text": [
      "2025-04-29 15:05:17,387 [INFO] HTTP Request: POST https://api.openai.com/v1/chat/completions \"HTTP/1.1 200 OK\"\n",
      "2025-04-29 15:05:17,390 [INFO] ✅ 50f5028f64b34fd39bfe2ded0ac21464 완료 → ../outputs/mesh_segmentation_output/CustomDataset/000-001/50f5028f64b34fd39bfe2ded0ac21464/caption_gpt.txt\n"
     ]
    },
    {
     "name": "stderr",
     "output_type": "stream",
     "text": [
      "Captioning meshes:  32%|███▏      | 124/386 [09:17<18:22,  4.21s/it]"
     ]
    },
    {
     "name": "stdout",
     "output_type": "stream",
     "text": [
      "2025-04-29 15:05:21,183 [INFO] HTTP Request: POST https://api.openai.com/v1/chat/completions \"HTTP/1.1 200 OK\"\n",
      "2025-04-29 15:05:21,185 [INFO] ✅ 510bece0bc46428593d847816b036743 완료 → ../outputs/mesh_segmentation_output/CustomDataset/000-001/510bece0bc46428593d847816b036743/caption_gpt.txt\n"
     ]
    },
    {
     "name": "stderr",
     "output_type": "stream",
     "text": [
      "Captioning meshes:  32%|███▏      | 125/386 [09:20<17:47,  4.09s/it]"
     ]
    },
    {
     "name": "stdout",
     "output_type": "stream",
     "text": [
      "2025-04-29 15:05:21,186 [WARNING] ⚠️  519d58fdd62143c4a01714fd05d0d1bb: 필요한 이미지 파일이 존재하지 않음\n",
      "2025-04-29 15:05:26,262 [INFO] HTTP Request: POST https://api.openai.com/v1/chat/completions \"HTTP/1.1 200 OK\"\n",
      "2025-04-29 15:05:26,264 [INFO] ✅ 52f93d1a80ef490eadb55c53450e4330 완료 → ../outputs/mesh_segmentation_output/CustomDataset/000-001/52f93d1a80ef490eadb55c53450e4330/caption_gpt.txt\n"
     ]
    },
    {
     "name": "stderr",
     "output_type": "stream",
     "text": [
      "Captioning meshes:  33%|███▎      | 127/386 [09:26<14:38,  3.39s/it]"
     ]
    },
    {
     "name": "stdout",
     "output_type": "stream",
     "text": [
      "2025-04-29 15:05:31,641 [INFO] HTTP Request: POST https://api.openai.com/v1/chat/completions \"HTTP/1.1 200 OK\"\n",
      "2025-04-29 15:05:31,643 [INFO] ✅ 53175cae1e8147608a89f23c0210a70d 완료 → ../outputs/mesh_segmentation_output/CustomDataset/000-001/53175cae1e8147608a89f23c0210a70d/caption_gpt.txt\n"
     ]
    },
    {
     "name": "stderr",
     "output_type": "stream",
     "text": [
      "Captioning meshes:  33%|███▎      | 128/386 [09:31<16:39,  3.88s/it]"
     ]
    },
    {
     "name": "stdout",
     "output_type": "stream",
     "text": [
      "2025-04-29 15:05:40,365 [INFO] HTTP Request: POST https://api.openai.com/v1/chat/completions \"HTTP/1.1 200 OK\"\n",
      "2025-04-29 15:05:40,380 [INFO] ✅ 54ea03d661e64b279c7666f2212f3849 완료 → ../outputs/mesh_segmentation_output/CustomDataset/000-001/54ea03d661e64b279c7666f2212f3849/caption_gpt.txt\n"
     ]
    },
    {
     "name": "stderr",
     "output_type": "stream",
     "text": [
      "Captioning meshes:  33%|███▎      | 129/386 [09:40<21:58,  5.13s/it]"
     ]
    },
    {
     "name": "stdout",
     "output_type": "stream",
     "text": [
      "2025-04-29 15:05:47,914 [INFO] HTTP Request: POST https://api.openai.com/v1/chat/completions \"HTTP/1.1 200 OK\"\n",
      "2025-04-29 15:05:47,916 [INFO] ✅ 560a713fa69942a591153c31b7229f05 완료 → ../outputs/mesh_segmentation_output/CustomDataset/000-001/560a713fa69942a591153c31b7229f05/caption_gpt.txt\n"
     ]
    },
    {
     "name": "stderr",
     "output_type": "stream",
     "text": [
      "Captioning meshes:  34%|███▎      | 130/386 [09:47<24:38,  5.78s/it]"
     ]
    },
    {
     "name": "stdout",
     "output_type": "stream",
     "text": [
      "2025-04-29 15:05:50,518 [INFO] HTTP Request: POST https://api.openai.com/v1/chat/completions \"HTTP/1.1 200 OK\"\n",
      "2025-04-29 15:05:50,520 [INFO] ✅ 56e22e2a79f24dc8bc6b36814c21ae45 완료 → ../outputs/mesh_segmentation_output/CustomDataset/000-001/56e22e2a79f24dc8bc6b36814c21ae45/caption_gpt.txt\n"
     ]
    },
    {
     "name": "stderr",
     "output_type": "stream",
     "text": [
      "Captioning meshes:  34%|███▍      | 131/386 [09:50<20:48,  4.90s/it]"
     ]
    },
    {
     "name": "stdout",
     "output_type": "stream",
     "text": [
      "2025-04-29 15:05:50,521 [WARNING] ⚠️  573aa6f62f224f4f8c00f597754f7fac: 필요한 이미지 파일이 존재하지 않음\n",
      "2025-04-29 15:05:54,767 [INFO] HTTP Request: POST https://api.openai.com/v1/chat/completions \"HTTP/1.1 200 OK\"\n",
      "2025-04-29 15:05:54,769 [INFO] ✅ 57852a6441c04bcf96d560aa2c804198 완료 → ../outputs/mesh_segmentation_output/CustomDataset/000-001/57852a6441c04bcf96d560aa2c804198/caption_gpt.txt\n"
     ]
    },
    {
     "name": "stderr",
     "output_type": "stream",
     "text": [
      "Captioning meshes:  34%|███▍      | 133/386 [09:54<15:28,  3.67s/it]"
     ]
    },
    {
     "name": "stdout",
     "output_type": "stream",
     "text": [
      "2025-04-29 15:05:58,611 [INFO] HTTP Request: POST https://api.openai.com/v1/chat/completions \"HTTP/1.1 200 OK\"\n",
      "2025-04-29 15:05:58,613 [INFO] ✅ 57a83124dc9b474890f888216f0f2e68 완료 → ../outputs/mesh_segmentation_output/CustomDataset/000-001/57a83124dc9b474890f888216f0f2e68/caption_gpt.txt\n"
     ]
    },
    {
     "name": "stderr",
     "output_type": "stream",
     "text": [
      "Captioning meshes:  35%|███▍      | 134/386 [09:58<15:35,  3.71s/it]"
     ]
    },
    {
     "name": "stdout",
     "output_type": "stream",
     "text": [
      "2025-04-29 15:06:02,752 [INFO] HTTP Request: POST https://api.openai.com/v1/chat/completions \"HTTP/1.1 200 OK\"\n",
      "2025-04-29 15:06:02,754 [INFO] ✅ 58b875eb8678462db567694f9537b79e 완료 → ../outputs/mesh_segmentation_output/CustomDataset/000-001/58b875eb8678462db567694f9537b79e/caption_gpt.txt\n"
     ]
    },
    {
     "name": "stderr",
     "output_type": "stream",
     "text": [
      "Captioning meshes:  35%|███▍      | 135/386 [10:02<15:59,  3.82s/it]"
     ]
    },
    {
     "name": "stdout",
     "output_type": "stream",
     "text": [
      "2025-04-29 15:06:06,744 [INFO] HTTP Request: POST https://api.openai.com/v1/chat/completions \"HTTP/1.1 200 OK\"\n",
      "2025-04-29 15:06:06,746 [INFO] ✅ 58d5532b8a8b4df2a4c814d5324a8991 완료 → ../outputs/mesh_segmentation_output/CustomDataset/000-001/58d5532b8a8b4df2a4c814d5324a8991/caption_gpt.txt\n"
     ]
    },
    {
     "name": "stderr",
     "output_type": "stream",
     "text": [
      "Captioning meshes:  35%|███▌      | 136/386 [10:06<16:06,  3.87s/it]"
     ]
    },
    {
     "name": "stdout",
     "output_type": "stream",
     "text": [
      "2025-04-29 15:06:06,747 [WARNING] ⚠️  59dcb731bbdb4680becb9a6b529b8da8: 필요한 이미지 파일이 존재하지 않음\n",
      "2025-04-29 15:06:10,826 [INFO] HTTP Request: POST https://api.openai.com/v1/chat/completions \"HTTP/1.1 200 OK\"\n",
      "2025-04-29 15:06:10,829 [INFO] ✅ 5a1c3385222a4f35b208faad2837c5c9 완료 → ../outputs/mesh_segmentation_output/CustomDataset/000-001/5a1c3385222a4f35b208faad2837c5c9/caption_gpt.txt\n"
     ]
    },
    {
     "name": "stderr",
     "output_type": "stream",
     "text": [
      "Captioning meshes:  36%|███▌      | 138/386 [10:10<12:42,  3.08s/it]"
     ]
    },
    {
     "name": "stdout",
     "output_type": "stream",
     "text": [
      "2025-04-29 15:06:14,924 [INFO] HTTP Request: POST https://api.openai.com/v1/chat/completions \"HTTP/1.1 200 OK\"\n",
      "2025-04-29 15:06:14,925 [INFO] ✅ 5a61e316fb174005815f3babcacc8042 완료 → ../outputs/mesh_segmentation_output/CustomDataset/000-001/5a61e316fb174005815f3babcacc8042/caption_gpt.txt\n"
     ]
    },
    {
     "name": "stderr",
     "output_type": "stream",
     "text": [
      "Captioning meshes:  36%|███▌      | 139/386 [10:14<13:39,  3.32s/it]"
     ]
    },
    {
     "name": "stdout",
     "output_type": "stream",
     "text": [
      "2025-04-29 15:06:21,640 [INFO] HTTP Request: POST https://api.openai.com/v1/chat/completions \"HTTP/1.1 200 OK\"\n",
      "2025-04-29 15:06:21,642 [INFO] ✅ 5c08fb77246c428791bb4f8786b7c459 완료 → ../outputs/mesh_segmentation_output/CustomDataset/000-001/5c08fb77246c428791bb4f8786b7c459/caption_gpt.txt\n"
     ]
    },
    {
     "name": "stderr",
     "output_type": "stream",
     "text": [
      "Captioning meshes:  36%|███▋      | 140/386 [10:21<17:07,  4.18s/it]"
     ]
    },
    {
     "name": "stdout",
     "output_type": "stream",
     "text": [
      "2025-04-29 15:06:26,110 [INFO] HTTP Request: POST https://api.openai.com/v1/chat/completions \"HTTP/1.1 200 OK\"\n",
      "2025-04-29 15:06:26,112 [INFO] ✅ 5c5c025cf5d44bbab38f4ced155ab964 완료 → ../outputs/mesh_segmentation_output/CustomDataset/000-001/5c5c025cf5d44bbab38f4ced155ab964/caption_gpt.txt\n"
     ]
    },
    {
     "name": "stderr",
     "output_type": "stream",
     "text": [
      "Captioning meshes:  37%|███▋      | 141/386 [10:25<17:22,  4.25s/it]"
     ]
    },
    {
     "name": "stdout",
     "output_type": "stream",
     "text": [
      "2025-04-29 15:06:26,113 [WARNING] ⚠️  5d44341ef9ae4b8cb1af1324fc0d6e9b: 필요한 이미지 파일이 존재하지 않음\n",
      "2025-04-29 15:06:30,889 [INFO] HTTP Request: POST https://api.openai.com/v1/chat/completions \"HTTP/1.1 200 OK\"\n",
      "2025-04-29 15:06:30,891 [INFO] ✅ 5dc497e73e0d4d39b69433fc8df48ea1 완료 → ../outputs/mesh_segmentation_output/CustomDataset/000-001/5dc497e73e0d4d39b69433fc8df48ea1/caption_gpt.txt\n"
     ]
    },
    {
     "name": "stderr",
     "output_type": "stream",
     "text": [
      "Captioning meshes:  37%|███▋      | 143/386 [10:30<13:58,  3.45s/it]"
     ]
    },
    {
     "name": "stdout",
     "output_type": "stream",
     "text": [
      "2025-04-29 15:06:37,785 [INFO] HTTP Request: POST https://api.openai.com/v1/chat/completions \"HTTP/1.1 200 OK\"\n",
      "2025-04-29 15:06:37,787 [INFO] ✅ 5f3046e73046440d85d1b22786f87176 완료 → ../outputs/mesh_segmentation_output/CustomDataset/000-001/5f3046e73046440d85d1b22786f87176/caption_gpt.txt\n"
     ]
    },
    {
     "name": "stderr",
     "output_type": "stream",
     "text": [
      "Captioning meshes:  37%|███▋      | 144/386 [10:37<17:11,  4.26s/it]"
     ]
    },
    {
     "name": "stdout",
     "output_type": "stream",
     "text": [
      "2025-04-29 15:06:40,979 [INFO] HTTP Request: POST https://api.openai.com/v1/chat/completions \"HTTP/1.1 200 OK\"\n",
      "2025-04-29 15:06:40,981 [INFO] ✅ 5f707a6d106f46348b3b300addece2c0 완료 → ../outputs/mesh_segmentation_output/CustomDataset/000-001/5f707a6d106f46348b3b300addece2c0/caption_gpt.txt\n"
     ]
    },
    {
     "name": "stderr",
     "output_type": "stream",
     "text": [
      "Captioning meshes:  38%|███▊      | 145/386 [10:40<16:02,  3.99s/it]"
     ]
    },
    {
     "name": "stdout",
     "output_type": "stream",
     "text": [
      "2025-04-29 15:06:49,028 [INFO] HTTP Request: POST https://api.openai.com/v1/chat/completions \"HTTP/1.1 200 OK\"\n",
      "2025-04-29 15:06:49,030 [INFO] ✅ 5fb7bc32199e452dba9d297445d3d910 완료 → ../outputs/mesh_segmentation_output/CustomDataset/000-001/5fb7bc32199e452dba9d297445d3d910/caption_gpt.txt\n"
     ]
    },
    {
     "name": "stderr",
     "output_type": "stream",
     "text": [
      "Captioning meshes:  38%|███▊      | 146/386 [10:48<20:15,  5.07s/it]"
     ]
    },
    {
     "name": "stdout",
     "output_type": "stream",
     "text": [
      "2025-04-29 15:06:54,857 [INFO] HTTP Request: POST https://api.openai.com/v1/chat/completions \"HTTP/1.1 200 OK\"\n",
      "2025-04-29 15:06:54,859 [INFO] ✅ 600279806345437eb12bd29c1f40f52e 완료 → ../outputs/mesh_segmentation_output/CustomDataset/000-001/600279806345437eb12bd29c1f40f52e/caption_gpt.txt\n"
     ]
    },
    {
     "name": "stderr",
     "output_type": "stream",
     "text": [
      "Captioning meshes:  38%|███▊      | 147/386 [10:54<21:00,  5.27s/it]"
     ]
    },
    {
     "name": "stdout",
     "output_type": "stream",
     "text": [
      "2025-04-29 15:06:58,655 [INFO] HTTP Request: POST https://api.openai.com/v1/chat/completions \"HTTP/1.1 200 OK\"\n",
      "2025-04-29 15:06:58,657 [INFO] ✅ 61b48bdf1ad343f08360c8d380c3d71a 완료 → ../outputs/mesh_segmentation_output/CustomDataset/000-001/61b48bdf1ad343f08360c8d380c3d71a/caption_gpt.txt\n"
     ]
    },
    {
     "name": "stderr",
     "output_type": "stream",
     "text": [
      "Captioning meshes:  38%|███▊      | 148/386 [10:58<19:16,  4.86s/it]"
     ]
    },
    {
     "name": "stdout",
     "output_type": "stream",
     "text": [
      "2025-04-29 15:06:58,659 [WARNING] ⚠️  62ba4678b1b9416bb79222e3820194a3: 필요한 이미지 파일이 존재하지 않음\n",
      "2025-04-29 15:06:58,659 [WARNING] ⚠️  667c4c3a4a204f319c6246baa4c9db58: 필요한 이미지 파일이 존재하지 않음\n",
      "2025-04-29 15:07:03,486 [INFO] HTTP Request: POST https://api.openai.com/v1/chat/completions \"HTTP/1.1 200 OK\"\n",
      "2025-04-29 15:07:03,487 [INFO] ✅ 66c925685f0b4089bf931c40b75556ee 완료 → ../outputs/mesh_segmentation_output/CustomDataset/000-001/66c925685f0b4089bf931c40b75556ee/caption_gpt.txt\n"
     ]
    },
    {
     "name": "stderr",
     "output_type": "stream",
     "text": [
      "Captioning meshes:  39%|███▉      | 151/386 [11:03<12:04,  3.08s/it]"
     ]
    },
    {
     "name": "stdout",
     "output_type": "stream",
     "text": [
      "2025-04-29 15:07:06,952 [INFO] HTTP Request: POST https://api.openai.com/v1/chat/completions \"HTTP/1.1 200 OK\"\n",
      "2025-04-29 15:07:06,954 [INFO] ✅ 685261c2854140b2946ceac0ae56edab 완료 → ../outputs/mesh_segmentation_output/CustomDataset/000-001/685261c2854140b2946ceac0ae56edab/caption_gpt.txt\n"
     ]
    },
    {
     "name": "stderr",
     "output_type": "stream",
     "text": [
      "Captioning meshes:  39%|███▉      | 152/386 [11:06<12:19,  3.16s/it]"
     ]
    },
    {
     "name": "stdout",
     "output_type": "stream",
     "text": [
      "2025-04-29 15:07:06,955 [WARNING] ⚠️  68574a71a3844bb8a37eb1f53bb1dd0d: 필요한 이미지 파일이 존재하지 않음\n",
      "2025-04-29 15:07:11,527 [INFO] HTTP Request: POST https://api.openai.com/v1/chat/completions \"HTTP/1.1 200 OK\"\n",
      "2025-04-29 15:07:11,529 [INFO] ✅ 68da32f9a5764ecc94e114ff01000e49 완료 → ../outputs/mesh_segmentation_output/CustomDataset/000-001/68da32f9a5764ecc94e114ff01000e49/caption_gpt.txt\n"
     ]
    },
    {
     "name": "stderr",
     "output_type": "stream",
     "text": [
      "Captioning meshes:  40%|███▉      | 154/386 [11:11<10:58,  2.84s/it]"
     ]
    },
    {
     "name": "stdout",
     "output_type": "stream",
     "text": [
      "2025-04-29 15:07:15,286 [INFO] HTTP Request: POST https://api.openai.com/v1/chat/completions \"HTTP/1.1 200 OK\"\n",
      "2025-04-29 15:07:15,288 [INFO] ✅ 698099db7f4949a99d5c5f235ca133de 완료 → ../outputs/mesh_segmentation_output/CustomDataset/000-001/698099db7f4949a99d5c5f235ca133de/caption_gpt.txt\n"
     ]
    },
    {
     "name": "stderr",
     "output_type": "stream",
     "text": [
      "Captioning meshes:  40%|████      | 155/386 [11:15<11:40,  3.03s/it]"
     ]
    },
    {
     "name": "stdout",
     "output_type": "stream",
     "text": [
      "2025-04-29 15:07:20,267 [INFO] HTTP Request: POST https://api.openai.com/v1/chat/completions \"HTTP/1.1 200 OK\"\n",
      "2025-04-29 15:07:20,269 [INFO] ✅ 6a395ec979ef4493b8166f022062eb8d 완료 → ../outputs/mesh_segmentation_output/CustomDataset/000-001/6a395ec979ef4493b8166f022062eb8d/caption_gpt.txt\n"
     ]
    },
    {
     "name": "stderr",
     "output_type": "stream",
     "text": [
      "Captioning meshes:  40%|████      | 156/386 [11:20<13:20,  3.48s/it]"
     ]
    },
    {
     "name": "stdout",
     "output_type": "stream",
     "text": [
      "2025-04-29 15:07:20,270 [WARNING] ⚠️  6a9a1f4a86df4d6c83879e301eb87d2b: 필요한 이미지 파일이 존재하지 않음\n",
      "2025-04-29 15:07:26,293 [INFO] HTTP Request: POST https://api.openai.com/v1/chat/completions \"HTTP/1.1 200 OK\"\n",
      "2025-04-29 15:07:26,295 [INFO] ✅ 6aea1dcd3ecd4e0b99775f558877472e 완료 → ../outputs/mesh_segmentation_output/CustomDataset/000-001/6aea1dcd3ecd4e0b99775f558877472e/caption_gpt.txt\n"
     ]
    },
    {
     "name": "stderr",
     "output_type": "stream",
     "text": [
      "Captioning meshes:  41%|████      | 158/386 [11:26<12:31,  3.29s/it]"
     ]
    },
    {
     "name": "stdout",
     "output_type": "stream",
     "text": [
      "2025-04-29 15:07:30,461 [INFO] HTTP Request: POST https://api.openai.com/v1/chat/completions \"HTTP/1.1 200 OK\"\n",
      "2025-04-29 15:07:30,464 [INFO] ✅ 6b053767e40e4bf98b3b5bc05eb8a0e4 완료 → ../outputs/mesh_segmentation_output/CustomDataset/000-001/6b053767e40e4bf98b3b5bc05eb8a0e4/caption_gpt.txt\n"
     ]
    },
    {
     "name": "stderr",
     "output_type": "stream",
     "text": [
      "Captioning meshes:  41%|████      | 159/386 [11:30<13:11,  3.49s/it]"
     ]
    },
    {
     "name": "stdout",
     "output_type": "stream",
     "text": [
      "2025-04-29 15:07:33,582 [INFO] HTTP Request: POST https://api.openai.com/v1/chat/completions \"HTTP/1.1 200 OK\"\n",
      "2025-04-29 15:07:33,584 [INFO] ✅ 6bb6a4c2df1547c79d571ba07c93b18a 완료 → ../outputs/mesh_segmentation_output/CustomDataset/000-001/6bb6a4c2df1547c79d571ba07c93b18a/caption_gpt.txt\n"
     ]
    },
    {
     "name": "stderr",
     "output_type": "stream",
     "text": [
      "Captioning meshes:  41%|████▏     | 160/386 [11:33<12:48,  3.40s/it]"
     ]
    },
    {
     "name": "stdout",
     "output_type": "stream",
     "text": [
      "2025-04-29 15:07:38,365 [INFO] HTTP Request: POST https://api.openai.com/v1/chat/completions \"HTTP/1.1 200 OK\"\n",
      "2025-04-29 15:07:38,367 [INFO] ✅ 6bd939a563384a278eed9ad2b0559970 완료 → ../outputs/mesh_segmentation_output/CustomDataset/000-001/6bd939a563384a278eed9ad2b0559970/caption_gpt.txt\n"
     ]
    },
    {
     "name": "stderr",
     "output_type": "stream",
     "text": [
      "Captioning meshes:  42%|████▏     | 161/386 [11:38<14:04,  3.75s/it]"
     ]
    },
    {
     "name": "stdout",
     "output_type": "stream",
     "text": [
      "2025-04-29 15:07:43,248 [INFO] HTTP Request: POST https://api.openai.com/v1/chat/completions \"HTTP/1.1 200 OK\"\n",
      "2025-04-29 15:07:43,251 [INFO] ✅ 6c83517d9cf04608abfaf019932588b1 완료 → ../outputs/mesh_segmentation_output/CustomDataset/000-001/6c83517d9cf04608abfaf019932588b1/caption_gpt.txt\n"
     ]
    },
    {
     "name": "stderr",
     "output_type": "stream",
     "text": [
      "Captioning meshes:  42%|████▏     | 162/386 [11:43<15:08,  4.05s/it]"
     ]
    },
    {
     "name": "stdout",
     "output_type": "stream",
     "text": [
      "2025-04-29 15:07:50,533 [INFO] HTTP Request: POST https://api.openai.com/v1/chat/completions \"HTTP/1.1 200 OK\"\n",
      "2025-04-29 15:07:50,535 [INFO] ✅ 6c9abf00d3ab452c94f25b3a0b5402ff 완료 → ../outputs/mesh_segmentation_output/CustomDataset/000-001/6c9abf00d3ab452c94f25b3a0b5402ff/caption_gpt.txt\n"
     ]
    },
    {
     "name": "stderr",
     "output_type": "stream",
     "text": [
      "Captioning meshes:  42%|████▏     | 163/386 [11:50<18:23,  4.95s/it]"
     ]
    },
    {
     "name": "stdout",
     "output_type": "stream",
     "text": [
      "2025-04-29 15:07:59,881 [INFO] HTTP Request: POST https://api.openai.com/v1/chat/completions \"HTTP/1.1 200 OK\"\n",
      "2025-04-29 15:07:59,883 [INFO] ✅ 6cda14331c9c401f8586ed9e93626594 완료 → ../outputs/mesh_segmentation_output/CustomDataset/000-001/6cda14331c9c401f8586ed9e93626594/caption_gpt.txt\n"
     ]
    },
    {
     "name": "stderr",
     "output_type": "stream",
     "text": [
      "Captioning meshes:  42%|████▏     | 164/386 [11:59<22:54,  6.19s/it]"
     ]
    },
    {
     "name": "stdout",
     "output_type": "stream",
     "text": [
      "2025-04-29 15:08:04,664 [INFO] HTTP Request: POST https://api.openai.com/v1/chat/completions \"HTTP/1.1 200 OK\"\n",
      "2025-04-29 15:08:04,666 [INFO] ✅ 6d3d7808e9364f19926f429fdd41facd 완료 → ../outputs/mesh_segmentation_output/CustomDataset/000-001/6d3d7808e9364f19926f429fdd41facd/caption_gpt.txt\n"
     ]
    },
    {
     "name": "stderr",
     "output_type": "stream",
     "text": [
      "Captioning meshes:  43%|████▎     | 165/386 [12:04<21:18,  5.79s/it]"
     ]
    },
    {
     "name": "stdout",
     "output_type": "stream",
     "text": [
      "2025-04-29 15:08:09,005 [INFO] HTTP Request: POST https://api.openai.com/v1/chat/completions \"HTTP/1.1 200 OK\"\n",
      "2025-04-29 15:08:09,008 [INFO] ✅ 6d72f7b9e29c4c8881989eb61b32780a 완료 → ../outputs/mesh_segmentation_output/CustomDataset/000-001/6d72f7b9e29c4c8881989eb61b32780a/caption_gpt.txt\n"
     ]
    },
    {
     "name": "stderr",
     "output_type": "stream",
     "text": [
      "Captioning meshes:  43%|████▎     | 166/386 [12:08<19:40,  5.37s/it]"
     ]
    },
    {
     "name": "stdout",
     "output_type": "stream",
     "text": [
      "2025-04-29 15:08:12,552 [INFO] HTTP Request: POST https://api.openai.com/v1/chat/completions \"HTTP/1.1 200 OK\"\n",
      "2025-04-29 15:08:12,554 [INFO] ✅ 6e9aa04fac3b4f1fb42601834308bce8 완료 → ../outputs/mesh_segmentation_output/CustomDataset/000-001/6e9aa04fac3b4f1fb42601834308bce8/caption_gpt.txt\n"
     ]
    },
    {
     "name": "stderr",
     "output_type": "stream",
     "text": [
      "Captioning meshes:  43%|████▎     | 167/386 [12:12<17:37,  4.83s/it]"
     ]
    },
    {
     "name": "stdout",
     "output_type": "stream",
     "text": [
      "2025-04-29 15:08:15,935 [INFO] HTTP Request: POST https://api.openai.com/v1/chat/completions \"HTTP/1.1 200 OK\"\n",
      "2025-04-29 15:08:15,938 [INFO] ✅ 6ff0a9a522de4380b0c60a4636bab78e 완료 → ../outputs/mesh_segmentation_output/CustomDataset/000-001/6ff0a9a522de4380b0c60a4636bab78e/caption_gpt.txt\n"
     ]
    },
    {
     "name": "stderr",
     "output_type": "stream",
     "text": [
      "Captioning meshes:  44%|████▎     | 168/386 [12:15<15:59,  4.40s/it]"
     ]
    },
    {
     "name": "stdout",
     "output_type": "stream",
     "text": [
      "2025-04-29 15:08:15,939 [WARNING] ⚠️  707aa0a7da6c4a1f9e146eb2badffa0f: 필요한 이미지 파일이 존재하지 않음\n",
      "2025-04-29 15:08:19,551 [INFO] HTTP Request: POST https://api.openai.com/v1/chat/completions \"HTTP/1.1 200 OK\"\n",
      "2025-04-29 15:08:19,556 [INFO] ✅ 70e7323e671e440b8013109b6b25469f 완료 → ../outputs/mesh_segmentation_output/CustomDataset/000-001/70e7323e671e440b8013109b6b25469f/caption_gpt.txt\n"
     ]
    },
    {
     "name": "stderr",
     "output_type": "stream",
     "text": [
      "Captioning meshes:  44%|████▍     | 170/386 [12:19<11:34,  3.22s/it]"
     ]
    },
    {
     "name": "stdout",
     "output_type": "stream",
     "text": [
      "2025-04-29 15:08:24,323 [INFO] HTTP Request: POST https://api.openai.com/v1/chat/completions \"HTTP/1.1 200 OK\"\n",
      "2025-04-29 15:08:24,325 [INFO] ✅ 71276f951fb74e77964328769bdf777a 완료 → ../outputs/mesh_segmentation_output/CustomDataset/000-001/71276f951fb74e77964328769bdf777a/caption_gpt.txt\n"
     ]
    },
    {
     "name": "stderr",
     "output_type": "stream",
     "text": [
      "Captioning meshes:  44%|████▍     | 171/386 [12:24<12:53,  3.60s/it]"
     ]
    },
    {
     "name": "stdout",
     "output_type": "stream",
     "text": [
      "2025-04-29 15:08:29,652 [INFO] HTTP Request: POST https://api.openai.com/v1/chat/completions \"HTTP/1.1 200 OK\"\n",
      "2025-04-29 15:08:29,654 [INFO] ✅ 71a5e9822d34435c8e6e61aa6cad4f80 완료 → ../outputs/mesh_segmentation_output/CustomDataset/000-001/71a5e9822d34435c8e6e61aa6cad4f80/caption_gpt.txt\n"
     ]
    },
    {
     "name": "stderr",
     "output_type": "stream",
     "text": [
      "Captioning meshes:  45%|████▍     | 172/386 [12:29<14:26,  4.05s/it]"
     ]
    },
    {
     "name": "stdout",
     "output_type": "stream",
     "text": [
      "2025-04-29 15:08:29,655 [WARNING] ⚠️  71d2d7acb9e54d08b9d64af477fe6c4e: 필요한 이미지 파일이 존재하지 않음\n",
      "2025-04-29 15:08:36,932 [INFO] HTTP Request: POST https://api.openai.com/v1/chat/completions \"HTTP/1.1 200 OK\"\n",
      "2025-04-29 15:08:36,934 [INFO] ✅ 7246e27308884293a96def4641d28576 완료 → ../outputs/mesh_segmentation_output/CustomDataset/000-001/7246e27308884293a96def4641d28576/caption_gpt.txt\n"
     ]
    },
    {
     "name": "stderr",
     "output_type": "stream",
     "text": [
      "Captioning meshes:  45%|████▌     | 174/386 [12:36<13:41,  3.87s/it]"
     ]
    },
    {
     "name": "stdout",
     "output_type": "stream",
     "text": [
      "2025-04-29 15:08:44,412 [INFO] HTTP Request: POST https://api.openai.com/v1/chat/completions \"HTTP/1.1 200 OK\"\n",
      "2025-04-29 15:08:44,414 [INFO] ✅ 7249963e05394044ba4a427e76e0ea19 완료 → ../outputs/mesh_segmentation_output/CustomDataset/000-001/7249963e05394044ba4a427e76e0ea19/caption_gpt.txt\n"
     ]
    },
    {
     "name": "stderr",
     "output_type": "stream",
     "text": [
      "Captioning meshes:  45%|████▌     | 175/386 [12:44<16:35,  4.72s/it]"
     ]
    },
    {
     "name": "stdout",
     "output_type": "stream",
     "text": [
      "2025-04-29 15:08:51,525 [INFO] HTTP Request: POST https://api.openai.com/v1/chat/completions \"HTTP/1.1 200 OK\"\n",
      "2025-04-29 15:08:51,527 [INFO] ✅ 7291e436c55046e8bffa54d31c631bc4 완료 → ../outputs/mesh_segmentation_output/CustomDataset/000-001/7291e436c55046e8bffa54d31c631bc4/caption_gpt.txt\n"
     ]
    },
    {
     "name": "stderr",
     "output_type": "stream",
     "text": [
      "Captioning meshes:  46%|████▌     | 176/386 [12:51<18:36,  5.32s/it]"
     ]
    },
    {
     "name": "stdout",
     "output_type": "stream",
     "text": [
      "2025-04-29 15:08:56,381 [INFO] HTTP Request: POST https://api.openai.com/v1/chat/completions \"HTTP/1.1 200 OK\"\n",
      "2025-04-29 15:08:56,383 [INFO] ✅ 7305099c395c4023ab7b3a695a65ca7c 완료 → ../outputs/mesh_segmentation_output/CustomDataset/000-001/7305099c395c4023ab7b3a695a65ca7c/caption_gpt.txt\n"
     ]
    },
    {
     "name": "stderr",
     "output_type": "stream",
     "text": [
      "Captioning meshes:  46%|████▌     | 177/386 [12:56<18:05,  5.19s/it]"
     ]
    },
    {
     "name": "stdout",
     "output_type": "stream",
     "text": [
      "2025-04-29 15:09:00,263 [INFO] HTTP Request: POST https://api.openai.com/v1/chat/completions \"HTTP/1.1 200 OK\"\n",
      "2025-04-29 15:09:00,266 [INFO] ✅ 731ea58fe0134704898b6ff0c5babae3 완료 → ../outputs/mesh_segmentation_output/CustomDataset/000-001/731ea58fe0134704898b6ff0c5babae3/caption_gpt.txt\n"
     ]
    },
    {
     "name": "stderr",
     "output_type": "stream",
     "text": [
      "Captioning meshes:  46%|████▌     | 178/386 [13:00<16:45,  4.84s/it]"
     ]
    },
    {
     "name": "stdout",
     "output_type": "stream",
     "text": [
      "2025-04-29 15:09:00,267 [WARNING] ⚠️  73db07b77eff460e94dc8441c894478f: 필요한 이미지 파일이 존재하지 않음\n",
      "2025-04-29 15:09:04,013 [INFO] HTTP Request: POST https://api.openai.com/v1/chat/completions \"HTTP/1.1 200 OK\"\n",
      "2025-04-29 15:09:04,015 [INFO] ✅ 73e8ee4fef614eb893f49ab5b9fa8a3c 완료 → ../outputs/mesh_segmentation_output/CustomDataset/000-001/73e8ee4fef614eb893f49ab5b9fa8a3c/caption_gpt.txt\n"
     ]
    },
    {
     "name": "stderr",
     "output_type": "stream",
     "text": [
      "Captioning meshes:  47%|████▋     | 180/386 [13:03<12:08,  3.54s/it]"
     ]
    },
    {
     "name": "stdout",
     "output_type": "stream",
     "text": [
      "2025-04-29 15:09:08,525 [INFO] HTTP Request: POST https://api.openai.com/v1/chat/completions \"HTTP/1.1 200 OK\"\n",
      "2025-04-29 15:09:08,527 [INFO] ✅ 74050f67cefe48cc92c4fae0050af666 완료 → ../outputs/mesh_segmentation_output/CustomDataset/000-001/74050f67cefe48cc92c4fae0050af666/caption_gpt.txt\n"
     ]
    },
    {
     "name": "stderr",
     "output_type": "stream",
     "text": [
      "Captioning meshes:  47%|████▋     | 181/386 [13:08<12:52,  3.77s/it]"
     ]
    },
    {
     "name": "stdout",
     "output_type": "stream",
     "text": [
      "2025-04-29 15:09:13,702 [INFO] HTTP Request: POST https://api.openai.com/v1/chat/completions \"HTTP/1.1 200 OK\"\n",
      "2025-04-29 15:09:13,704 [INFO] ✅ 748fa74001ab46b2b315c09ed8617481 완료 → ../outputs/mesh_segmentation_output/CustomDataset/000-001/748fa74001ab46b2b315c09ed8617481/caption_gpt.txt\n"
     ]
    },
    {
     "name": "stderr",
     "output_type": "stream",
     "text": [
      "Captioning meshes:  47%|████▋     | 182/386 [13:13<14:02,  4.13s/it]"
     ]
    },
    {
     "name": "stdout",
     "output_type": "stream",
     "text": [
      "2025-04-29 15:09:18,176 [INFO] HTTP Request: POST https://api.openai.com/v1/chat/completions \"HTTP/1.1 200 OK\"\n",
      "2025-04-29 15:09:18,178 [INFO] ✅ 755515287ea34be4af216f0155abbd18 완료 → ../outputs/mesh_segmentation_output/CustomDataset/000-001/755515287ea34be4af216f0155abbd18/caption_gpt.txt\n"
     ]
    },
    {
     "name": "stderr",
     "output_type": "stream",
     "text": [
      "Captioning meshes:  47%|████▋     | 183/386 [13:17<14:16,  4.22s/it]"
     ]
    },
    {
     "name": "stdout",
     "output_type": "stream",
     "text": [
      "2025-04-29 15:09:18,179 [WARNING] ⚠️  75f3c537d0df4766b4f7758e5c783683: 필요한 이미지 파일이 존재하지 않음\n",
      "2025-04-29 15:09:29,870 [INFO] HTTP Request: POST https://api.openai.com/v1/chat/completions \"HTTP/1.1 200 OK\"\n",
      "2025-04-29 15:09:29,872 [INFO] ✅ 76521c31800e4c0bb48dcfb6c8e2c71e 완료 → ../outputs/mesh_segmentation_output/CustomDataset/000-001/76521c31800e4c0bb48dcfb6c8e2c71e/caption_gpt.txt\n"
     ]
    },
    {
     "name": "stderr",
     "output_type": "stream",
     "text": [
      "Captioning meshes:  48%|████▊     | 185/386 [13:29<16:29,  4.92s/it]"
     ]
    },
    {
     "name": "stdout",
     "output_type": "stream",
     "text": [
      "2025-04-29 15:09:33,151 [INFO] HTTP Request: POST https://api.openai.com/v1/chat/completions \"HTTP/1.1 200 OK\"\n",
      "2025-04-29 15:09:33,153 [INFO] ✅ 77febde4ace244ec8912d876ccbfdb9c 완료 → ../outputs/mesh_segmentation_output/CustomDataset/000-001/77febde4ace244ec8912d876ccbfdb9c/caption_gpt.txt\n"
     ]
    },
    {
     "name": "stderr",
     "output_type": "stream",
     "text": [
      "Captioning meshes:  48%|████▊     | 186/386 [13:32<15:07,  4.54s/it]"
     ]
    },
    {
     "name": "stdout",
     "output_type": "stream",
     "text": [
      "2025-04-29 15:09:37,543 [INFO] HTTP Request: POST https://api.openai.com/v1/chat/completions \"HTTP/1.1 200 OK\"\n",
      "2025-04-29 15:09:37,545 [INFO] ✅ 7841645cca5b43c68ee4627f0df78268 완료 → ../outputs/mesh_segmentation_output/CustomDataset/000-001/7841645cca5b43c68ee4627f0df78268/caption_gpt.txt\n"
     ]
    },
    {
     "name": "stderr",
     "output_type": "stream",
     "text": [
      "Captioning meshes:  48%|████▊     | 187/386 [13:37<14:55,  4.50s/it]"
     ]
    },
    {
     "name": "stdout",
     "output_type": "stream",
     "text": [
      "2025-04-29 15:09:41,904 [INFO] HTTP Request: POST https://api.openai.com/v1/chat/completions \"HTTP/1.1 200 OK\"\n",
      "2025-04-29 15:09:41,906 [INFO] ✅ 78be36427ccb4a6ca733ca43a28b9dfc 완료 → ../outputs/mesh_segmentation_output/CustomDataset/000-001/78be36427ccb4a6ca733ca43a28b9dfc/caption_gpt.txt\n"
     ]
    },
    {
     "name": "stderr",
     "output_type": "stream",
     "text": [
      "Captioning meshes:  49%|████▊     | 188/386 [13:41<14:43,  4.46s/it]"
     ]
    },
    {
     "name": "stdout",
     "output_type": "stream",
     "text": [
      "2025-04-29 15:09:45,934 [INFO] HTTP Request: POST https://api.openai.com/v1/chat/completions \"HTTP/1.1 200 OK\"\n",
      "2025-04-29 15:09:45,936 [INFO] ✅ 78f5cdf452f54ec08866e0d87e584de6 완료 → ../outputs/mesh_segmentation_output/CustomDataset/000-001/78f5cdf452f54ec08866e0d87e584de6/caption_gpt.txt\n"
     ]
    },
    {
     "name": "stderr",
     "output_type": "stream",
     "text": [
      "Captioning meshes:  49%|████▉     | 189/386 [13:45<14:15,  4.34s/it]"
     ]
    },
    {
     "name": "stdout",
     "output_type": "stream",
     "text": [
      "2025-04-29 15:09:50,322 [INFO] HTTP Request: POST https://api.openai.com/v1/chat/completions \"HTTP/1.1 200 OK\"\n",
      "2025-04-29 15:09:50,325 [INFO] ✅ 795da835f86c4adebdc5c472d9d63b22 완료 → ../outputs/mesh_segmentation_output/CustomDataset/000-001/795da835f86c4adebdc5c472d9d63b22/caption_gpt.txt\n"
     ]
    },
    {
     "name": "stderr",
     "output_type": "stream",
     "text": [
      "Captioning meshes:  49%|████▉     | 190/386 [13:50<14:13,  4.36s/it]"
     ]
    },
    {
     "name": "stdout",
     "output_type": "stream",
     "text": [
      "2025-04-29 15:09:55,020 [INFO] HTTP Request: POST https://api.openai.com/v1/chat/completions \"HTTP/1.1 200 OK\"\n",
      "2025-04-29 15:09:55,022 [INFO] ✅ 79883b076e3f4ca6b5df77a9fe228549 완료 → ../outputs/mesh_segmentation_output/CustomDataset/000-001/79883b076e3f4ca6b5df77a9fe228549/caption_gpt.txt\n"
     ]
    },
    {
     "name": "stderr",
     "output_type": "stream",
     "text": [
      "Captioning meshes:  49%|████▉     | 191/386 [13:54<14:28,  4.45s/it]"
     ]
    },
    {
     "name": "stdout",
     "output_type": "stream",
     "text": [
      "2025-04-29 15:09:59,396 [INFO] HTTP Request: POST https://api.openai.com/v1/chat/completions \"HTTP/1.1 200 OK\"\n",
      "2025-04-29 15:09:59,398 [INFO] ✅ 7a3696a470ff45f7a0b0bf7785360522 완료 → ../outputs/mesh_segmentation_output/CustomDataset/000-001/7a3696a470ff45f7a0b0bf7785360522/caption_gpt.txt\n"
     ]
    },
    {
     "name": "stderr",
     "output_type": "stream",
     "text": [
      "Captioning meshes:  50%|████▉     | 192/386 [13:59<14:19,  4.43s/it]"
     ]
    },
    {
     "name": "stdout",
     "output_type": "stream",
     "text": [
      "2025-04-29 15:10:05,892 [INFO] HTTP Request: POST https://api.openai.com/v1/chat/completions \"HTTP/1.1 200 OK\"\n",
      "2025-04-29 15:10:05,894 [INFO] ✅ 7a46167ec0534c00ab14c8d73f186618 완료 → ../outputs/mesh_segmentation_output/CustomDataset/000-001/7a46167ec0534c00ab14c8d73f186618/caption_gpt.txt\n"
     ]
    },
    {
     "name": "stderr",
     "output_type": "stream",
     "text": [
      "Captioning meshes:  50%|█████     | 193/386 [14:05<16:12,  5.04s/it]"
     ]
    },
    {
     "name": "stdout",
     "output_type": "stream",
     "text": [
      "2025-04-29 15:10:09,557 [INFO] HTTP Request: POST https://api.openai.com/v1/chat/completions \"HTTP/1.1 200 OK\"\n",
      "2025-04-29 15:10:09,559 [INFO] ✅ 7b72436f60d14eb7b9e39d765f5e9ee2 완료 → ../outputs/mesh_segmentation_output/CustomDataset/000-001/7b72436f60d14eb7b9e39d765f5e9ee2/caption_gpt.txt\n"
     ]
    },
    {
     "name": "stderr",
     "output_type": "stream",
     "text": [
      "Captioning meshes:  50%|█████     | 194/386 [14:09<14:49,  4.63s/it]"
     ]
    },
    {
     "name": "stdout",
     "output_type": "stream",
     "text": [
      "2025-04-29 15:10:14,217 [INFO] HTTP Request: POST https://api.openai.com/v1/chat/completions \"HTTP/1.1 200 OK\"\n",
      "2025-04-29 15:10:14,219 [INFO] ✅ 7bf16a70f15a46108a9b6108623406bb 완료 → ../outputs/mesh_segmentation_output/CustomDataset/000-001/7bf16a70f15a46108a9b6108623406bb/caption_gpt.txt\n"
     ]
    },
    {
     "name": "stderr",
     "output_type": "stream",
     "text": [
      "Captioning meshes:  51%|█████     | 195/386 [14:13<14:46,  4.64s/it]"
     ]
    },
    {
     "name": "stdout",
     "output_type": "stream",
     "text": [
      "2025-04-29 15:10:14,221 [WARNING] ⚠️  7c4ce8f97abe48b2abfbfa6e1c9e1549: 필요한 이미지 파일이 존재하지 않음\n",
      "2025-04-29 15:10:14,221 [WARNING] ⚠️  7d7d6af93f424695b1a487a8455a8eac: 필요한 이미지 파일이 존재하지 않음\n",
      "2025-04-29 15:10:19,058 [INFO] HTTP Request: POST https://api.openai.com/v1/chat/completions \"HTTP/1.1 200 OK\"\n",
      "2025-04-29 15:10:19,060 [INFO] ✅ 7e47040f75b544a2897770d5812a921c 완료 → ../outputs/mesh_segmentation_output/CustomDataset/000-001/7e47040f75b544a2897770d5812a921c/caption_gpt.txt\n"
     ]
    },
    {
     "name": "stderr",
     "output_type": "stream",
     "text": [
      "Captioning meshes:  51%|█████▏    | 198/386 [14:18<09:13,  2.95s/it]"
     ]
    },
    {
     "name": "stdout",
     "output_type": "stream",
     "text": [
      "2025-04-29 15:10:23,784 [INFO] HTTP Request: POST https://api.openai.com/v1/chat/completions \"HTTP/1.1 200 OK\"\n",
      "2025-04-29 15:10:23,786 [INFO] ✅ 7ed462e278d6466a9c6605f88148e05c 완료 → ../outputs/mesh_segmentation_output/CustomDataset/000-001/7ed462e278d6466a9c6605f88148e05c/caption_gpt.txt\n"
     ]
    },
    {
     "name": "stderr",
     "output_type": "stream",
     "text": [
      "Captioning meshes:  52%|█████▏    | 199/386 [14:23<10:20,  3.32s/it]"
     ]
    },
    {
     "name": "stdout",
     "output_type": "stream",
     "text": [
      "2025-04-29 15:10:26,548 [INFO] HTTP Request: POST https://api.openai.com/v1/chat/completions \"HTTP/1.1 200 OK\"\n",
      "2025-04-29 15:10:26,550 [INFO] ✅ 7f3d135105f34f6fbb76813f339ff80e 완료 → ../outputs/mesh_segmentation_output/CustomDataset/000-001/7f3d135105f34f6fbb76813f339ff80e/caption_gpt.txt\n"
     ]
    },
    {
     "name": "stderr",
     "output_type": "stream",
     "text": [
      "Captioning meshes:  52%|█████▏    | 200/386 [14:26<09:53,  3.19s/it]"
     ]
    },
    {
     "name": "stdout",
     "output_type": "stream",
     "text": [
      "2025-04-29 15:10:29,861 [INFO] HTTP Request: POST https://api.openai.com/v1/chat/completions \"HTTP/1.1 200 OK\"\n",
      "2025-04-29 15:10:29,863 [INFO] ✅ 7fae301a40094a07a3740a42c650d601 완료 → ../outputs/mesh_segmentation_output/CustomDataset/000-001/7fae301a40094a07a3740a42c650d601/caption_gpt.txt\n"
     ]
    },
    {
     "name": "stderr",
     "output_type": "stream",
     "text": [
      "Captioning meshes:  52%|█████▏    | 201/386 [14:29<09:56,  3.22s/it]"
     ]
    },
    {
     "name": "stdout",
     "output_type": "stream",
     "text": [
      "2025-04-29 15:10:33,951 [INFO] HTTP Request: POST https://api.openai.com/v1/chat/completions \"HTTP/1.1 200 OK\"\n",
      "2025-04-29 15:10:33,953 [INFO] ✅ 7fe87a99a1a648a7980dc07bf0e65293 완료 → ../outputs/mesh_segmentation_output/CustomDataset/000-001/7fe87a99a1a648a7980dc07bf0e65293/caption_gpt.txt\n"
     ]
    },
    {
     "name": "stderr",
     "output_type": "stream",
     "text": [
      "Captioning meshes:  52%|█████▏    | 202/386 [14:33<10:34,  3.45s/it]"
     ]
    },
    {
     "name": "stdout",
     "output_type": "stream",
     "text": [
      "2025-04-29 15:10:37,849 [INFO] HTTP Request: POST https://api.openai.com/v1/chat/completions \"HTTP/1.1 200 OK\"\n",
      "2025-04-29 15:10:37,851 [INFO] ✅ 80495b43c0584622a7104d3ffc7c1dec 완료 → ../outputs/mesh_segmentation_output/CustomDataset/000-001/80495b43c0584622a7104d3ffc7c1dec/caption_gpt.txt\n"
     ]
    },
    {
     "name": "stderr",
     "output_type": "stream",
     "text": [
      "Captioning meshes:  53%|█████▎    | 203/386 [14:37<10:53,  3.57s/it]"
     ]
    },
    {
     "name": "stdout",
     "output_type": "stream",
     "text": [
      "2025-04-29 15:10:42,247 [INFO] HTTP Request: POST https://api.openai.com/v1/chat/completions \"HTTP/1.1 200 OK\"\n",
      "2025-04-29 15:10:42,249 [INFO] ✅ 8076201e081d4365a6400365af0a1412 완료 → ../outputs/mesh_segmentation_output/CustomDataset/000-001/8076201e081d4365a6400365af0a1412/caption_gpt.txt\n"
     ]
    },
    {
     "name": "stderr",
     "output_type": "stream",
     "text": [
      "Captioning meshes:  53%|█████▎    | 204/386 [14:41<11:32,  3.80s/it]"
     ]
    },
    {
     "name": "stdout",
     "output_type": "stream",
     "text": [
      "2025-04-29 15:10:47,079 [INFO] HTTP Request: POST https://api.openai.com/v1/chat/completions \"HTTP/1.1 200 OK\"\n",
      "2025-04-29 15:10:47,081 [INFO] ✅ 809c6288e3224d02bf86c2f658102389 완료 → ../outputs/mesh_segmentation_output/CustomDataset/000-001/809c6288e3224d02bf86c2f658102389/caption_gpt.txt\n"
     ]
    },
    {
     "name": "stderr",
     "output_type": "stream",
     "text": [
      "Captioning meshes:  53%|█████▎    | 205/386 [14:46<12:21,  4.10s/it]"
     ]
    },
    {
     "name": "stdout",
     "output_type": "stream",
     "text": [
      "2025-04-29 15:10:53,062 [INFO] HTTP Request: POST https://api.openai.com/v1/chat/completions \"HTTP/1.1 200 OK\"\n",
      "2025-04-29 15:10:53,064 [INFO] ✅ 813f78798f484035b8a923f5e3d3f095 완료 → ../outputs/mesh_segmentation_output/CustomDataset/000-001/813f78798f484035b8a923f5e3d3f095/caption_gpt.txt\n"
     ]
    },
    {
     "name": "stderr",
     "output_type": "stream",
     "text": [
      "Captioning meshes:  53%|█████▎    | 206/386 [14:52<13:55,  4.64s/it]"
     ]
    },
    {
     "name": "stdout",
     "output_type": "stream",
     "text": [
      "2025-04-29 15:10:57,934 [INFO] HTTP Request: POST https://api.openai.com/v1/chat/completions \"HTTP/1.1 200 OK\"\n",
      "2025-04-29 15:10:57,937 [INFO] ✅ 81553e5290354b8d91c6b771498197e6 완료 → ../outputs/mesh_segmentation_output/CustomDataset/000-001/81553e5290354b8d91c6b771498197e6/caption_gpt.txt\n"
     ]
    },
    {
     "name": "stderr",
     "output_type": "stream",
     "text": [
      "Captioning meshes:  54%|█████▎    | 207/386 [14:57<14:03,  4.71s/it]"
     ]
    },
    {
     "name": "stdout",
     "output_type": "stream",
     "text": [
      "2025-04-29 15:11:02,918 [INFO] HTTP Request: POST https://api.openai.com/v1/chat/completions \"HTTP/1.1 200 OK\"\n",
      "2025-04-29 15:11:02,920 [INFO] ✅ 81a839b8bc704c77ba49850b118cd258 완료 → ../outputs/mesh_segmentation_output/CustomDataset/000-001/81a839b8bc704c77ba49850b118cd258/caption_gpt.txt\n"
     ]
    },
    {
     "name": "stderr",
     "output_type": "stream",
     "text": [
      "Captioning meshes:  54%|█████▍    | 208/386 [15:02<14:12,  4.79s/it]"
     ]
    },
    {
     "name": "stdout",
     "output_type": "stream",
     "text": [
      "2025-04-29 15:11:08,089 [INFO] HTTP Request: POST https://api.openai.com/v1/chat/completions \"HTTP/1.1 200 OK\"\n",
      "2025-04-29 15:11:08,091 [INFO] ✅ 81c0d31599ce4cb598a8a41671638fa3 완료 → ../outputs/mesh_segmentation_output/CustomDataset/000-001/81c0d31599ce4cb598a8a41671638fa3/caption_gpt.txt\n"
     ]
    },
    {
     "name": "stderr",
     "output_type": "stream",
     "text": [
      "Captioning meshes:  54%|█████▍    | 209/386 [15:07<14:27,  4.90s/it]"
     ]
    },
    {
     "name": "stdout",
     "output_type": "stream",
     "text": [
      "2025-04-29 15:11:13,499 [INFO] HTTP Request: POST https://api.openai.com/v1/chat/completions \"HTTP/1.1 200 OK\"\n",
      "2025-04-29 15:11:13,501 [INFO] ✅ 82ddc641a5004cfeafc3782d79094846 완료 → ../outputs/mesh_segmentation_output/CustomDataset/000-001/82ddc641a5004cfeafc3782d79094846/caption_gpt.txt\n"
     ]
    },
    {
     "name": "stderr",
     "output_type": "stream",
     "text": [
      "Captioning meshes:  54%|█████▍    | 210/386 [15:13<14:49,  5.05s/it]"
     ]
    },
    {
     "name": "stdout",
     "output_type": "stream",
     "text": [
      "2025-04-29 15:11:17,470 [INFO] HTTP Request: POST https://api.openai.com/v1/chat/completions \"HTTP/1.1 200 OK\"\n",
      "2025-04-29 15:11:17,472 [INFO] ✅ 83bba4478761450e97826a64e48609e1 완료 → ../outputs/mesh_segmentation_output/CustomDataset/000-001/83bba4478761450e97826a64e48609e1/caption_gpt.txt\n"
     ]
    },
    {
     "name": "stderr",
     "output_type": "stream",
     "text": [
      "Captioning meshes:  55%|█████▍    | 211/386 [15:17<13:47,  4.73s/it]"
     ]
    },
    {
     "name": "stdout",
     "output_type": "stream",
     "text": [
      "2025-04-29 15:11:21,707 [INFO] HTTP Request: POST https://api.openai.com/v1/chat/completions \"HTTP/1.1 200 OK\"\n",
      "2025-04-29 15:11:21,709 [INFO] ✅ 84571a81bce246a0a6711618e65a612b 완료 → ../outputs/mesh_segmentation_output/CustomDataset/000-001/84571a81bce246a0a6711618e65a612b/caption_gpt.txt\n"
     ]
    },
    {
     "name": "stderr",
     "output_type": "stream",
     "text": [
      "Captioning meshes:  55%|█████▍    | 212/386 [15:21<13:17,  4.58s/it]"
     ]
    },
    {
     "name": "stdout",
     "output_type": "stream",
     "text": [
      "2025-04-29 15:11:25,307 [INFO] HTTP Request: POST https://api.openai.com/v1/chat/completions \"HTTP/1.1 200 OK\"\n",
      "2025-04-29 15:11:25,309 [INFO] ✅ 85189ed429f547c7a34ae61a81204ee3 완료 → ../outputs/mesh_segmentation_output/CustomDataset/000-001/85189ed429f547c7a34ae61a81204ee3/caption_gpt.txt\n"
     ]
    },
    {
     "name": "stderr",
     "output_type": "stream",
     "text": [
      "Captioning meshes:  55%|█████▌    | 213/386 [15:25<12:22,  4.29s/it]"
     ]
    },
    {
     "name": "stdout",
     "output_type": "stream",
     "text": [
      "2025-04-29 15:11:25,310 [WARNING] ⚠️  851c8d3ee5c04965b666d1e497afa8d4: 필요한 이미지 파일이 존재하지 않음\n",
      "2025-04-29 15:11:31,425 [INFO] HTTP Request: POST https://api.openai.com/v1/chat/completions \"HTTP/1.1 200 OK\"\n",
      "2025-04-29 15:11:31,427 [INFO] ✅ 855ccdc3eb114dd4be7913852acf73e0 완료 → ../outputs/mesh_segmentation_output/CustomDataset/000-001/855ccdc3eb114dd4be7913852acf73e0/caption_gpt.txt\n"
     ]
    },
    {
     "name": "stderr",
     "output_type": "stream",
     "text": [
      "Captioning meshes:  56%|█████▌    | 215/386 [15:31<10:36,  3.72s/it]"
     ]
    },
    {
     "name": "stdout",
     "output_type": "stream",
     "text": [
      "2025-04-29 15:11:34,753 [INFO] HTTP Request: POST https://api.openai.com/v1/chat/completions \"HTTP/1.1 200 OK\"\n",
      "2025-04-29 15:11:34,755 [INFO] ✅ 85ef570cc06244eab6ae3beaeddfc579 완료 → ../outputs/mesh_segmentation_output/CustomDataset/000-001/85ef570cc06244eab6ae3beaeddfc579/caption_gpt.txt\n"
     ]
    },
    {
     "name": "stderr",
     "output_type": "stream",
     "text": [
      "Captioning meshes:  56%|█████▌    | 216/386 [15:34<10:16,  3.62s/it]"
     ]
    },
    {
     "name": "stdout",
     "output_type": "stream",
     "text": [
      "2025-04-29 15:11:37,446 [INFO] HTTP Request: POST https://api.openai.com/v1/chat/completions \"HTTP/1.1 200 OK\"\n",
      "2025-04-29 15:11:37,448 [INFO] ✅ 86076a337be8462b9c653a0d3fc598c9 완료 → ../outputs/mesh_segmentation_output/CustomDataset/000-001/86076a337be8462b9c653a0d3fc598c9/caption_gpt.txt\n"
     ]
    },
    {
     "name": "stderr",
     "output_type": "stream",
     "text": [
      "Captioning meshes:  56%|█████▌    | 217/386 [15:37<09:31,  3.38s/it]"
     ]
    },
    {
     "name": "stdout",
     "output_type": "stream",
     "text": [
      "2025-04-29 15:11:46,129 [INFO] HTTP Request: POST https://api.openai.com/v1/chat/completions \"HTTP/1.1 200 OK\"\n",
      "2025-04-29 15:11:46,131 [INFO] ✅ 86447bb411984aaea8a5593456d5aef9 완료 → ../outputs/mesh_segmentation_output/CustomDataset/000-001/86447bb411984aaea8a5593456d5aef9/caption_gpt.txt\n"
     ]
    },
    {
     "name": "stderr",
     "output_type": "stream",
     "text": [
      "Captioning meshes:  56%|█████▋    | 218/386 [15:45<13:30,  4.82s/it]"
     ]
    },
    {
     "name": "stdout",
     "output_type": "stream",
     "text": [
      "2025-04-29 15:11:49,946 [INFO] HTTP Request: POST https://api.openai.com/v1/chat/completions \"HTTP/1.1 200 OK\"\n",
      "2025-04-29 15:11:49,948 [INFO] ✅ 86d19187a4ff4d1e9ae17bbe4db53a6b 완료 → ../outputs/mesh_segmentation_output/CustomDataset/000-001/86d19187a4ff4d1e9ae17bbe4db53a6b/caption_gpt.txt\n"
     ]
    },
    {
     "name": "stderr",
     "output_type": "stream",
     "text": [
      "Captioning meshes:  57%|█████▋    | 219/386 [15:49<12:38,  4.54s/it]"
     ]
    },
    {
     "name": "stdout",
     "output_type": "stream",
     "text": [
      "2025-04-29 15:12:04,830 [INFO] HTTP Request: POST https://api.openai.com/v1/chat/completions \"HTTP/1.1 200 OK\"\n",
      "2025-04-29 15:12:04,832 [INFO] ✅ 87013fa1b6544b42815cad47437a59ba 완료 → ../outputs/mesh_segmentation_output/CustomDataset/000-001/87013fa1b6544b42815cad47437a59ba/caption_gpt.txt\n"
     ]
    },
    {
     "name": "stderr",
     "output_type": "stream",
     "text": [
      "Captioning meshes:  57%|█████▋    | 220/386 [16:04<20:44,  7.49s/it]"
     ]
    },
    {
     "name": "stdout",
     "output_type": "stream",
     "text": [
      "2025-04-29 15:12:11,752 [INFO] HTTP Request: POST https://api.openai.com/v1/chat/completions \"HTTP/1.1 200 OK\"\n",
      "2025-04-29 15:12:11,754 [INFO] ✅ 87a21e216ae342bfbadfd487bb0893b0 완료 → ../outputs/mesh_segmentation_output/CustomDataset/000-001/87a21e216ae342bfbadfd487bb0893b0/caption_gpt.txt\n"
     ]
    },
    {
     "name": "stderr",
     "output_type": "stream",
     "text": [
      "Captioning meshes:  57%|█████▋    | 221/386 [16:11<20:09,  7.33s/it]"
     ]
    },
    {
     "name": "stdout",
     "output_type": "stream",
     "text": [
      "2025-04-29 15:12:15,111 [INFO] HTTP Request: POST https://api.openai.com/v1/chat/completions \"HTTP/1.1 200 OK\"\n",
      "2025-04-29 15:12:15,113 [INFO] ✅ 87c3fe106fab4c1896fce3c7682cc23a 완료 → ../outputs/mesh_segmentation_output/CustomDataset/000-001/87c3fe106fab4c1896fce3c7682cc23a/caption_gpt.txt\n"
     ]
    },
    {
     "name": "stderr",
     "output_type": "stream",
     "text": [
      "Captioning meshes:  58%|█████▊    | 222/386 [16:14<16:51,  6.17s/it]"
     ]
    },
    {
     "name": "stdout",
     "output_type": "stream",
     "text": [
      "2025-04-29 15:12:18,555 [INFO] HTTP Request: POST https://api.openai.com/v1/chat/completions \"HTTP/1.1 200 OK\"\n",
      "2025-04-29 15:12:18,557 [INFO] ✅ 88d4f50572534b429906bcdd6ec4d13d 완료 → ../outputs/mesh_segmentation_output/CustomDataset/000-001/88d4f50572534b429906bcdd6ec4d13d/caption_gpt.txt\n"
     ]
    },
    {
     "name": "stderr",
     "output_type": "stream",
     "text": [
      "Captioning meshes:  58%|█████▊    | 223/386 [16:18<14:34,  5.36s/it]"
     ]
    },
    {
     "name": "stdout",
     "output_type": "stream",
     "text": [
      "2025-04-29 15:12:24,756 [INFO] HTTP Request: POST https://api.openai.com/v1/chat/completions \"HTTP/1.1 200 OK\"\n",
      "2025-04-29 15:12:24,758 [INFO] ✅ 8a6da88f9ede4f8fac65745c0f26d32a 완료 → ../outputs/mesh_segmentation_output/CustomDataset/000-001/8a6da88f9ede4f8fac65745c0f26d32a/caption_gpt.txt\n"
     ]
    },
    {
     "name": "stderr",
     "output_type": "stream",
     "text": [
      "Captioning meshes:  58%|█████▊    | 224/386 [16:24<15:09,  5.61s/it]"
     ]
    },
    {
     "name": "stdout",
     "output_type": "stream",
     "text": [
      "2025-04-29 15:12:28,346 [INFO] HTTP Request: POST https://api.openai.com/v1/chat/completions \"HTTP/1.1 200 OK\"\n",
      "2025-04-29 15:12:28,349 [INFO] ✅ 8a9df3abe2f74e95ba0d24045eb42182 완료 → ../outputs/mesh_segmentation_output/CustomDataset/000-001/8a9df3abe2f74e95ba0d24045eb42182/caption_gpt.txt\n"
     ]
    },
    {
     "name": "stderr",
     "output_type": "stream",
     "text": [
      "Captioning meshes:  58%|█████▊    | 225/386 [16:28<13:26,  5.01s/it]"
     ]
    },
    {
     "name": "stdout",
     "output_type": "stream",
     "text": [
      "2025-04-29 15:12:33,772 [INFO] HTTP Request: POST https://api.openai.com/v1/chat/completions \"HTTP/1.1 200 OK\"\n",
      "2025-04-29 15:12:33,774 [INFO] ✅ 8b50bd1819aa4ebf8f0f7baf6be154be 완료 → ../outputs/mesh_segmentation_output/CustomDataset/000-001/8b50bd1819aa4ebf8f0f7baf6be154be/caption_gpt.txt\n"
     ]
    },
    {
     "name": "stderr",
     "output_type": "stream",
     "text": [
      "Captioning meshes:  59%|█████▊    | 226/386 [16:33<13:41,  5.13s/it]"
     ]
    },
    {
     "name": "stdout",
     "output_type": "stream",
     "text": [
      "2025-04-29 15:12:38,513 [INFO] HTTP Request: POST https://api.openai.com/v1/chat/completions \"HTTP/1.1 200 OK\"\n",
      "2025-04-29 15:12:38,515 [INFO] ✅ 8b8e4e0a39744d9e9fcdbe7cea14725d 완료 → ../outputs/mesh_segmentation_output/CustomDataset/000-001/8b8e4e0a39744d9e9fcdbe7cea14725d/caption_gpt.txt\n"
     ]
    },
    {
     "name": "stderr",
     "output_type": "stream",
     "text": [
      "Captioning meshes:  59%|█████▉    | 227/386 [16:38<13:17,  5.02s/it]"
     ]
    },
    {
     "name": "stdout",
     "output_type": "stream",
     "text": [
      "2025-04-29 15:12:43,456 [INFO] HTTP Request: POST https://api.openai.com/v1/chat/completions \"HTTP/1.1 200 OK\"\n",
      "2025-04-29 15:12:43,458 [INFO] ✅ 8c27f61dfe804d2baeb8bff56c14dfb3 완료 → ../outputs/mesh_segmentation_output/CustomDataset/000-001/8c27f61dfe804d2baeb8bff56c14dfb3/caption_gpt.txt\n"
     ]
    },
    {
     "name": "stderr",
     "output_type": "stream",
     "text": [
      "Captioning meshes:  59%|█████▉    | 228/386 [16:43<13:09,  4.99s/it]"
     ]
    },
    {
     "name": "stdout",
     "output_type": "stream",
     "text": [
      "2025-04-29 15:12:48,101 [INFO] HTTP Request: POST https://api.openai.com/v1/chat/completions \"HTTP/1.1 200 OK\"\n",
      "2025-04-29 15:12:48,103 [INFO] ✅ 8c4af9b4914d4b39a45065ab6121fb99 완료 → ../outputs/mesh_segmentation_output/CustomDataset/000-001/8c4af9b4914d4b39a45065ab6121fb99/caption_gpt.txt\n"
     ]
    },
    {
     "name": "stderr",
     "output_type": "stream",
     "text": [
      "Captioning meshes:  59%|█████▉    | 229/386 [16:47<12:47,  4.89s/it]"
     ]
    },
    {
     "name": "stdout",
     "output_type": "stream",
     "text": [
      "2025-04-29 15:12:53,116 [INFO] HTTP Request: POST https://api.openai.com/v1/chat/completions \"HTTP/1.1 200 OK\"\n",
      "2025-04-29 15:12:53,118 [INFO] ✅ 8c60f034f5174c57adb6574a182ae561 완료 → ../outputs/mesh_segmentation_output/CustomDataset/000-001/8c60f034f5174c57adb6574a182ae561/caption_gpt.txt\n"
     ]
    },
    {
     "name": "stderr",
     "output_type": "stream",
     "text": [
      "Captioning meshes:  60%|█████▉    | 230/386 [16:52<12:48,  4.93s/it]"
     ]
    },
    {
     "name": "stdout",
     "output_type": "stream",
     "text": [
      "2025-04-29 15:13:23,328 [INFO] Retrying request to /chat/completions in 0.436865 seconds\n",
      "2025-04-29 15:13:29,740 [INFO] HTTP Request: POST https://api.openai.com/v1/chat/completions \"HTTP/1.1 200 OK\"\n",
      "2025-04-29 15:13:29,743 [INFO] ✅ 8f38242ffbb5476eb4b6874fcde0c9ec 완료 → ../outputs/mesh_segmentation_output/CustomDataset/000-001/8f38242ffbb5476eb4b6874fcde0c9ec/caption_gpt.txt\n"
     ]
    },
    {
     "name": "stderr",
     "output_type": "stream",
     "text": [
      "Captioning meshes:  60%|█████▉    | 231/386 [17:29<37:16, 14.43s/it]"
     ]
    },
    {
     "name": "stdout",
     "output_type": "stream",
     "text": [
      "2025-04-29 15:13:38,917 [INFO] HTTP Request: POST https://api.openai.com/v1/chat/completions \"HTTP/1.1 200 OK\"\n",
      "2025-04-29 15:13:38,919 [INFO] ✅ 8fe9877e606a4d829d4e655ee1c48398 완료 → ../outputs/mesh_segmentation_output/CustomDataset/000-001/8fe9877e606a4d829d4e655ee1c48398/caption_gpt.txt\n"
     ]
    },
    {
     "name": "stderr",
     "output_type": "stream",
     "text": [
      "Captioning meshes:  60%|██████    | 232/386 [17:38<32:59, 12.85s/it]"
     ]
    },
    {
     "name": "stdout",
     "output_type": "stream",
     "text": [
      "2025-04-29 15:13:43,141 [INFO] HTTP Request: POST https://api.openai.com/v1/chat/completions \"HTTP/1.1 200 OK\"\n",
      "2025-04-29 15:13:43,143 [INFO] ✅ 918ac630511e401eb245b9a3e15a4907 완료 → ../outputs/mesh_segmentation_output/CustomDataset/000-001/918ac630511e401eb245b9a3e15a4907/caption_gpt.txt\n"
     ]
    },
    {
     "name": "stderr",
     "output_type": "stream",
     "text": [
      "Captioning meshes:  60%|██████    | 233/386 [17:42<26:10, 10.27s/it]"
     ]
    },
    {
     "name": "stdout",
     "output_type": "stream",
     "text": [
      "2025-04-29 15:13:49,654 [INFO] HTTP Request: POST https://api.openai.com/v1/chat/completions \"HTTP/1.1 200 OK\"\n",
      "2025-04-29 15:13:49,656 [INFO] ✅ 9193046520a84c3bb1ffdf6083d2b18a 완료 → ../outputs/mesh_segmentation_output/CustomDataset/000-001/9193046520a84c3bb1ffdf6083d2b18a/caption_gpt.txt\n"
     ]
    },
    {
     "name": "stderr",
     "output_type": "stream",
     "text": [
      "Captioning meshes:  61%|██████    | 234/386 [17:49<23:09,  9.14s/it]"
     ]
    },
    {
     "name": "stdout",
     "output_type": "stream",
     "text": [
      "2025-04-29 15:13:49,657 [WARNING] ⚠️  92ca19a639c04381b62ef9b8c4a780fd: 필요한 이미지 파일이 존재하지 않음\n",
      "2025-04-29 15:13:58,317 [INFO] HTTP Request: POST https://api.openai.com/v1/chat/completions \"HTTP/1.1 200 OK\"\n",
      "2025-04-29 15:13:58,320 [INFO] ✅ 944b83520cc04587bd963e8cf4a87d63 완료 → ../outputs/mesh_segmentation_output/CustomDataset/000-001/944b83520cc04587bd963e8cf4a87d63/caption_gpt.txt\n"
     ]
    },
    {
     "name": "stderr",
     "output_type": "stream",
     "text": [
      "Captioning meshes:  61%|██████    | 236/386 [17:58<17:18,  6.92s/it]"
     ]
    },
    {
     "name": "stdout",
     "output_type": "stream",
     "text": [
      "2025-04-29 15:13:58,321 [WARNING] ⚠️  967d81a4ec57447f962073fdd48947eb: 필요한 이미지 파일이 존재하지 않음\n",
      "2025-04-29 15:14:05,226 [INFO] HTTP Request: POST https://api.openai.com/v1/chat/completions \"HTTP/1.1 200 OK\"\n",
      "2025-04-29 15:14:05,228 [INFO] ✅ 9786109d9fee4b259e953fd333f78570 완료 → ../outputs/mesh_segmentation_output/CustomDataset/000-001/9786109d9fee4b259e953fd333f78570/caption_gpt.txt\n"
     ]
    },
    {
     "name": "stderr",
     "output_type": "stream",
     "text": [
      "Captioning meshes:  62%|██████▏   | 238/386 [18:04<13:40,  5.54s/it]"
     ]
    },
    {
     "name": "stdout",
     "output_type": "stream",
     "text": [
      "2025-04-29 15:14:09,823 [INFO] HTTP Request: POST https://api.openai.com/v1/chat/completions \"HTTP/1.1 200 OK\"\n",
      "2025-04-29 15:14:09,825 [INFO] ✅ 9a74d0bf63fc4d2aaf89826fe09fd608 완료 → ../outputs/mesh_segmentation_output/CustomDataset/000-001/9a74d0bf63fc4d2aaf89826fe09fd608/caption_gpt.txt\n"
     ]
    },
    {
     "name": "stderr",
     "output_type": "stream",
     "text": [
      "Captioning meshes:  62%|██████▏   | 239/386 [18:09<13:04,  5.33s/it]"
     ]
    },
    {
     "name": "stdout",
     "output_type": "stream",
     "text": [
      "2025-04-29 15:14:14,487 [INFO] HTTP Request: POST https://api.openai.com/v1/chat/completions \"HTTP/1.1 200 OK\"\n",
      "2025-04-29 15:14:14,489 [INFO] ✅ 9d5bc9521e6245feba1e6eb50fe02e0f 완료 → ../outputs/mesh_segmentation_output/CustomDataset/000-001/9d5bc9521e6245feba1e6eb50fe02e0f/caption_gpt.txt\n"
     ]
    },
    {
     "name": "stderr",
     "output_type": "stream",
     "text": [
      "Captioning meshes:  62%|██████▏   | 240/386 [18:14<12:35,  5.17s/it]"
     ]
    },
    {
     "name": "stdout",
     "output_type": "stream",
     "text": [
      "2025-04-29 15:14:18,867 [INFO] HTTP Request: POST https://api.openai.com/v1/chat/completions \"HTTP/1.1 200 OK\"\n",
      "2025-04-29 15:14:18,869 [INFO] ✅ 9e9def3cdc214916b6f8cf2afaa69a94 완료 → ../outputs/mesh_segmentation_output/CustomDataset/000-001/9e9def3cdc214916b6f8cf2afaa69a94/caption_gpt.txt\n"
     ]
    },
    {
     "name": "stderr",
     "output_type": "stream",
     "text": [
      "Captioning meshes:  62%|██████▏   | 241/386 [18:18<12:00,  4.97s/it]"
     ]
    },
    {
     "name": "stdout",
     "output_type": "stream",
     "text": [
      "2025-04-29 15:14:22,510 [INFO] HTTP Request: POST https://api.openai.com/v1/chat/completions \"HTTP/1.1 200 OK\"\n",
      "2025-04-29 15:14:22,512 [INFO] ✅ 9ebef509b23c4031a7305caf822834f2 완료 → ../outputs/mesh_segmentation_output/CustomDataset/000-001/9ebef509b23c4031a7305caf822834f2/caption_gpt.txt\n"
     ]
    },
    {
     "name": "stderr",
     "output_type": "stream",
     "text": [
      "Captioning meshes:  63%|██████▎   | 242/386 [18:22<11:04,  4.62s/it]"
     ]
    },
    {
     "name": "stdout",
     "output_type": "stream",
     "text": [
      "2025-04-29 15:14:28,375 [INFO] HTTP Request: POST https://api.openai.com/v1/chat/completions \"HTTP/1.1 200 OK\"\n",
      "2025-04-29 15:14:28,376 [INFO] ✅ 9fb636078ebb4d1ca88168e046e3bc24 완료 → ../outputs/mesh_segmentation_output/CustomDataset/000-001/9fb636078ebb4d1ca88168e046e3bc24/caption_gpt.txt\n"
     ]
    },
    {
     "name": "stderr",
     "output_type": "stream",
     "text": [
      "Captioning meshes:  63%|██████▎   | 243/386 [18:28<11:49,  4.96s/it]"
     ]
    },
    {
     "name": "stdout",
     "output_type": "stream",
     "text": [
      "2025-04-29 15:14:37,766 [INFO] HTTP Request: POST https://api.openai.com/v1/chat/completions \"HTTP/1.1 200 OK\"\n",
      "2025-04-29 15:14:37,767 [INFO] ✅ a04c5a53c1ca487d8c3da454d622c27d 완료 → ../outputs/mesh_segmentation_output/CustomDataset/000-001/a04c5a53c1ca487d8c3da454d622c27d/caption_gpt.txt\n"
     ]
    },
    {
     "name": "stderr",
     "output_type": "stream",
     "text": [
      "Captioning meshes:  63%|██████▎   | 244/386 [18:37<14:42,  6.21s/it]"
     ]
    },
    {
     "name": "stdout",
     "output_type": "stream",
     "text": [
      "2025-04-29 15:14:45,071 [INFO] HTTP Request: POST https://api.openai.com/v1/chat/completions \"HTTP/1.1 200 OK\"\n",
      "2025-04-29 15:14:45,073 [INFO] ✅ a05d3694763d469d8d224abfd46a3d8e 완료 → ../outputs/mesh_segmentation_output/CustomDataset/000-001/a05d3694763d469d8d224abfd46a3d8e/caption_gpt.txt\n"
     ]
    },
    {
     "name": "stderr",
     "output_type": "stream",
     "text": [
      "Captioning meshes:  63%|██████▎   | 245/386 [18:44<15:20,  6.53s/it]"
     ]
    },
    {
     "name": "stdout",
     "output_type": "stream",
     "text": [
      "2025-04-29 15:14:48,587 [INFO] HTTP Request: POST https://api.openai.com/v1/chat/completions \"HTTP/1.1 200 OK\"\n",
      "2025-04-29 15:14:48,589 [INFO] ✅ a1e52d025879464a811ffb6c8840d24c 완료 → ../outputs/mesh_segmentation_output/CustomDataset/000-001/a1e52d025879464a811ffb6c8840d24c/caption_gpt.txt\n"
     ]
    },
    {
     "name": "stderr",
     "output_type": "stream",
     "text": [
      "Captioning meshes:  64%|██████▎   | 246/386 [18:48<13:11,  5.65s/it]"
     ]
    },
    {
     "name": "stdout",
     "output_type": "stream",
     "text": [
      "2025-04-29 15:14:52,778 [INFO] HTTP Request: POST https://api.openai.com/v1/chat/completions \"HTTP/1.1 200 OK\"\n",
      "2025-04-29 15:14:52,780 [INFO] ✅ a1fca1c129da4a0bbf79e4515d6d6b04 완료 → ../outputs/mesh_segmentation_output/CustomDataset/000-001/a1fca1c129da4a0bbf79e4515d6d6b04/caption_gpt.txt\n"
     ]
    },
    {
     "name": "stderr",
     "output_type": "stream",
     "text": [
      "Captioning meshes:  64%|██████▍   | 247/386 [18:52<12:05,  5.22s/it]"
     ]
    },
    {
     "name": "stdout",
     "output_type": "stream",
     "text": [
      "2025-04-29 15:14:57,775 [INFO] HTTP Request: POST https://api.openai.com/v1/chat/completions \"HTTP/1.1 200 OK\"\n",
      "2025-04-29 15:14:57,777 [INFO] ✅ a206ae3fadde465db7111f61cc9f172b 완료 → ../outputs/mesh_segmentation_output/CustomDataset/000-001/a206ae3fadde465db7111f61cc9f172b/caption_gpt.txt\n"
     ]
    },
    {
     "name": "stderr",
     "output_type": "stream",
     "text": [
      "Captioning meshes:  64%|██████▍   | 248/386 [18:57<11:51,  5.16s/it]"
     ]
    },
    {
     "name": "stdout",
     "output_type": "stream",
     "text": [
      "2025-04-29 15:15:05,872 [INFO] HTTP Request: POST https://api.openai.com/v1/chat/completions \"HTTP/1.1 200 OK\"\n",
      "2025-04-29 15:15:05,874 [INFO] ✅ a5cb1a414955451dac9c5c6dab06067f 완료 → ../outputs/mesh_segmentation_output/CustomDataset/000-001/a5cb1a414955451dac9c5c6dab06067f/caption_gpt.txt\n"
     ]
    },
    {
     "name": "stderr",
     "output_type": "stream",
     "text": [
      "Captioning meshes:  65%|██████▍   | 249/386 [19:05<13:45,  6.03s/it]"
     ]
    },
    {
     "name": "stdout",
     "output_type": "stream",
     "text": [
      "2025-04-29 15:15:14,373 [INFO] HTTP Request: POST https://api.openai.com/v1/chat/completions \"HTTP/1.1 200 OK\"\n",
      "2025-04-29 15:15:14,375 [INFO] ✅ a6561529ee214f31932d796a085d8462 완료 → ../outputs/mesh_segmentation_output/CustomDataset/000-001/a6561529ee214f31932d796a085d8462/caption_gpt.txt\n"
     ]
    },
    {
     "name": "stderr",
     "output_type": "stream",
     "text": [
      "Captioning meshes:  65%|██████▍   | 250/386 [19:14<15:20,  6.77s/it]"
     ]
    },
    {
     "name": "stdout",
     "output_type": "stream",
     "text": [
      "2025-04-29 15:15:19,131 [INFO] HTTP Request: POST https://api.openai.com/v1/chat/completions \"HTTP/1.1 200 OK\"\n",
      "2025-04-29 15:15:19,133 [INFO] ✅ a696a9f39df146d0bdb0f0d698e1f826 완료 → ../outputs/mesh_segmentation_output/CustomDataset/000-001/a696a9f39df146d0bdb0f0d698e1f826/caption_gpt.txt\n"
     ]
    },
    {
     "name": "stderr",
     "output_type": "stream",
     "text": [
      "Captioning meshes:  65%|██████▌   | 251/386 [19:18<13:52,  6.17s/it]"
     ]
    },
    {
     "name": "stdout",
     "output_type": "stream",
     "text": [
      "2025-04-29 15:15:24,426 [INFO] HTTP Request: POST https://api.openai.com/v1/chat/completions \"HTTP/1.1 200 OK\"\n",
      "2025-04-29 15:15:24,429 [INFO] ✅ a6bf1e18fdb947259789146360b1f02a 완료 → ../outputs/mesh_segmentation_output/CustomDataset/000-001/a6bf1e18fdb947259789146360b1f02a/caption_gpt.txt\n"
     ]
    },
    {
     "name": "stderr",
     "output_type": "stream",
     "text": [
      "Captioning meshes:  65%|██████▌   | 252/386 [19:24<13:11,  5.91s/it]"
     ]
    },
    {
     "name": "stdout",
     "output_type": "stream",
     "text": [
      "2025-04-29 15:15:28,407 [INFO] HTTP Request: POST https://api.openai.com/v1/chat/completions \"HTTP/1.1 200 OK\"\n",
      "2025-04-29 15:15:28,409 [INFO] ✅ a7a547f19ea440a89db777991f46e5a3 완료 → ../outputs/mesh_segmentation_output/CustomDataset/000-001/a7a547f19ea440a89db777991f46e5a3/caption_gpt.txt\n"
     ]
    },
    {
     "name": "stderr",
     "output_type": "stream",
     "text": [
      "Captioning meshes:  66%|██████▌   | 253/386 [19:28<11:48,  5.33s/it]"
     ]
    },
    {
     "name": "stdout",
     "output_type": "stream",
     "text": [
      "2025-04-29 15:15:32,223 [INFO] HTTP Request: POST https://api.openai.com/v1/chat/completions \"HTTP/1.1 200 OK\"\n",
      "2025-04-29 15:15:32,225 [INFO] ✅ a8129828efca4d2390dee4f8b8f99514 완료 → ../outputs/mesh_segmentation_output/CustomDataset/000-001/a8129828efca4d2390dee4f8b8f99514/caption_gpt.txt\n"
     ]
    },
    {
     "name": "stderr",
     "output_type": "stream",
     "text": [
      "Captioning meshes:  66%|██████▌   | 254/386 [19:31<10:43,  4.88s/it]"
     ]
    },
    {
     "name": "stdout",
     "output_type": "stream",
     "text": [
      "2025-04-29 15:15:35,845 [INFO] HTTP Request: POST https://api.openai.com/v1/chat/completions \"HTTP/1.1 200 OK\"\n",
      "2025-04-29 15:15:35,847 [INFO] ✅ a83c6959b0554260814207ff64fa4ca5 완료 → ../outputs/mesh_segmentation_output/CustomDataset/000-001/a83c6959b0554260814207ff64fa4ca5/caption_gpt.txt\n"
     ]
    },
    {
     "name": "stderr",
     "output_type": "stream",
     "text": [
      "Captioning meshes:  66%|██████▌   | 255/386 [19:35<09:49,  4.50s/it]"
     ]
    },
    {
     "name": "stdout",
     "output_type": "stream",
     "text": [
      "2025-04-29 15:15:35,848 [WARNING] ⚠️  acff29cbc97848b3982d2fe466a01b92: 필요한 이미지 파일이 존재하지 않음\n",
      "2025-04-29 15:15:40,766 [INFO] HTTP Request: POST https://api.openai.com/v1/chat/completions \"HTTP/1.1 200 OK\"\n",
      "2025-04-29 15:15:40,768 [INFO] ✅ ad21d71754c84cefb42f83b601e2ecd1 완료 → ../outputs/mesh_segmentation_output/CustomDataset/000-001/ad21d71754c84cefb42f83b601e2ecd1/caption_gpt.txt\n"
     ]
    },
    {
     "name": "stderr",
     "output_type": "stream",
     "text": [
      "Captioning meshes:  67%|██████▋   | 257/386 [19:40<07:39,  3.56s/it]"
     ]
    },
    {
     "name": "stdout",
     "output_type": "stream",
     "text": [
      "2025-04-29 15:15:46,048 [INFO] HTTP Request: POST https://api.openai.com/v1/chat/completions \"HTTP/1.1 200 OK\"\n",
      "2025-04-29 15:15:46,050 [INFO] ✅ ae5e68445ad7434d9e7bf2db4856bb65 완료 → ../outputs/mesh_segmentation_output/CustomDataset/000-001/ae5e68445ad7434d9e7bf2db4856bb65/caption_gpt.txt\n"
     ]
    },
    {
     "name": "stderr",
     "output_type": "stream",
     "text": [
      "Captioning meshes:  67%|██████▋   | 258/386 [19:45<08:30,  3.99s/it]"
     ]
    },
    {
     "name": "stdout",
     "output_type": "stream",
     "text": [
      "2025-04-29 15:15:54,141 [INFO] HTTP Request: POST https://api.openai.com/v1/chat/completions \"HTTP/1.1 200 OK\"\n",
      "2025-04-29 15:15:54,143 [INFO] ✅ ae9e9a122b1841e7a56ecdf0d9ae0427 완료 → ../outputs/mesh_segmentation_output/CustomDataset/000-001/ae9e9a122b1841e7a56ecdf0d9ae0427/caption_gpt.txt\n"
     ]
    },
    {
     "name": "stderr",
     "output_type": "stream",
     "text": [
      "Captioning meshes:  67%|██████▋   | 259/386 [19:53<10:42,  5.06s/it]"
     ]
    },
    {
     "name": "stdout",
     "output_type": "stream",
     "text": [
      "2025-04-29 15:15:59,228 [INFO] HTTP Request: POST https://api.openai.com/v1/chat/completions \"HTTP/1.1 200 OK\"\n",
      "2025-04-29 15:15:59,230 [INFO] ✅ af930ce2974c49ea8964577043624f6e 완료 → ../outputs/mesh_segmentation_output/CustomDataset/000-001/af930ce2974c49ea8964577043624f6e/caption_gpt.txt\n"
     ]
    },
    {
     "name": "stderr",
     "output_type": "stream",
     "text": [
      "Captioning meshes:  67%|██████▋   | 260/386 [19:58<10:38,  5.07s/it]"
     ]
    },
    {
     "name": "stdout",
     "output_type": "stream",
     "text": [
      "2025-04-29 15:16:04,525 [INFO] HTTP Request: POST https://api.openai.com/v1/chat/completions \"HTTP/1.1 200 OK\"\n",
      "2025-04-29 15:16:04,527 [INFO] ✅ afbf44d6033047d69d2d9bd3b21e09a2 완료 → ../outputs/mesh_segmentation_output/CustomDataset/000-001/afbf44d6033047d69d2d9bd3b21e09a2/caption_gpt.txt\n"
     ]
    },
    {
     "name": "stderr",
     "output_type": "stream",
     "text": [
      "Captioning meshes:  68%|██████▊   | 261/386 [20:04<10:41,  5.13s/it]"
     ]
    },
    {
     "name": "stdout",
     "output_type": "stream",
     "text": [
      "2025-04-29 15:16:08,094 [INFO] HTTP Request: POST https://api.openai.com/v1/chat/completions \"HTTP/1.1 200 OK\"\n",
      "2025-04-29 15:16:08,096 [INFO] ✅ b06b519ceaab4c6faee3af0a0b9dee23 완료 → ../outputs/mesh_segmentation_output/CustomDataset/000-001/b06b519ceaab4c6faee3af0a0b9dee23/caption_gpt.txt\n"
     ]
    },
    {
     "name": "stderr",
     "output_type": "stream",
     "text": [
      "Captioning meshes:  68%|██████▊   | 262/386 [20:07<09:40,  4.69s/it]"
     ]
    },
    {
     "name": "stdout",
     "output_type": "stream",
     "text": [
      "2025-04-29 15:16:14,611 [INFO] HTTP Request: POST https://api.openai.com/v1/chat/completions \"HTTP/1.1 200 OK\"\n",
      "2025-04-29 15:16:14,614 [INFO] ✅ b0953f1a2ad3454fa6317911a0242a8b 완료 → ../outputs/mesh_segmentation_output/CustomDataset/000-001/b0953f1a2ad3454fa6317911a0242a8b/caption_gpt.txt\n"
     ]
    },
    {
     "name": "stderr",
     "output_type": "stream",
     "text": [
      "Captioning meshes:  68%|██████▊   | 263/386 [20:14<10:41,  5.22s/it]"
     ]
    },
    {
     "name": "stdout",
     "output_type": "stream",
     "text": [
      "2025-04-29 15:16:22,174 [INFO] HTTP Request: POST https://api.openai.com/v1/chat/completions \"HTTP/1.1 200 OK\"\n",
      "2025-04-29 15:16:22,176 [INFO] ✅ b10270c90fbb43a3a70a9e3f1c27c073 완료 → ../outputs/mesh_segmentation_output/CustomDataset/000-001/b10270c90fbb43a3a70a9e3f1c27c073/caption_gpt.txt\n"
     ]
    },
    {
     "name": "stderr",
     "output_type": "stream",
     "text": [
      "Captioning meshes:  68%|██████▊   | 264/386 [20:21<12:00,  5.90s/it]"
     ]
    },
    {
     "name": "stdout",
     "output_type": "stream",
     "text": [
      "2025-04-29 15:16:29,905 [INFO] HTTP Request: POST https://api.openai.com/v1/chat/completions \"HTTP/1.1 200 OK\"\n",
      "2025-04-29 15:16:29,906 [INFO] ✅ b19f072a65c847038a9b0bfdf5945452 완료 → ../outputs/mesh_segmentation_output/CustomDataset/000-001/b19f072a65c847038a9b0bfdf5945452/caption_gpt.txt\n"
     ]
    },
    {
     "name": "stderr",
     "output_type": "stream",
     "text": [
      "Captioning meshes:  69%|██████▊   | 265/386 [20:29<12:59,  6.44s/it]"
     ]
    },
    {
     "name": "stdout",
     "output_type": "stream",
     "text": [
      "2025-04-29 15:16:33,450 [INFO] HTTP Request: POST https://api.openai.com/v1/chat/completions \"HTTP/1.1 200 OK\"\n",
      "2025-04-29 15:16:33,452 [INFO] ✅ b1d4a419f607438f8411c318df4c7835 완료 → ../outputs/mesh_segmentation_output/CustomDataset/000-001/b1d4a419f607438f8411c318df4c7835/caption_gpt.txt\n"
     ]
    },
    {
     "name": "stderr",
     "output_type": "stream",
     "text": [
      "Captioning meshes:  69%|██████▉   | 266/386 [20:33<11:10,  5.58s/it]"
     ]
    },
    {
     "name": "stdout",
     "output_type": "stream",
     "text": [
      "2025-04-29 15:16:36,299 [INFO] HTTP Request: POST https://api.openai.com/v1/chat/completions \"HTTP/1.1 200 OK\"\n",
      "2025-04-29 15:16:36,301 [INFO] ✅ b1d6cfa849714223afd018bdaef74222 완료 → ../outputs/mesh_segmentation_output/CustomDataset/000-001/b1d6cfa849714223afd018bdaef74222/caption_gpt.txt\n"
     ]
    },
    {
     "name": "stderr",
     "output_type": "stream",
     "text": [
      "Captioning meshes:  69%|██████▉   | 267/386 [20:36<09:27,  4.77s/it]"
     ]
    },
    {
     "name": "stdout",
     "output_type": "stream",
     "text": [
      "2025-04-29 15:16:40,094 [INFO] HTTP Request: POST https://api.openai.com/v1/chat/completions \"HTTP/1.1 200 OK\"\n",
      "2025-04-29 15:16:40,096 [INFO] ✅ b31d8208e8e94e02a4cb8a1a55f52c66 완료 → ../outputs/mesh_segmentation_output/CustomDataset/000-001/b31d8208e8e94e02a4cb8a1a55f52c66/caption_gpt.txt\n"
     ]
    },
    {
     "name": "stderr",
     "output_type": "stream",
     "text": [
      "Captioning meshes:  69%|██████▉   | 268/386 [20:39<08:48,  4.48s/it]"
     ]
    },
    {
     "name": "stdout",
     "output_type": "stream",
     "text": [
      "2025-04-29 15:16:44,248 [INFO] HTTP Request: POST https://api.openai.com/v1/chat/completions \"HTTP/1.1 200 OK\"\n",
      "2025-04-29 15:16:44,250 [INFO] ✅ b35311f8913b4f6e8fa5e010ec4417d0 완료 → ../outputs/mesh_segmentation_output/CustomDataset/000-001/b35311f8913b4f6e8fa5e010ec4417d0/caption_gpt.txt\n"
     ]
    },
    {
     "name": "stderr",
     "output_type": "stream",
     "text": [
      "Captioning meshes:  70%|██████▉   | 269/386 [20:44<08:32,  4.38s/it]"
     ]
    },
    {
     "name": "stdout",
     "output_type": "stream",
     "text": [
      "2025-04-29 15:16:50,098 [INFO] HTTP Request: POST https://api.openai.com/v1/chat/completions \"HTTP/1.1 200 OK\"\n",
      "2025-04-29 15:16:50,100 [INFO] ✅ b373fa7094b74ff8838e2ffa5165dbec 완료 → ../outputs/mesh_segmentation_output/CustomDataset/000-001/b373fa7094b74ff8838e2ffa5165dbec/caption_gpt.txt\n"
     ]
    },
    {
     "name": "stderr",
     "output_type": "stream",
     "text": [
      "Captioning meshes:  70%|██████▉   | 270/386 [20:49<09:19,  4.82s/it]"
     ]
    },
    {
     "name": "stdout",
     "output_type": "stream",
     "text": [
      "2025-04-29 15:16:53,472 [INFO] HTTP Request: POST https://api.openai.com/v1/chat/completions \"HTTP/1.1 200 OK\"\n",
      "2025-04-29 15:16:53,475 [INFO] ✅ b37b00d4b2db4964b5051b699d6409b0 완료 → ../outputs/mesh_segmentation_output/CustomDataset/000-001/b37b00d4b2db4964b5051b699d6409b0/caption_gpt.txt\n"
     ]
    },
    {
     "name": "stderr",
     "output_type": "stream",
     "text": [
      "Captioning meshes:  70%|███████   | 271/386 [20:53<08:24,  4.39s/it]"
     ]
    },
    {
     "name": "stdout",
     "output_type": "stream",
     "text": [
      "2025-04-29 15:16:53,476 [WARNING] ⚠️  b3f34b768b1a4d05907fb5c47271a221: 필요한 이미지 파일이 존재하지 않음\n",
      "2025-04-29 15:16:57,155 [INFO] HTTP Request: POST https://api.openai.com/v1/chat/completions \"HTTP/1.1 200 OK\"\n",
      "2025-04-29 15:16:57,158 [INFO] ✅ b4e70874ff1347a4b8c9babfaec03e61 완료 → ../outputs/mesh_segmentation_output/CustomDataset/000-001/b4e70874ff1347a4b8c9babfaec03e61/caption_gpt.txt\n"
     ]
    },
    {
     "name": "stderr",
     "output_type": "stream",
     "text": [
      "Captioning meshes:  71%|███████   | 273/386 [20:56<06:03,  3.21s/it]"
     ]
    },
    {
     "name": "stdout",
     "output_type": "stream",
     "text": [
      "2025-04-29 15:16:57,159 [WARNING] ⚠️  b5ba0477f8d44c118eb6f9f2b8e21ebe: 필요한 이미지 파일이 존재하지 않음\n",
      "2025-04-29 15:16:57,160 [WARNING] ⚠️  b656f11cf72345c19436c5b08ce50d8f: 필요한 이미지 파일이 존재하지 않음\n",
      "2025-04-29 15:17:01,788 [INFO] HTTP Request: POST https://api.openai.com/v1/chat/completions \"HTTP/1.1 200 OK\"\n",
      "2025-04-29 15:17:01,790 [INFO] ✅ b8039ca6dc8545feb8989f4769ac56d9 완료 → ../outputs/mesh_segmentation_output/CustomDataset/000-001/b8039ca6dc8545feb8989f4769ac56d9/caption_gpt.txt\n"
     ]
    },
    {
     "name": "stderr",
     "output_type": "stream",
     "text": [
      "Captioning meshes:  72%|███████▏  | 276/386 [21:01<04:22,  2.38s/it]"
     ]
    },
    {
     "name": "stdout",
     "output_type": "stream",
     "text": [
      "2025-04-29 15:17:01,792 [WARNING] ⚠️  b8a87a9a29de4bbbb86a4eb8f163732f: 필요한 이미지 파일이 존재하지 않음\n",
      "2025-04-29 15:17:05,933 [INFO] HTTP Request: POST https://api.openai.com/v1/chat/completions \"HTTP/1.1 200 OK\"\n",
      "2025-04-29 15:17:05,935 [INFO] ✅ b9470c4a38384ce49d915a6eb7cda156 완료 → ../outputs/mesh_segmentation_output/CustomDataset/000-001/b9470c4a38384ce49d915a6eb7cda156/caption_gpt.txt\n"
     ]
    },
    {
     "name": "stderr",
     "output_type": "stream",
     "text": [
      "Captioning meshes:  72%|███████▏  | 278/386 [21:05<04:06,  2.28s/it]"
     ]
    },
    {
     "name": "stdout",
     "output_type": "stream",
     "text": [
      "2025-04-29 15:17:10,095 [INFO] HTTP Request: POST https://api.openai.com/v1/chat/completions \"HTTP/1.1 200 OK\"\n",
      "2025-04-29 15:17:10,097 [INFO] ✅ b99c0fd49c5a41fda48dd0f4fe6dca60 완료 → ../outputs/mesh_segmentation_output/CustomDataset/000-001/b99c0fd49c5a41fda48dd0f4fe6dca60/caption_gpt.txt\n"
     ]
    },
    {
     "name": "stderr",
     "output_type": "stream",
     "text": [
      "Captioning meshes:  72%|███████▏  | 279/386 [21:09<04:41,  2.63s/it]"
     ]
    },
    {
     "name": "stdout",
     "output_type": "stream",
     "text": [
      "2025-04-29 15:17:13,721 [INFO] HTTP Request: POST https://api.openai.com/v1/chat/completions \"HTTP/1.1 200 OK\"\n",
      "2025-04-29 15:17:13,723 [INFO] ✅ ba0adec571c041c586fb131656d500b8 완료 → ../outputs/mesh_segmentation_output/CustomDataset/000-001/ba0adec571c041c586fb131656d500b8/caption_gpt.txt\n"
     ]
    },
    {
     "name": "stderr",
     "output_type": "stream",
     "text": [
      "Captioning meshes:  73%|███████▎  | 280/386 [21:13<05:01,  2.84s/it]"
     ]
    },
    {
     "name": "stdout",
     "output_type": "stream",
     "text": [
      "2025-04-29 15:17:17,338 [INFO] HTTP Request: POST https://api.openai.com/v1/chat/completions \"HTTP/1.1 200 OK\"\n",
      "2025-04-29 15:17:17,341 [INFO] ✅ ba870cd5f7864fb6ad78c10fd313b620 완료 → ../outputs/mesh_segmentation_output/CustomDataset/000-001/ba870cd5f7864fb6ad78c10fd313b620/caption_gpt.txt\n"
     ]
    },
    {
     "name": "stderr",
     "output_type": "stream",
     "text": [
      "Captioning meshes:  73%|███████▎  | 281/386 [21:17<05:17,  3.02s/it]"
     ]
    },
    {
     "name": "stdout",
     "output_type": "stream",
     "text": [
      "2025-04-29 15:17:27,163 [INFO] HTTP Request: POST https://api.openai.com/v1/chat/completions \"HTTP/1.1 200 OK\"\n",
      "2025-04-29 15:17:27,178 [INFO] ✅ bb2ca947d2d648f385079f4f93c177a8 완료 → ../outputs/mesh_segmentation_output/CustomDataset/000-001/bb2ca947d2d648f385079f4f93c177a8/caption_gpt.txt\n"
     ]
    },
    {
     "name": "stderr",
     "output_type": "stream",
     "text": [
      "Captioning meshes:  73%|███████▎  | 282/386 [21:26<08:10,  4.71s/it]"
     ]
    },
    {
     "name": "stdout",
     "output_type": "stream",
     "text": [
      "2025-04-29 15:17:30,555 [INFO] HTTP Request: POST https://api.openai.com/v1/chat/completions \"HTTP/1.1 200 OK\"\n",
      "2025-04-29 15:17:30,558 [INFO] ✅ bbc5935539be4ffe96e62154f7c2274f 완료 → ../outputs/mesh_segmentation_output/CustomDataset/000-001/bbc5935539be4ffe96e62154f7c2274f/caption_gpt.txt\n"
     ]
    },
    {
     "name": "stderr",
     "output_type": "stream",
     "text": [
      "Captioning meshes:  73%|███████▎  | 283/386 [21:30<07:29,  4.36s/it]"
     ]
    },
    {
     "name": "stdout",
     "output_type": "stream",
     "text": [
      "2025-04-29 15:17:34,157 [INFO] HTTP Request: POST https://api.openai.com/v1/chat/completions \"HTTP/1.1 200 OK\"\n",
      "2025-04-29 15:17:34,159 [INFO] ✅ bc3d07b1967848e99f37081c89dbedb7 완료 → ../outputs/mesh_segmentation_output/CustomDataset/000-001/bc3d07b1967848e99f37081c89dbedb7/caption_gpt.txt\n"
     ]
    },
    {
     "name": "stderr",
     "output_type": "stream",
     "text": [
      "Captioning meshes:  74%|███████▎  | 284/386 [21:33<07:04,  4.16s/it]"
     ]
    },
    {
     "name": "stdout",
     "output_type": "stream",
     "text": [
      "2025-04-29 15:17:39,473 [INFO] HTTP Request: POST https://api.openai.com/v1/chat/completions \"HTTP/1.1 200 OK\"\n",
      "2025-04-29 15:17:39,476 [INFO] ✅ bc9da189b16840f497932e80a8dbf8b9 완료 → ../outputs/mesh_segmentation_output/CustomDataset/000-001/bc9da189b16840f497932e80a8dbf8b9/caption_gpt.txt\n"
     ]
    },
    {
     "name": "stderr",
     "output_type": "stream",
     "text": [
      "Captioning meshes:  74%|███████▍  | 285/386 [21:39<07:32,  4.48s/it]"
     ]
    },
    {
     "name": "stdout",
     "output_type": "stream",
     "text": [
      "2025-04-29 15:17:46,731 [INFO] HTTP Request: POST https://api.openai.com/v1/chat/completions \"HTTP/1.1 200 OK\"\n",
      "2025-04-29 15:17:46,733 [INFO] ✅ c0175dba479042c89c66fab958b0c29b 완료 → ../outputs/mesh_segmentation_output/CustomDataset/000-001/c0175dba479042c89c66fab958b0c29b/caption_gpt.txt\n"
     ]
    },
    {
     "name": "stderr",
     "output_type": "stream",
     "text": [
      "Captioning meshes:  74%|███████▍  | 286/386 [21:46<08:47,  5.27s/it]"
     ]
    },
    {
     "name": "stdout",
     "output_type": "stream",
     "text": [
      "2025-04-29 15:17:51,813 [INFO] HTTP Request: POST https://api.openai.com/v1/chat/completions \"HTTP/1.1 200 OK\"\n",
      "2025-04-29 15:17:51,815 [INFO] ✅ c108822b1849439785f746029e60d323 완료 → ../outputs/mesh_segmentation_output/CustomDataset/000-001/c108822b1849439785f746029e60d323/caption_gpt.txt\n"
     ]
    },
    {
     "name": "stderr",
     "output_type": "stream",
     "text": [
      "Captioning meshes:  74%|███████▍  | 287/386 [21:51<08:36,  5.22s/it]"
     ]
    },
    {
     "name": "stdout",
     "output_type": "stream",
     "text": [
      "2025-04-29 15:17:55,677 [INFO] HTTP Request: POST https://api.openai.com/v1/chat/completions \"HTTP/1.1 200 OK\"\n",
      "2025-04-29 15:17:55,679 [INFO] ✅ c179a28de56841818f4b9c125ad3f7c0 완료 → ../outputs/mesh_segmentation_output/CustomDataset/000-001/c179a28de56841818f4b9c125ad3f7c0/caption_gpt.txt\n"
     ]
    },
    {
     "name": "stderr",
     "output_type": "stream",
     "text": [
      "Captioning meshes:  75%|███████▍  | 288/386 [21:55<07:52,  4.82s/it]"
     ]
    },
    {
     "name": "stdout",
     "output_type": "stream",
     "text": [
      "2025-04-29 15:17:59,400 [INFO] HTTP Request: POST https://api.openai.com/v1/chat/completions \"HTTP/1.1 200 OK\"\n",
      "2025-04-29 15:17:59,402 [INFO] ✅ c1987ac31310458794ffabcbd8bc7a49 완료 → ../outputs/mesh_segmentation_output/CustomDataset/000-001/c1987ac31310458794ffabcbd8bc7a49/caption_gpt.txt\n"
     ]
    },
    {
     "name": "stderr",
     "output_type": "stream",
     "text": [
      "Captioning meshes:  75%|███████▍  | 289/386 [21:59<07:16,  4.50s/it]"
     ]
    },
    {
     "name": "stdout",
     "output_type": "stream",
     "text": [
      "2025-04-29 15:18:02,844 [INFO] HTTP Request: POST https://api.openai.com/v1/chat/completions \"HTTP/1.1 200 OK\"\n",
      "2025-04-29 15:18:02,846 [INFO] ✅ c202e4836b3e44b58481a72d8ddbacdc 완료 → ../outputs/mesh_segmentation_output/CustomDataset/000-001/c202e4836b3e44b58481a72d8ddbacdc/caption_gpt.txt\n"
     ]
    },
    {
     "name": "stderr",
     "output_type": "stream",
     "text": [
      "Captioning meshes:  75%|███████▌  | 290/386 [22:02<06:41,  4.19s/it]"
     ]
    },
    {
     "name": "stdout",
     "output_type": "stream",
     "text": [
      "2025-04-29 15:18:09,307 [INFO] HTTP Request: POST https://api.openai.com/v1/chat/completions \"HTTP/1.1 200 OK\"\n",
      "2025-04-29 15:18:09,310 [INFO] ✅ c401ac33df044dd799ad9fc17d634c57 완료 → ../outputs/mesh_segmentation_output/CustomDataset/000-001/c401ac33df044dd799ad9fc17d634c57/caption_gpt.txt\n"
     ]
    },
    {
     "name": "stderr",
     "output_type": "stream",
     "text": [
      "Captioning meshes:  75%|███████▌  | 291/386 [22:09<07:42,  4.86s/it]"
     ]
    },
    {
     "name": "stdout",
     "output_type": "stream",
     "text": [
      "2025-04-29 15:18:14,157 [INFO] HTTP Request: POST https://api.openai.com/v1/chat/completions \"HTTP/1.1 200 OK\"\n",
      "2025-04-29 15:18:14,159 [INFO] ✅ c475f9167f5d4c21a46fe19d76f6d24c 완료 → ../outputs/mesh_segmentation_output/CustomDataset/000-001/c475f9167f5d4c21a46fe19d76f6d24c/caption_gpt.txt\n"
     ]
    },
    {
     "name": "stderr",
     "output_type": "stream",
     "text": [
      "Captioning meshes:  76%|███████▌  | 292/386 [22:13<07:36,  4.86s/it]"
     ]
    },
    {
     "name": "stdout",
     "output_type": "stream",
     "text": [
      "2025-04-29 15:18:20,844 [INFO] HTTP Request: POST https://api.openai.com/v1/chat/completions \"HTTP/1.1 200 OK\"\n",
      "2025-04-29 15:18:20,846 [INFO] ✅ c585131e1e23403684e9a1059977333e 완료 → ../outputs/mesh_segmentation_output/CustomDataset/000-001/c585131e1e23403684e9a1059977333e/caption_gpt.txt\n"
     ]
    },
    {
     "name": "stderr",
     "output_type": "stream",
     "text": [
      "Captioning meshes:  76%|███████▌  | 293/386 [22:20<08:22,  5.41s/it]"
     ]
    },
    {
     "name": "stdout",
     "output_type": "stream",
     "text": [
      "2025-04-29 15:18:25,189 [INFO] HTTP Request: POST https://api.openai.com/v1/chat/completions \"HTTP/1.1 200 OK\"\n",
      "2025-04-29 15:18:25,191 [INFO] ✅ c5a60e318f87455db63800ae12b43a19 완료 → ../outputs/mesh_segmentation_output/CustomDataset/000-001/c5a60e318f87455db63800ae12b43a19/caption_gpt.txt\n"
     ]
    },
    {
     "name": "stderr",
     "output_type": "stream",
     "text": [
      "Captioning meshes:  76%|███████▌  | 294/386 [22:24<07:48,  5.09s/it]"
     ]
    },
    {
     "name": "stdout",
     "output_type": "stream",
     "text": [
      "2025-04-29 15:18:31,765 [INFO] HTTP Request: POST https://api.openai.com/v1/chat/completions \"HTTP/1.1 200 OK\"\n",
      "2025-04-29 15:18:31,767 [INFO] ✅ c61a25784f6f454a9bdf83526250ceb8 완료 → ../outputs/mesh_segmentation_output/CustomDataset/000-001/c61a25784f6f454a9bdf83526250ceb8/caption_gpt.txt\n"
     ]
    },
    {
     "name": "stderr",
     "output_type": "stream",
     "text": [
      "Captioning meshes:  76%|███████▋  | 295/386 [22:31<08:23,  5.53s/it]"
     ]
    },
    {
     "name": "stdout",
     "output_type": "stream",
     "text": [
      "2025-04-29 15:18:39,858 [INFO] HTTP Request: POST https://api.openai.com/v1/chat/completions \"HTTP/1.1 200 OK\"\n",
      "2025-04-29 15:18:39,861 [INFO] ✅ c6678a45691f43db9ba45573d6f2a407 완료 → ../outputs/mesh_segmentation_output/CustomDataset/000-001/c6678a45691f43db9ba45573d6f2a407/caption_gpt.txt\n"
     ]
    },
    {
     "name": "stderr",
     "output_type": "stream",
     "text": [
      "Captioning meshes:  77%|███████▋  | 296/386 [22:39<09:27,  6.30s/it]"
     ]
    },
    {
     "name": "stdout",
     "output_type": "stream",
     "text": [
      "2025-04-29 15:18:44,089 [INFO] HTTP Request: POST https://api.openai.com/v1/chat/completions \"HTTP/1.1 200 OK\"\n",
      "2025-04-29 15:18:44,092 [INFO] ✅ c74ece3686c2459591cb6d091a8efe3c 완료 → ../outputs/mesh_segmentation_output/CustomDataset/000-001/c74ece3686c2459591cb6d091a8efe3c/caption_gpt.txt\n"
     ]
    },
    {
     "name": "stderr",
     "output_type": "stream",
     "text": [
      "Captioning meshes:  77%|███████▋  | 297/386 [22:43<08:25,  5.68s/it]"
     ]
    },
    {
     "name": "stdout",
     "output_type": "stream",
     "text": [
      "2025-04-29 15:18:49,732 [INFO] HTTP Request: POST https://api.openai.com/v1/chat/completions \"HTTP/1.1 200 OK\"\n",
      "2025-04-29 15:18:49,733 [INFO] ✅ c7763e69bfe447d68cdbd65920e2bd03 완료 → ../outputs/mesh_segmentation_output/CustomDataset/000-001/c7763e69bfe447d68cdbd65920e2bd03/caption_gpt.txt\n"
     ]
    },
    {
     "name": "stderr",
     "output_type": "stream",
     "text": [
      "Captioning meshes:  77%|███████▋  | 298/386 [22:49<08:18,  5.67s/it]"
     ]
    },
    {
     "name": "stdout",
     "output_type": "stream",
     "text": [
      "2025-04-29 15:18:49,734 [WARNING] ⚠️  c907ae343b114ad0a8d1cbf0073ce16e: 필요한 이미지 파일이 존재하지 않음\n",
      "2025-04-29 15:18:49,735 [WARNING] ⚠️  ca5f461effab4c23b416780d668c54a7: 필요한 이미지 파일이 존재하지 않음\n",
      "2025-04-29 15:18:54,174 [INFO] HTTP Request: POST https://api.openai.com/v1/chat/completions \"HTTP/1.1 200 OK\"\n",
      "2025-04-29 15:18:54,176 [INFO] ✅ cb71d5e88bb34bb8a211b264605570fb 완료 → ../outputs/mesh_segmentation_output/CustomDataset/000-001/cb71d5e88bb34bb8a211b264605570fb/caption_gpt.txt\n"
     ]
    },
    {
     "name": "stderr",
     "output_type": "stream",
     "text": [
      "Captioning meshes:  78%|███████▊  | 301/386 [22:53<04:41,  3.31s/it]"
     ]
    },
    {
     "name": "stdout",
     "output_type": "stream",
     "text": [
      "2025-04-29 15:18:58,224 [INFO] HTTP Request: POST https://api.openai.com/v1/chat/completions \"HTTP/1.1 200 OK\"\n",
      "2025-04-29 15:18:58,227 [INFO] ✅ cba2f4d4b3004ca08144ee0b7e781c83 완료 → ../outputs/mesh_segmentation_output/CustomDataset/000-001/cba2f4d4b3004ca08144ee0b7e781c83/caption_gpt.txt\n"
     ]
    },
    {
     "name": "stderr",
     "output_type": "stream",
     "text": [
      "Captioning meshes:  78%|███████▊  | 302/386 [22:57<04:51,  3.47s/it]"
     ]
    },
    {
     "name": "stdout",
     "output_type": "stream",
     "text": [
      "2025-04-29 15:19:03,418 [INFO] HTTP Request: POST https://api.openai.com/v1/chat/completions \"HTTP/1.1 200 OK\"\n",
      "2025-04-29 15:19:03,421 [INFO] ✅ cc03666eb6b4406b8865385dc9c3046a 완료 → ../outputs/mesh_segmentation_output/CustomDataset/000-001/cc03666eb6b4406b8865385dc9c3046a/caption_gpt.txt\n"
     ]
    },
    {
     "name": "stderr",
     "output_type": "stream",
     "text": [
      "Captioning meshes:  78%|███████▊  | 303/386 [23:03<05:21,  3.87s/it]"
     ]
    },
    {
     "name": "stdout",
     "output_type": "stream",
     "text": [
      "2025-04-29 15:19:03,422 [WARNING] ⚠️  cc3f7e71d5324040abfe47e270ab830f: 필요한 이미지 파일이 존재하지 않음\n",
      "2025-04-29 15:19:09,958 [INFO] HTTP Request: POST https://api.openai.com/v1/chat/completions \"HTTP/1.1 200 OK\"\n",
      "2025-04-29 15:19:09,960 [INFO] ✅ cd7743fb30fe4e3690f1a8942393782f 완료 → ../outputs/mesh_segmentation_output/CustomDataset/000-001/cd7743fb30fe4e3690f1a8942393782f/caption_gpt.txt\n"
     ]
    },
    {
     "name": "stderr",
     "output_type": "stream",
     "text": [
      "Captioning meshes:  79%|███████▉  | 305/386 [23:09<04:54,  3.63s/it]"
     ]
    },
    {
     "name": "stdout",
     "output_type": "stream",
     "text": [
      "2025-04-29 15:19:14,255 [INFO] HTTP Request: POST https://api.openai.com/v1/chat/completions \"HTTP/1.1 200 OK\"\n",
      "2025-04-29 15:19:14,257 [INFO] ✅ ceb7c6b9e5e042abb2502e8f6062122c 완료 → ../outputs/mesh_segmentation_output/CustomDataset/000-001/ceb7c6b9e5e042abb2502e8f6062122c/caption_gpt.txt\n"
     ]
    },
    {
     "name": "stderr",
     "output_type": "stream",
     "text": [
      "Captioning meshes:  79%|███████▉  | 306/386 [23:14<05:02,  3.78s/it]"
     ]
    },
    {
     "name": "stdout",
     "output_type": "stream",
     "text": [
      "2025-04-29 15:19:19,968 [INFO] HTTP Request: POST https://api.openai.com/v1/chat/completions \"HTTP/1.1 200 OK\"\n",
      "2025-04-29 15:19:19,970 [INFO] ✅ ceeeddd21a594ca38f763296578a1e62 완료 → ../outputs/mesh_segmentation_output/CustomDataset/000-001/ceeeddd21a594ca38f763296578a1e62/caption_gpt.txt\n"
     ]
    },
    {
     "name": "stderr",
     "output_type": "stream",
     "text": [
      "Captioning meshes:  80%|███████▉  | 307/386 [23:19<05:35,  4.24s/it]"
     ]
    },
    {
     "name": "stdout",
     "output_type": "stream",
     "text": [
      "2025-04-29 15:19:24,567 [INFO] HTTP Request: POST https://api.openai.com/v1/chat/completions \"HTTP/1.1 200 OK\"\n",
      "2025-04-29 15:19:24,569 [INFO] ✅ cf8fb29a3e004885891046b3015458b8 완료 → ../outputs/mesh_segmentation_output/CustomDataset/000-001/cf8fb29a3e004885891046b3015458b8/caption_gpt.txt\n"
     ]
    },
    {
     "name": "stderr",
     "output_type": "stream",
     "text": [
      "Captioning meshes:  80%|███████▉  | 308/386 [23:24<05:38,  4.33s/it]"
     ]
    },
    {
     "name": "stdout",
     "output_type": "stream",
     "text": [
      "2025-04-29 15:19:28,434 [INFO] HTTP Request: POST https://api.openai.com/v1/chat/completions \"HTTP/1.1 200 OK\"\n",
      "2025-04-29 15:19:28,436 [INFO] ✅ d09bb4d72820439ca6cc14bc2befe3c6 완료 → ../outputs/mesh_segmentation_output/CustomDataset/000-001/d09bb4d72820439ca6cc14bc2befe3c6/caption_gpt.txt\n"
     ]
    },
    {
     "name": "stderr",
     "output_type": "stream",
     "text": [
      "Captioning meshes:  80%|████████  | 309/386 [23:28<05:24,  4.21s/it]"
     ]
    },
    {
     "name": "stdout",
     "output_type": "stream",
     "text": [
      "2025-04-29 15:19:33,485 [INFO] HTTP Request: POST https://api.openai.com/v1/chat/completions \"HTTP/1.1 200 OK\"\n",
      "2025-04-29 15:19:33,488 [INFO] ✅ d21a3938c4be415eb9a920e8a78112cf 완료 → ../outputs/mesh_segmentation_output/CustomDataset/000-001/d21a3938c4be415eb9a920e8a78112cf/caption_gpt.txt\n"
     ]
    },
    {
     "name": "stderr",
     "output_type": "stream",
     "text": [
      "Captioning meshes:  80%|████████  | 310/386 [23:33<05:37,  4.44s/it]"
     ]
    },
    {
     "name": "stdout",
     "output_type": "stream",
     "text": [
      "2025-04-29 15:19:41,766 [INFO] HTTP Request: POST https://api.openai.com/v1/chat/completions \"HTTP/1.1 200 OK\"\n",
      "2025-04-29 15:19:41,768 [INFO] ✅ d276f02671004387bc234c9a9d327deb 완료 → ../outputs/mesh_segmentation_output/CustomDataset/000-001/d276f02671004387bc234c9a9d327deb/caption_gpt.txt\n"
     ]
    },
    {
     "name": "stderr",
     "output_type": "stream",
     "text": [
      "Captioning meshes:  81%|████████  | 311/386 [23:41<06:54,  5.53s/it]"
     ]
    },
    {
     "name": "stdout",
     "output_type": "stream",
     "text": [
      "2025-04-29 15:19:48,892 [INFO] HTTP Request: POST https://api.openai.com/v1/chat/completions \"HTTP/1.1 200 OK\"\n",
      "2025-04-29 15:19:48,894 [INFO] ✅ d2979d2c1316486c8c02f19e119b5675 완료 → ../outputs/mesh_segmentation_output/CustomDataset/000-001/d2979d2c1316486c8c02f19e119b5675/caption_gpt.txt\n"
     ]
    },
    {
     "name": "stderr",
     "output_type": "stream",
     "text": [
      "Captioning meshes:  81%|████████  | 312/386 [23:48<07:23,  5.99s/it]"
     ]
    },
    {
     "name": "stdout",
     "output_type": "stream",
     "text": [
      "2025-04-29 15:19:52,712 [INFO] HTTP Request: POST https://api.openai.com/v1/chat/completions \"HTTP/1.1 200 OK\"\n",
      "2025-04-29 15:19:52,714 [INFO] ✅ d2f5e1672e7346c5b6991169d99baf14 완료 → ../outputs/mesh_segmentation_output/CustomDataset/000-001/d2f5e1672e7346c5b6991169d99baf14/caption_gpt.txt\n"
     ]
    },
    {
     "name": "stderr",
     "output_type": "stream",
     "text": [
      "Captioning meshes:  81%|████████  | 313/386 [23:52<06:31,  5.36s/it]"
     ]
    },
    {
     "name": "stdout",
     "output_type": "stream",
     "text": [
      "2025-04-29 15:19:56,746 [INFO] HTTP Request: POST https://api.openai.com/v1/chat/completions \"HTTP/1.1 200 OK\"\n",
      "2025-04-29 15:19:56,748 [INFO] ✅ d3c89c283eed47e8a730df003223463b 완료 → ../outputs/mesh_segmentation_output/CustomDataset/000-001/d3c89c283eed47e8a730df003223463b/caption_gpt.txt\n"
     ]
    },
    {
     "name": "stderr",
     "output_type": "stream",
     "text": [
      "Captioning meshes:  81%|████████▏ | 314/386 [23:56<05:57,  4.97s/it]"
     ]
    },
    {
     "name": "stdout",
     "output_type": "stream",
     "text": [
      "2025-04-29 15:20:00,116 [INFO] HTTP Request: POST https://api.openai.com/v1/chat/completions \"HTTP/1.1 200 OK\"\n",
      "2025-04-29 15:20:00,118 [INFO] ✅ d6082e781a604e2abee324ff694dc6a2 완료 → ../outputs/mesh_segmentation_output/CustomDataset/000-001/d6082e781a604e2abee324ff694dc6a2/caption_gpt.txt\n"
     ]
    },
    {
     "name": "stderr",
     "output_type": "stream",
     "text": [
      "Captioning meshes:  82%|████████▏ | 315/386 [23:59<05:19,  4.50s/it]"
     ]
    },
    {
     "name": "stdout",
     "output_type": "stream",
     "text": [
      "2025-04-29 15:20:04,284 [INFO] HTTP Request: POST https://api.openai.com/v1/chat/completions \"HTTP/1.1 200 OK\"\n",
      "2025-04-29 15:20:04,286 [INFO] ✅ d6ea846e26694b7e9e91c893baa8071d 완료 → ../outputs/mesh_segmentation_output/CustomDataset/000-001/d6ea846e26694b7e9e91c893baa8071d/caption_gpt.txt\n"
     ]
    },
    {
     "name": "stderr",
     "output_type": "stream",
     "text": [
      "Captioning meshes:  82%|████████▏ | 316/386 [24:04<05:07,  4.40s/it]"
     ]
    },
    {
     "name": "stdout",
     "output_type": "stream",
     "text": [
      "2025-04-29 15:20:04,287 [WARNING] ⚠️  d7e18c0b0ba64c25b4453c0e1e4dcccc: 필요한 이미지 파일이 존재하지 않음\n",
      "2025-04-29 15:20:08,661 [INFO] HTTP Request: POST https://api.openai.com/v1/chat/completions \"HTTP/1.1 200 OK\"\n",
      "2025-04-29 15:20:08,663 [INFO] ✅ d97747e9300e4fcf8f21b082e727670f 완료 → ../outputs/mesh_segmentation_output/CustomDataset/000-001/d97747e9300e4fcf8f21b082e727670f/caption_gpt.txt\n"
     ]
    },
    {
     "name": "stderr",
     "output_type": "stream",
     "text": [
      "Captioning meshes:  82%|████████▏ | 318/386 [24:08<03:50,  3.38s/it]"
     ]
    },
    {
     "name": "stdout",
     "output_type": "stream",
     "text": [
      "2025-04-29 15:20:08,664 [WARNING] ⚠️  daaabc954e3444089d334cc0a7df4f0a: 필요한 이미지 파일이 존재하지 않음\n",
      "2025-04-29 15:20:08,665 [WARNING] ⚠️  db88dd47c3674127a353393d6532bbc5: 필요한 이미지 파일이 존재하지 않음\n",
      "2025-04-29 15:20:08,673 [WARNING] ⚠️  dbcf3ef57d47460cb5cba8445d9ad9ee: 필요한 이미지 파일이 존재하지 않음\n",
      "2025-04-29 15:20:12,525 [INFO] HTTP Request: POST https://api.openai.com/v1/chat/completions \"HTTP/1.1 200 OK\"\n",
      "2025-04-29 15:20:12,527 [INFO] ✅ dbef08259e8040bfb74d827a04f1abba 완료 → ../outputs/mesh_segmentation_output/CustomDataset/000-001/dbef08259e8040bfb74d827a04f1abba/caption_gpt.txt\n"
     ]
    },
    {
     "name": "stderr",
     "output_type": "stream",
     "text": [
      "Captioning meshes:  83%|████████▎ | 322/386 [24:12<02:08,  2.01s/it]"
     ]
    },
    {
     "name": "stdout",
     "output_type": "stream",
     "text": [
      "2025-04-29 15:20:19,324 [INFO] HTTP Request: POST https://api.openai.com/v1/chat/completions \"HTTP/1.1 200 OK\"\n",
      "2025-04-29 15:20:19,327 [INFO] ✅ dc8ca8f5f9824c1884bffd1730a98bae 완료 → ../outputs/mesh_segmentation_output/CustomDataset/000-001/dc8ca8f5f9824c1884bffd1730a98bae/caption_gpt.txt\n"
     ]
    },
    {
     "name": "stderr",
     "output_type": "stream",
     "text": [
      "Captioning meshes:  84%|████████▎ | 323/386 [24:19<02:57,  2.82s/it]"
     ]
    },
    {
     "name": "stdout",
     "output_type": "stream",
     "text": [
      "2025-04-29 15:20:30,407 [INFO] HTTP Request: POST https://api.openai.com/v1/chat/completions \"HTTP/1.1 200 OK\"\n",
      "2025-04-29 15:20:30,409 [INFO] ✅ dcb878f3b24c44e099b1f51011cd432d 완료 → ../outputs/mesh_segmentation_output/CustomDataset/000-001/dcb878f3b24c44e099b1f51011cd432d/caption_gpt.txt\n"
     ]
    },
    {
     "name": "stderr",
     "output_type": "stream",
     "text": [
      "Captioning meshes:  84%|████████▍ | 324/386 [24:30<04:34,  4.42s/it]"
     ]
    },
    {
     "name": "stdout",
     "output_type": "stream",
     "text": [
      "2025-04-29 15:20:33,999 [INFO] HTTP Request: POST https://api.openai.com/v1/chat/completions \"HTTP/1.1 200 OK\"\n",
      "2025-04-29 15:20:34,001 [INFO] ✅ ddb6f02f3f114eb09987f5362a998032 완료 → ../outputs/mesh_segmentation_output/CustomDataset/000-001/ddb6f02f3f114eb09987f5362a998032/caption_gpt.txt\n"
     ]
    },
    {
     "name": "stderr",
     "output_type": "stream",
     "text": [
      "Captioning meshes:  84%|████████▍ | 325/386 [24:33<04:18,  4.24s/it]"
     ]
    },
    {
     "name": "stdout",
     "output_type": "stream",
     "text": [
      "2025-04-29 15:20:39,785 [INFO] HTTP Request: POST https://api.openai.com/v1/chat/completions \"HTTP/1.1 200 OK\"\n",
      "2025-04-29 15:20:39,788 [INFO] ✅ ddd2e4bc29e440b4af2b042d3044e90d 완료 → ../outputs/mesh_segmentation_output/CustomDataset/000-001/ddd2e4bc29e440b4af2b042d3044e90d/caption_gpt.txt\n"
     ]
    },
    {
     "name": "stderr",
     "output_type": "stream",
     "text": [
      "Captioning meshes:  84%|████████▍ | 326/386 [24:39<04:36,  4.61s/it]"
     ]
    },
    {
     "name": "stdout",
     "output_type": "stream",
     "text": [
      "2025-04-29 15:20:44,416 [INFO] HTTP Request: POST https://api.openai.com/v1/chat/completions \"HTTP/1.1 200 OK\"\n",
      "2025-04-29 15:20:44,418 [INFO] ✅ dfa2f36553c9493f9ba86fb6e7edefd2 완료 → ../outputs/mesh_segmentation_output/CustomDataset/000-001/dfa2f36553c9493f9ba86fb6e7edefd2/caption_gpt.txt\n"
     ]
    },
    {
     "name": "stderr",
     "output_type": "stream",
     "text": [
      "Captioning meshes:  85%|████████▍ | 327/386 [24:44<04:32,  4.61s/it]"
     ]
    },
    {
     "name": "stdout",
     "output_type": "stream",
     "text": [
      "2025-04-29 15:20:50,656 [INFO] HTTP Request: POST https://api.openai.com/v1/chat/completions \"HTTP/1.1 200 OK\"\n",
      "2025-04-29 15:20:50,659 [INFO] ✅ dfae009aa7504fd9beb080469172675d 완료 → ../outputs/mesh_segmentation_output/CustomDataset/000-001/dfae009aa7504fd9beb080469172675d/caption_gpt.txt\n"
     ]
    },
    {
     "name": "stderr",
     "output_type": "stream",
     "text": [
      "Captioning meshes:  85%|████████▍ | 328/386 [24:50<04:52,  5.04s/it]"
     ]
    },
    {
     "name": "stdout",
     "output_type": "stream",
     "text": [
      "2025-04-29 15:20:57,052 [INFO] HTTP Request: POST https://api.openai.com/v1/chat/completions \"HTTP/1.1 200 OK\"\n",
      "2025-04-29 15:20:57,055 [INFO] ✅ e0794f67ca3044698b2fb75c2ec107b6 완료 → ../outputs/mesh_segmentation_output/CustomDataset/000-001/e0794f67ca3044698b2fb75c2ec107b6/caption_gpt.txt\n"
     ]
    },
    {
     "name": "stderr",
     "output_type": "stream",
     "text": [
      "Captioning meshes:  85%|████████▌ | 329/386 [24:56<05:08,  5.42s/it]"
     ]
    },
    {
     "name": "stdout",
     "output_type": "stream",
     "text": [
      "2025-04-29 15:20:57,055 [WARNING] ⚠️  e1136159dbce44198c16aafad0ce8f39: 필요한 이미지 파일이 존재하지 않음\n",
      "2025-04-29 15:21:02,185 [INFO] HTTP Request: POST https://api.openai.com/v1/chat/completions \"HTTP/1.1 200 OK\"\n",
      "2025-04-29 15:21:02,187 [INFO] ✅ e1bc713a3a6e4ec8924b75106eb5d61a 완료 → ../outputs/mesh_segmentation_output/CustomDataset/000-001/e1bc713a3a6e4ec8924b75106eb5d61a/caption_gpt.txt\n"
     ]
    },
    {
     "name": "stderr",
     "output_type": "stream",
     "text": [
      "Captioning meshes:  86%|████████▌ | 331/386 [25:01<03:48,  4.16s/it]"
     ]
    },
    {
     "name": "stdout",
     "output_type": "stream",
     "text": [
      "2025-04-29 15:21:06,802 [INFO] HTTP Request: POST https://api.openai.com/v1/chat/completions \"HTTP/1.1 200 OK\"\n",
      "2025-04-29 15:21:06,804 [INFO] ✅ e317214df2c04b25a5497db2cc1597a5 완료 → ../outputs/mesh_segmentation_output/CustomDataset/000-001/e317214df2c04b25a5497db2cc1597a5/caption_gpt.txt\n"
     ]
    },
    {
     "name": "stderr",
     "output_type": "stream",
     "text": [
      "Captioning meshes:  86%|████████▌ | 332/386 [25:06<03:50,  4.27s/it]"
     ]
    },
    {
     "name": "stdout",
     "output_type": "stream",
     "text": [
      "2025-04-29 15:21:10,448 [INFO] HTTP Request: POST https://api.openai.com/v1/chat/completions \"HTTP/1.1 200 OK\"\n",
      "2025-04-29 15:21:10,450 [INFO] ✅ e31ff815af184198a2cf5f83f7979de7 완료 → ../outputs/mesh_segmentation_output/CustomDataset/000-001/e31ff815af184198a2cf5f83f7979de7/caption_gpt.txt\n"
     ]
    },
    {
     "name": "stderr",
     "output_type": "stream",
     "text": [
      "Captioning meshes:  86%|████████▋ | 333/386 [25:10<03:37,  4.11s/it]"
     ]
    },
    {
     "name": "stdout",
     "output_type": "stream",
     "text": [
      "2025-04-29 15:21:10,452 [WARNING] ⚠️  e38fed677c554001ae43725dd6bb643d: 필요한 이미지 파일이 존재하지 않음\n",
      "2025-04-29 15:21:16,721 [INFO] HTTP Request: POST https://api.openai.com/v1/chat/completions \"HTTP/1.1 200 OK\"\n",
      "2025-04-29 15:21:16,723 [INFO] ✅ e3a2f1dbe3d841bc9478b88d219a1269 완료 → ../outputs/mesh_segmentation_output/CustomDataset/000-001/e3a2f1dbe3d841bc9478b88d219a1269/caption_gpt.txt\n"
     ]
    },
    {
     "name": "stderr",
     "output_type": "stream",
     "text": [
      "Captioning meshes:  87%|████████▋ | 335/386 [25:16<03:08,  3.70s/it]"
     ]
    },
    {
     "name": "stdout",
     "output_type": "stream",
     "text": [
      "2025-04-29 15:21:22,447 [INFO] HTTP Request: POST https://api.openai.com/v1/chat/completions \"HTTP/1.1 200 OK\"\n",
      "2025-04-29 15:21:22,449 [INFO] ✅ e3d0e29f31804070baa9b9c6976e0738 완료 → ../outputs/mesh_segmentation_output/CustomDataset/000-001/e3d0e29f31804070baa9b9c6976e0738/caption_gpt.txt\n"
     ]
    },
    {
     "name": "stderr",
     "output_type": "stream",
     "text": [
      "Captioning meshes:  87%|████████▋ | 336/386 [25:22<03:28,  4.17s/it]"
     ]
    },
    {
     "name": "stdout",
     "output_type": "stream",
     "text": [
      "2025-04-29 15:21:28,122 [INFO] HTTP Request: POST https://api.openai.com/v1/chat/completions \"HTTP/1.1 200 OK\"\n",
      "2025-04-29 15:21:28,124 [INFO] ✅ e3d752743cb04dffb06ab03fe65d95e5 완료 → ../outputs/mesh_segmentation_output/CustomDataset/000-001/e3d752743cb04dffb06ab03fe65d95e5/caption_gpt.txt\n"
     ]
    },
    {
     "name": "stderr",
     "output_type": "stream",
     "text": [
      "Captioning meshes:  87%|████████▋ | 337/386 [25:27<03:42,  4.54s/it]"
     ]
    },
    {
     "name": "stdout",
     "output_type": "stream",
     "text": [
      "2025-04-29 15:21:31,172 [INFO] HTTP Request: POST https://api.openai.com/v1/chat/completions \"HTTP/1.1 200 OK\"\n",
      "2025-04-29 15:21:31,174 [INFO] ✅ e4379cd7e1c4457a8189234f6276d755 완료 → ../outputs/mesh_segmentation_output/CustomDataset/000-001/e4379cd7e1c4457a8189234f6276d755/caption_gpt.txt\n"
     ]
    },
    {
     "name": "stderr",
     "output_type": "stream",
     "text": [
      "Captioning meshes:  88%|████████▊ | 338/386 [25:30<03:19,  4.15s/it]"
     ]
    },
    {
     "name": "stdout",
     "output_type": "stream",
     "text": [
      "2025-04-29 15:21:36,617 [INFO] HTTP Request: POST https://api.openai.com/v1/chat/completions \"HTTP/1.1 200 OK\"\n",
      "2025-04-29 15:21:36,619 [INFO] ✅ e4dd51c4c06041b3ac094fe1c48988b5 완료 → ../outputs/mesh_segmentation_output/CustomDataset/000-001/e4dd51c4c06041b3ac094fe1c48988b5/caption_gpt.txt\n"
     ]
    },
    {
     "name": "stderr",
     "output_type": "stream",
     "text": [
      "Captioning meshes:  88%|████████▊ | 339/386 [25:36<03:31,  4.50s/it]"
     ]
    },
    {
     "name": "stdout",
     "output_type": "stream",
     "text": [
      "2025-04-29 15:21:43,981 [INFO] HTTP Request: POST https://api.openai.com/v1/chat/completions \"HTTP/1.1 200 OK\"\n",
      "2025-04-29 15:21:43,983 [INFO] ✅ e66fad6788ba4c1f9ea691203496ae69 완료 → ../outputs/mesh_segmentation_output/CustomDataset/000-001/e66fad6788ba4c1f9ea691203496ae69/caption_gpt.txt\n"
     ]
    },
    {
     "name": "stderr",
     "output_type": "stream",
     "text": [
      "Captioning meshes:  88%|████████▊ | 340/386 [25:43<04:04,  5.31s/it]"
     ]
    },
    {
     "name": "stdout",
     "output_type": "stream",
     "text": [
      "2025-04-29 15:21:47,379 [INFO] HTTP Request: POST https://api.openai.com/v1/chat/completions \"HTTP/1.1 200 OK\"\n",
      "2025-04-29 15:21:47,381 [INFO] ✅ e6904c9f44a54f83b8bdd770fe174faa 완료 → ../outputs/mesh_segmentation_output/CustomDataset/000-001/e6904c9f44a54f83b8bdd770fe174faa/caption_gpt.txt\n"
     ]
    },
    {
     "name": "stderr",
     "output_type": "stream",
     "text": [
      "Captioning meshes:  88%|████████▊ | 341/386 [25:47<03:34,  4.76s/it]"
     ]
    },
    {
     "name": "stdout",
     "output_type": "stream",
     "text": [
      "2025-04-29 15:21:51,333 [INFO] HTTP Request: POST https://api.openai.com/v1/chat/completions \"HTTP/1.1 200 OK\"\n",
      "2025-04-29 15:21:51,336 [INFO] ✅ e6925da124b34b6794b675083b88d652 완료 → ../outputs/mesh_segmentation_output/CustomDataset/000-001/e6925da124b34b6794b675083b88d652/caption_gpt.txt\n"
     ]
    },
    {
     "name": "stderr",
     "output_type": "stream",
     "text": [
      "Captioning meshes:  89%|████████▊ | 342/386 [25:51<03:19,  4.53s/it]"
     ]
    },
    {
     "name": "stdout",
     "output_type": "stream",
     "text": [
      "2025-04-29 15:21:51,337 [WARNING] ⚠️  e7418965745444218a546170611aa898: 필요한 이미지 파일이 존재하지 않음\n",
      "2025-04-29 15:21:56,102 [INFO] HTTP Request: POST https://api.openai.com/v1/chat/completions \"HTTP/1.1 200 OK\"\n",
      "2025-04-29 15:21:56,104 [INFO] ✅ e7efcf462312493f933da4fbd36d076f 완료 → ../outputs/mesh_segmentation_output/CustomDataset/000-001/e7efcf462312493f933da4fbd36d076f/caption_gpt.txt\n"
     ]
    },
    {
     "name": "stderr",
     "output_type": "stream",
     "text": [
      "Captioning meshes:  89%|████████▉ | 344/386 [25:55<02:29,  3.56s/it]"
     ]
    },
    {
     "name": "stdout",
     "output_type": "stream",
     "text": [
      "2025-04-29 15:21:59,876 [INFO] HTTP Request: POST https://api.openai.com/v1/chat/completions \"HTTP/1.1 200 OK\"\n",
      "2025-04-29 15:21:59,878 [INFO] ✅ e834b82d05f74468acdadf86f021e5ed 완료 → ../outputs/mesh_segmentation_output/CustomDataset/000-001/e834b82d05f74468acdadf86f021e5ed/caption_gpt.txt\n"
     ]
    },
    {
     "name": "stderr",
     "output_type": "stream",
     "text": [
      "Captioning meshes:  89%|████████▉ | 345/386 [25:59<02:27,  3.61s/it]"
     ]
    },
    {
     "name": "stdout",
     "output_type": "stream",
     "text": [
      "2025-04-29 15:22:02,839 [INFO] HTTP Request: POST https://api.openai.com/v1/chat/completions \"HTTP/1.1 200 OK\"\n",
      "2025-04-29 15:22:02,841 [INFO] ✅ e94b26a9a64b41bd961075173d35c9fb 완료 → ../outputs/mesh_segmentation_output/CustomDataset/000-001/e94b26a9a64b41bd961075173d35c9fb/caption_gpt.txt\n"
     ]
    },
    {
     "name": "stderr",
     "output_type": "stream",
     "text": [
      "Captioning meshes:  90%|████████▉ | 346/386 [26:02<02:17,  3.44s/it]"
     ]
    },
    {
     "name": "stdout",
     "output_type": "stream",
     "text": [
      "2025-04-29 15:22:10,580 [INFO] HTTP Request: POST https://api.openai.com/v1/chat/completions \"HTTP/1.1 200 OK\"\n",
      "2025-04-29 15:22:10,582 [INFO] ✅ e9b5719152044903a2ab503a5609e4f3 완료 → ../outputs/mesh_segmentation_output/CustomDataset/000-001/e9b5719152044903a2ab503a5609e4f3/caption_gpt.txt\n"
     ]
    },
    {
     "name": "stderr",
     "output_type": "stream",
     "text": [
      "Captioning meshes:  90%|████████▉ | 347/386 [26:10<02:59,  4.60s/it]"
     ]
    },
    {
     "name": "stdout",
     "output_type": "stream",
     "text": [
      "2025-04-29 15:22:16,315 [INFO] HTTP Request: POST https://api.openai.com/v1/chat/completions \"HTTP/1.1 200 OK\"\n",
      "2025-04-29 15:22:16,317 [INFO] ✅ eb67af3ab4144c55b913dfb2578563d7 완료 → ../outputs/mesh_segmentation_output/CustomDataset/000-001/eb67af3ab4144c55b913dfb2578563d7/caption_gpt.txt\n"
     ]
    },
    {
     "name": "stderr",
     "output_type": "stream",
     "text": [
      "Captioning meshes:  90%|█████████ | 348/386 [26:16<03:06,  4.92s/it]"
     ]
    },
    {
     "name": "stdout",
     "output_type": "stream",
     "text": [
      "2025-04-29 15:22:23,144 [INFO] HTTP Request: POST https://api.openai.com/v1/chat/completions \"HTTP/1.1 200 OK\"\n",
      "2025-04-29 15:22:23,146 [INFO] ✅ eb98db5fc9264396a4e24d24a3f5e1bb 완료 → ../outputs/mesh_segmentation_output/CustomDataset/000-001/eb98db5fc9264396a4e24d24a3f5e1bb/caption_gpt.txt\n"
     ]
    },
    {
     "name": "stderr",
     "output_type": "stream",
     "text": [
      "Captioning meshes:  90%|█████████ | 349/386 [26:22<03:22,  5.46s/it]"
     ]
    },
    {
     "name": "stdout",
     "output_type": "stream",
     "text": [
      "2025-04-29 15:22:26,144 [INFO] HTTP Request: POST https://api.openai.com/v1/chat/completions \"HTTP/1.1 200 OK\"\n",
      "2025-04-29 15:22:26,147 [INFO] ✅ ebf89ef157c54692a5e72d07986c618b 완료 → ../outputs/mesh_segmentation_output/CustomDataset/000-001/ebf89ef157c54692a5e72d07986c618b/caption_gpt.txt\n"
     ]
    },
    {
     "name": "stderr",
     "output_type": "stream",
     "text": [
      "Captioning meshes:  91%|█████████ | 350/386 [26:25<02:51,  4.75s/it]"
     ]
    },
    {
     "name": "stdout",
     "output_type": "stream",
     "text": [
      "2025-04-29 15:22:26,148 [WARNING] ⚠️  ec3e1a0965e3405c9c16cd1af6eb5480: 필요한 이미지 파일이 존재하지 않음\n",
      "2025-04-29 15:22:33,303 [INFO] HTTP Request: POST https://api.openai.com/v1/chat/completions \"HTTP/1.1 200 OK\"\n",
      "2025-04-29 15:22:33,304 [INFO] ✅ ecec657d1b8546d886bb865dc6d6296e 완료 → ../outputs/mesh_segmentation_output/CustomDataset/000-001/ecec657d1b8546d886bb865dc6d6296e/caption_gpt.txt\n"
     ]
    },
    {
     "name": "stderr",
     "output_type": "stream",
     "text": [
      "Captioning meshes:  91%|█████████ | 352/386 [26:33<02:23,  4.22s/it]"
     ]
    },
    {
     "name": "stdout",
     "output_type": "stream",
     "text": [
      "2025-04-29 15:22:36,105 [INFO] HTTP Request: POST https://api.openai.com/v1/chat/completions \"HTTP/1.1 200 OK\"\n",
      "2025-04-29 15:22:36,107 [INFO] ✅ ecf7e409454d450cbde731259a51bbd5 완료 → ../outputs/mesh_segmentation_output/CustomDataset/000-001/ecf7e409454d450cbde731259a51bbd5/caption_gpt.txt\n"
     ]
    },
    {
     "name": "stderr",
     "output_type": "stream",
     "text": [
      "Captioning meshes:  91%|█████████▏| 353/386 [26:35<02:07,  3.87s/it]"
     ]
    },
    {
     "name": "stdout",
     "output_type": "stream",
     "text": [
      "2025-04-29 15:22:40,809 [INFO] HTTP Request: POST https://api.openai.com/v1/chat/completions \"HTTP/1.1 200 OK\"\n",
      "2025-04-29 15:22:40,811 [INFO] ✅ ed1c304377db475c8bd290da94a1a58f 완료 → ../outputs/mesh_segmentation_output/CustomDataset/000-001/ed1c304377db475c8bd290da94a1a58f/caption_gpt.txt\n"
     ]
    },
    {
     "name": "stderr",
     "output_type": "stream",
     "text": [
      "Captioning meshes:  92%|█████████▏| 354/386 [26:40<02:10,  4.09s/it]"
     ]
    },
    {
     "name": "stdout",
     "output_type": "stream",
     "text": [
      "2025-04-29 15:22:45,931 [INFO] HTTP Request: POST https://api.openai.com/v1/chat/completions \"HTTP/1.1 200 OK\"\n",
      "2025-04-29 15:22:45,933 [INFO] ✅ ed357fcc633744cdba4b1d02141091fa 완료 → ../outputs/mesh_segmentation_output/CustomDataset/000-001/ed357fcc633744cdba4b1d02141091fa/caption_gpt.txt\n"
     ]
    },
    {
     "name": "stderr",
     "output_type": "stream",
     "text": [
      "Captioning meshes:  92%|█████████▏| 355/386 [26:45<02:15,  4.37s/it]"
     ]
    },
    {
     "name": "stdout",
     "output_type": "stream",
     "text": [
      "2025-04-29 15:22:50,244 [INFO] HTTP Request: POST https://api.openai.com/v1/chat/completions \"HTTP/1.1 200 OK\"\n",
      "2025-04-29 15:22:50,246 [INFO] ✅ ef567e6e083a406aac24eadc124c1f5f 완료 → ../outputs/mesh_segmentation_output/CustomDataset/000-001/ef567e6e083a406aac24eadc124c1f5f/caption_gpt.txt\n"
     ]
    },
    {
     "name": "stderr",
     "output_type": "stream",
     "text": [
      "Captioning meshes:  92%|█████████▏| 356/386 [26:49<02:10,  4.35s/it]"
     ]
    },
    {
     "name": "stdout",
     "output_type": "stream",
     "text": [
      "2025-04-29 15:22:56,451 [INFO] HTTP Request: POST https://api.openai.com/v1/chat/completions \"HTTP/1.1 200 OK\"\n",
      "2025-04-29 15:22:56,453 [INFO] ✅ efd9bf8b2a184b3dbdb34d8b93437e8f 완료 → ../outputs/mesh_segmentation_output/CustomDataset/000-001/efd9bf8b2a184b3dbdb34d8b93437e8f/caption_gpt.txt\n"
     ]
    },
    {
     "name": "stderr",
     "output_type": "stream",
     "text": [
      "Captioning meshes:  92%|█████████▏| 357/386 [26:56<02:21,  4.88s/it]"
     ]
    },
    {
     "name": "stdout",
     "output_type": "stream",
     "text": [
      "2025-04-29 15:23:01,359 [INFO] HTTP Request: POST https://api.openai.com/v1/chat/completions \"HTTP/1.1 200 OK\"\n",
      "2025-04-29 15:23:01,361 [INFO] ✅ f0309cd2e4a347c3996cd7d887cd2d4a 완료 → ../outputs/mesh_segmentation_output/CustomDataset/000-001/f0309cd2e4a347c3996cd7d887cd2d4a/caption_gpt.txt\n"
     ]
    },
    {
     "name": "stderr",
     "output_type": "stream",
     "text": [
      "Captioning meshes:  93%|█████████▎| 358/386 [27:01<02:16,  4.89s/it]"
     ]
    },
    {
     "name": "stdout",
     "output_type": "stream",
     "text": [
      "2025-04-29 15:23:06,168 [INFO] HTTP Request: POST https://api.openai.com/v1/chat/completions \"HTTP/1.1 200 OK\"\n",
      "2025-04-29 15:23:06,182 [INFO] ✅ f14caf5b741b47aca1b9568ba135edc1 완료 → ../outputs/mesh_segmentation_output/CustomDataset/000-001/f14caf5b741b47aca1b9568ba135edc1/caption_gpt.txt\n"
     ]
    },
    {
     "name": "stderr",
     "output_type": "stream",
     "text": [
      "Captioning meshes:  93%|█████████▎| 359/386 [27:05<02:11,  4.87s/it]"
     ]
    },
    {
     "name": "stdout",
     "output_type": "stream",
     "text": [
      "2025-04-29 15:23:12,798 [INFO] HTTP Request: POST https://api.openai.com/v1/chat/completions \"HTTP/1.1 200 OK\"\n",
      "2025-04-29 15:23:12,800 [INFO] ✅ f22efdde798e4281bb95f7bb709430e7 완료 → ../outputs/mesh_segmentation_output/CustomDataset/000-001/f22efdde798e4281bb95f7bb709430e7/caption_gpt.txt\n"
     ]
    },
    {
     "name": "stderr",
     "output_type": "stream",
     "text": [
      "Captioning meshes:  93%|█████████▎| 360/386 [27:12<02:19,  5.38s/it]"
     ]
    },
    {
     "name": "stdout",
     "output_type": "stream",
     "text": [
      "2025-04-29 15:23:17,424 [INFO] HTTP Request: POST https://api.openai.com/v1/chat/completions \"HTTP/1.1 200 OK\"\n",
      "2025-04-29 15:23:17,426 [INFO] ✅ f2a513fa322d44e0a846dc17161f5753 완료 → ../outputs/mesh_segmentation_output/CustomDataset/000-001/f2a513fa322d44e0a846dc17161f5753/caption_gpt.txt\n"
     ]
    },
    {
     "name": "stderr",
     "output_type": "stream",
     "text": [
      "Captioning meshes:  94%|█████████▎| 361/386 [27:17<02:08,  5.16s/it]"
     ]
    },
    {
     "name": "stdout",
     "output_type": "stream",
     "text": [
      "2025-04-29 15:23:17,427 [WARNING] ⚠️  f3237139de0b45f8adcdc4f1299f2067: 필요한 이미지 파일이 존재하지 않음\n",
      "2025-04-29 15:23:23,517 [INFO] HTTP Request: POST https://api.openai.com/v1/chat/completions \"HTTP/1.1 200 OK\"\n",
      "2025-04-29 15:23:23,520 [INFO] ✅ f370523b3b0d49d69ddfb6ed162e7326 완료 → ../outputs/mesh_segmentation_output/CustomDataset/000-001/f370523b3b0d49d69ddfb6ed162e7326/caption_gpt.txt\n"
     ]
    },
    {
     "name": "stderr",
     "output_type": "stream",
     "text": [
      "Captioning meshes:  94%|█████████▍| 363/386 [27:23<01:36,  4.19s/it]"
     ]
    },
    {
     "name": "stdout",
     "output_type": "stream",
     "text": [
      "2025-04-29 15:23:27,545 [INFO] HTTP Request: POST https://api.openai.com/v1/chat/completions \"HTTP/1.1 200 OK\"\n",
      "2025-04-29 15:23:27,547 [INFO] ✅ f38a12b260c042c39b4906494be9c26e 완료 → ../outputs/mesh_segmentation_output/CustomDataset/000-001/f38a12b260c042c39b4906494be9c26e/caption_gpt.txt\n"
     ]
    },
    {
     "name": "stderr",
     "output_type": "stream",
     "text": [
      "Captioning meshes:  94%|█████████▍| 364/386 [27:27<01:31,  4.15s/it]"
     ]
    },
    {
     "name": "stdout",
     "output_type": "stream",
     "text": [
      "2025-04-29 15:23:31,413 [INFO] HTTP Request: POST https://api.openai.com/v1/chat/completions \"HTTP/1.1 200 OK\"\n",
      "2025-04-29 15:23:31,416 [INFO] ✅ f521ad327b4547d2b99c8f96d1b00f62 완료 → ../outputs/mesh_segmentation_output/CustomDataset/000-001/f521ad327b4547d2b99c8f96d1b00f62/caption_gpt.txt\n"
     ]
    },
    {
     "name": "stderr",
     "output_type": "stream",
     "text": [
      "Captioning meshes:  95%|█████████▍| 365/386 [27:31<01:25,  4.08s/it]"
     ]
    },
    {
     "name": "stdout",
     "output_type": "stream",
     "text": [
      "2025-04-29 15:23:35,563 [INFO] HTTP Request: POST https://api.openai.com/v1/chat/completions \"HTTP/1.1 200 OK\"\n",
      "2025-04-29 15:23:35,565 [INFO] ✅ f532b3214f8f44beb76c4e8ed1b7b25e 완료 → ../outputs/mesh_segmentation_output/CustomDataset/000-001/f532b3214f8f44beb76c4e8ed1b7b25e/caption_gpt.txt\n"
     ]
    },
    {
     "name": "stderr",
     "output_type": "stream",
     "text": [
      "Captioning meshes:  95%|█████████▍| 366/386 [27:35<01:21,  4.10s/it]"
     ]
    },
    {
     "name": "stdout",
     "output_type": "stream",
     "text": [
      "2025-04-29 15:23:35,566 [WARNING] ⚠️  f5510c91f0ec4df5b2e5ac1a0422c68f: 필요한 이미지 파일이 존재하지 않음\n",
      "2025-04-29 15:23:40,145 [INFO] HTTP Request: POST https://api.openai.com/v1/chat/completions \"HTTP/1.1 200 OK\"\n",
      "2025-04-29 15:23:40,147 [INFO] ✅ f5f0bacf38834bfebf0f6064f383592e 완료 → ../outputs/mesh_segmentation_output/CustomDataset/000-001/f5f0bacf38834bfebf0f6064f383592e/caption_gpt.txt\n"
     ]
    },
    {
     "name": "stderr",
     "output_type": "stream",
     "text": [
      "Captioning meshes:  95%|█████████▌| 368/386 [27:39<00:59,  3.31s/it]"
     ]
    },
    {
     "name": "stdout",
     "output_type": "stream",
     "text": [
      "2025-04-29 15:23:44,466 [INFO] HTTP Request: POST https://api.openai.com/v1/chat/completions \"HTTP/1.1 200 OK\"\n",
      "2025-04-29 15:23:44,468 [INFO] ✅ f5ff56ac316a48f8b655358d91ea8d95 완료 → ../outputs/mesh_segmentation_output/CustomDataset/000-001/f5ff56ac316a48f8b655358d91ea8d95/caption_gpt.txt\n"
     ]
    },
    {
     "name": "stderr",
     "output_type": "stream",
     "text": [
      "Captioning meshes:  96%|█████████▌| 369/386 [27:44<01:00,  3.55s/it]"
     ]
    },
    {
     "name": "stdout",
     "output_type": "stream",
     "text": [
      "2025-04-29 15:23:53,081 [INFO] HTTP Request: POST https://api.openai.com/v1/chat/completions \"HTTP/1.1 200 OK\"\n",
      "2025-04-29 15:23:53,083 [INFO] ✅ f605678243834e45abb46a978da80419 완료 → ../outputs/mesh_segmentation_output/CustomDataset/000-001/f605678243834e45abb46a978da80419/caption_gpt.txt\n"
     ]
    },
    {
     "name": "stderr",
     "output_type": "stream",
     "text": [
      "Captioning meshes:  96%|█████████▌| 370/386 [27:52<01:17,  4.83s/it]"
     ]
    },
    {
     "name": "stdout",
     "output_type": "stream",
     "text": [
      "2025-04-29 15:23:56,684 [INFO] HTTP Request: POST https://api.openai.com/v1/chat/completions \"HTTP/1.1 200 OK\"\n",
      "2025-04-29 15:23:56,686 [INFO] ✅ f614bd18d51f4568bbe438dd199899bd 완료 → ../outputs/mesh_segmentation_output/CustomDataset/000-001/f614bd18d51f4568bbe438dd199899bd/caption_gpt.txt\n"
     ]
    },
    {
     "name": "stderr",
     "output_type": "stream",
     "text": [
      "Captioning meshes:  96%|█████████▌| 371/386 [27:56<01:07,  4.51s/it]"
     ]
    },
    {
     "name": "stdout",
     "output_type": "stream",
     "text": [
      "2025-04-29 15:24:00,605 [INFO] HTTP Request: POST https://api.openai.com/v1/chat/completions \"HTTP/1.1 200 OK\"\n",
      "2025-04-29 15:24:00,607 [INFO] ✅ f757090ed58a420e94ae5454dbb4d43e 완료 → ../outputs/mesh_segmentation_output/CustomDataset/000-001/f757090ed58a420e94ae5454dbb4d43e/caption_gpt.txt\n"
     ]
    },
    {
     "name": "stderr",
     "output_type": "stream",
     "text": [
      "Captioning meshes:  96%|█████████▋| 372/386 [28:00<01:00,  4.35s/it]"
     ]
    },
    {
     "name": "stdout",
     "output_type": "stream",
     "text": [
      "2025-04-29 15:24:04,113 [INFO] HTTP Request: POST https://api.openai.com/v1/chat/completions \"HTTP/1.1 200 OK\"\n",
      "2025-04-29 15:24:04,115 [INFO] ✅ f777e3990d324a1e9fa43139421eb7d4 완료 → ../outputs/mesh_segmentation_output/CustomDataset/000-001/f777e3990d324a1e9fa43139421eb7d4/caption_gpt.txt\n"
     ]
    },
    {
     "name": "stderr",
     "output_type": "stream",
     "text": [
      "Captioning meshes:  97%|█████████▋| 373/386 [28:03<00:53,  4.11s/it]"
     ]
    },
    {
     "name": "stdout",
     "output_type": "stream",
     "text": [
      "2025-04-29 15:24:09,405 [INFO] HTTP Request: POST https://api.openai.com/v1/chat/completions \"HTTP/1.1 200 OK\"\n",
      "2025-04-29 15:24:09,407 [INFO] ✅ f87b7d4d3dc8487f89a77acd3ac884b6 완료 → ../outputs/mesh_segmentation_output/CustomDataset/000-001/f87b7d4d3dc8487f89a77acd3ac884b6/caption_gpt.txt\n"
     ]
    },
    {
     "name": "stderr",
     "output_type": "stream",
     "text": [
      "Captioning meshes:  97%|█████████▋| 374/386 [28:09<00:53,  4.45s/it]"
     ]
    },
    {
     "name": "stdout",
     "output_type": "stream",
     "text": [
      "2025-04-29 15:24:12,025 [INFO] HTTP Request: POST https://api.openai.com/v1/chat/completions \"HTTP/1.1 200 OK\"\n",
      "2025-04-29 15:24:12,028 [INFO] ✅ f91e5641386a40bba084a7b1cedfddc4 완료 → ../outputs/mesh_segmentation_output/CustomDataset/000-001/f91e5641386a40bba084a7b1cedfddc4/caption_gpt.txt\n"
     ]
    },
    {
     "name": "stderr",
     "output_type": "stream",
     "text": [
      "Captioning meshes:  97%|█████████▋| 375/386 [28:11<00:43,  3.92s/it]"
     ]
    },
    {
     "name": "stdout",
     "output_type": "stream",
     "text": [
      "2025-04-29 15:24:12,029 [WARNING] ⚠️  fb80ef2491214624b8ba9347e30b5c61: 필요한 이미지 파일이 존재하지 않음\n",
      "2025-04-29 15:24:15,153 [INFO] HTTP Request: POST https://api.openai.com/v1/chat/completions \"HTTP/1.1 200 OK\"\n",
      "2025-04-29 15:24:15,155 [INFO] ✅ fbc18654e2af449f89ad23ca2117a49d 완료 → ../outputs/mesh_segmentation_output/CustomDataset/000-001/fbc18654e2af449f89ad23ca2117a49d/caption_gpt.txt\n"
     ]
    },
    {
     "name": "stderr",
     "output_type": "stream",
     "text": [
      "Captioning meshes:  98%|█████████▊| 377/386 [28:14<00:25,  2.85s/it]"
     ]
    },
    {
     "name": "stdout",
     "output_type": "stream",
     "text": [
      "2025-04-29 15:24:19,809 [INFO] HTTP Request: POST https://api.openai.com/v1/chat/completions \"HTTP/1.1 200 OK\"\n",
      "2025-04-29 15:24:19,811 [INFO] ✅ fbe4df6356604062968290b4bfb3a460 완료 → ../outputs/mesh_segmentation_output/CustomDataset/000-001/fbe4df6356604062968290b4bfb3a460/caption_gpt.txt\n"
     ]
    },
    {
     "name": "stderr",
     "output_type": "stream",
     "text": [
      "Captioning meshes:  98%|█████████▊| 378/386 [28:19<00:26,  3.29s/it]"
     ]
    },
    {
     "name": "stdout",
     "output_type": "stream",
     "text": [
      "2025-04-29 15:24:23,322 [INFO] HTTP Request: POST https://api.openai.com/v1/chat/completions \"HTTP/1.1 200 OK\"\n",
      "2025-04-29 15:24:23,324 [INFO] ✅ fc1c1fd8ebc34e9ebba190ad8f5c90b3 완료 → ../outputs/mesh_segmentation_output/CustomDataset/000-001/fc1c1fd8ebc34e9ebba190ad8f5c90b3/caption_gpt.txt\n"
     ]
    },
    {
     "name": "stderr",
     "output_type": "stream",
     "text": [
      "Captioning meshes:  98%|█████████▊| 379/386 [28:23<00:23,  3.35s/it]"
     ]
    },
    {
     "name": "stdout",
     "output_type": "stream",
     "text": [
      "2025-04-29 15:24:27,005 [INFO] HTTP Request: POST https://api.openai.com/v1/chat/completions \"HTTP/1.1 200 OK\"\n",
      "2025-04-29 15:24:27,007 [INFO] ✅ fcb8b308707142419feaecfb11a0f2e1 완료 → ../outputs/mesh_segmentation_output/CustomDataset/000-001/fcb8b308707142419feaecfb11a0f2e1/caption_gpt.txt\n"
     ]
    },
    {
     "name": "stderr",
     "output_type": "stream",
     "text": [
      "Captioning meshes:  98%|█████████▊| 380/386 [28:26<00:20,  3.44s/it]"
     ]
    },
    {
     "name": "stdout",
     "output_type": "stream",
     "text": [
      "2025-04-29 15:24:31,112 [INFO] HTTP Request: POST https://api.openai.com/v1/chat/completions \"HTTP/1.1 200 OK\"\n",
      "2025-04-29 15:24:31,114 [INFO] ✅ fe7123dfd95440a79c43ea1c83b48301 완료 → ../outputs/mesh_segmentation_output/CustomDataset/000-001/fe7123dfd95440a79c43ea1c83b48301/caption_gpt.txt\n"
     ]
    },
    {
     "name": "stderr",
     "output_type": "stream",
     "text": [
      "Captioning meshes:  99%|█████████▊| 381/386 [28:30<00:18,  3.62s/it]"
     ]
    },
    {
     "name": "stdout",
     "output_type": "stream",
     "text": [
      "2025-04-29 15:24:38,178 [INFO] HTTP Request: POST https://api.openai.com/v1/chat/completions \"HTTP/1.1 200 OK\"\n",
      "2025-04-29 15:24:38,180 [INFO] ✅ fe95e0c0987549b0a735cdcc1d38b2d2 완료 → ../outputs/mesh_segmentation_output/CustomDataset/000-001/fe95e0c0987549b0a735cdcc1d38b2d2/caption_gpt.txt\n"
     ]
    },
    {
     "name": "stderr",
     "output_type": "stream",
     "text": [
      "Captioning meshes:  99%|█████████▉| 382/386 [28:37<00:18,  4.60s/it]"
     ]
    },
    {
     "name": "stdout",
     "output_type": "stream",
     "text": [
      "2025-04-29 15:24:43,032 [INFO] HTTP Request: POST https://api.openai.com/v1/chat/completions \"HTTP/1.1 200 OK\"\n",
      "2025-04-29 15:24:43,034 [INFO] ✅ ff0f84d42b144457957b64cfd3c0fdba 완료 → ../outputs/mesh_segmentation_output/CustomDataset/000-001/ff0f84d42b144457957b64cfd3c0fdba/caption_gpt.txt\n"
     ]
    },
    {
     "name": "stderr",
     "output_type": "stream",
     "text": [
      "Captioning meshes:  99%|█████████▉| 383/386 [28:42<00:14,  4.68s/it]"
     ]
    },
    {
     "name": "stdout",
     "output_type": "stream",
     "text": [
      "2025-04-29 15:24:47,450 [INFO] HTTP Request: POST https://api.openai.com/v1/chat/completions \"HTTP/1.1 200 OK\"\n",
      "2025-04-29 15:24:47,452 [INFO] ✅ ff9fb3fc5bfa4fa19a4e8f07141fa4df 완료 → ../outputs/mesh_segmentation_output/CustomDataset/000-001/ff9fb3fc5bfa4fa19a4e8f07141fa4df/caption_gpt.txt\n"
     ]
    },
    {
     "name": "stderr",
     "output_type": "stream",
     "text": [
      "Captioning meshes:  99%|█████████▉| 384/386 [28:47<00:09,  4.60s/it]"
     ]
    },
    {
     "name": "stdout",
     "output_type": "stream",
     "text": [
      "2025-04-29 15:24:51,772 [INFO] HTTP Request: POST https://api.openai.com/v1/chat/completions \"HTTP/1.1 200 OK\"\n",
      "2025-04-29 15:24:51,774 [INFO] ✅ y0KSBqo8lcEnAwqYkI29kgHCUn4 완료 → ../outputs/mesh_segmentation_output/CustomDataset/000-001/y0KSBqo8lcEnAwqYkI29kgHCUn4/caption_gpt.txt\n"
     ]
    },
    {
     "name": "stderr",
     "output_type": "stream",
     "text": [
      "Captioning meshes: 100%|█████████▉| 385/386 [28:51<00:04,  4.52s/it]"
     ]
    },
    {
     "name": "stdout",
     "output_type": "stream",
     "text": [
      "2025-04-29 15:24:55,373 [INFO] HTTP Request: POST https://api.openai.com/v1/chat/completions \"HTTP/1.1 200 OK\"\n",
      "2025-04-29 15:24:55,375 [INFO] ✅ ydSFQC0HWE7eMaulss0Xak4pe1X 완료 → ../outputs/mesh_segmentation_output/CustomDataset/000-001/ydSFQC0HWE7eMaulss0Xak4pe1X/caption_gpt.txt\n"
     ]
    },
    {
     "name": "stderr",
     "output_type": "stream",
     "text": [
      "Captioning meshes: 100%|██████████| 386/386 [28:55<00:00,  4.50s/it]"
     ]
    },
    {
     "name": "stdout",
     "output_type": "stream",
     "text": [
      "2025-04-29 15:24:55,379 [INFO] === 전체 완료. CSV: ../outputs/mesh_segmentation_output/CustomDataset/000-001/caption_results.csv ===\n"
     ]
    },
    {
     "name": "stderr",
     "output_type": "stream",
     "text": [
      "\n"
     ]
    }
   ],
   "source": [
    "#!/usr/bin/env python\n",
    "# -*- coding: utf-8 -*-\n",
    "\"\"\"\n",
    "batch_caption_meshes.py  (tqdm + 빈 디렉토리 처리 + 모델별 파일명)\n",
    "\"\"\"\n",
    "import os, sys, csv, base64, time, logging\n",
    "from pathlib import Path\n",
    "import requests\n",
    "from tqdm import tqdm\n",
    "\n",
    "# ───────────────────────────────────────────────────────────\n",
    "# [1] 경로·설정\n",
    "# ───────────────────────────────────────────────────────────\n",
    "TARGET_DIR = Path(\"../outputs/mesh_segmentation_output/CustomDataset/000-001\")\n",
    "CONFIG_DIR = Path(\"../configs\")\n",
    "TEMPLATE   = CONFIG_DIR / \"captioning_template.txt\"\n",
    "\n",
    "USE_OPENAI           = True\n",
    "USE_OLLAMA_DEEPSEEK  = False\n",
    "USE_OLLAMA_GEMMA     = False\n",
    "\n",
    "CSV_PATH = TARGET_DIR / \"caption_results.csv\"\n",
    "LOG_PATH = TARGET_DIR / \"batch_caption_meshes.log\"\n",
    "\n",
    "with open('openai_api_key.txt', 'r') as file:\n",
    "    api_key = file.read().strip()\n",
    "\n",
    "# ───────────────────────────────────────────────────────────\n",
    "# [2] 로깅\n",
    "# ───────────────────────────────────────────────────────────\n",
    "logging.basicConfig(\n",
    "    level=logging.INFO,\n",
    "    format=\"%(asctime)s [%(levelname)s] %(message)s\",\n",
    "    handlers=[logging.FileHandler(LOG_PATH, encoding=\"utf-8\"),\n",
    "              logging.StreamHandler(sys.stdout)],\n",
    ")\n",
    "log = logging.getLogger(__name__)\n",
    "\n",
    "# ───────────────────────────────────────────────────────────\n",
    "# [3] 헬퍼\n",
    "# ───────────────────────────────────────────────────────────\n",
    "def encode_b64(p: Path) -> str:\n",
    "    with p.open(\"rb\") as f:\n",
    "        return base64.b64encode(f.read()).decode(\"utf-8\")\n",
    "\n",
    "PROMPT_TMPL = Path(TEMPLATE).read_text(encoding=\"utf-8\")\n",
    "\n",
    "def call_ollama_gemma(prompt: str, matte_b64: str, segm_b64: str,\n",
    "                      *, retries=3, timeout=30) -> str:\n",
    "    url = \"http://localhost:11434/api/generate\"\n",
    "    payload = {\"model\": \"gemma3:27b\", \"prompt\": prompt,\n",
    "               \"images\": [matte_b64, segm_b64], \"stream\": False}\n",
    "    for a in range(1, retries + 1):\n",
    "        try:\n",
    "            r = requests.post(url, json=payload, timeout=timeout)\n",
    "            r.raise_for_status()\n",
    "            return r.json()[\"response\"]\n",
    "        except Exception as e:\n",
    "            log.warning(f\"[{a}/{retries}] Gemma 호출 실패: {e}\")\n",
    "            if a < retries:\n",
    "                wait = 2 ** a\n",
    "                log.info(f\"{wait}초 뒤 재시도…\")\n",
    "                time.sleep(wait)\n",
    "            else:\n",
    "                raise\n",
    "            \n",
    "def call_openai_api(prompt, matte_image_b64, segmentation_image_b64):\n",
    "    from openai import OpenAI\n",
    "\n",
    "    client = OpenAI(api_key=api_key, timeout=30, max_retries=3)  # OPENAI_API_KEY 환경변수 필요\n",
    "\n",
    "    response = client.chat.completions.create(\n",
    "        model=\"gpt-4o\",\n",
    "        messages=[\n",
    "            {\"role\": \"system\", \"content\": prompt},\n",
    "            {\"role\": \"user\", \"content\": [\n",
    "                {\"type\": \"text\", \"text\": \"Here are two images of the object.\"},\n",
    "                {\"type\": \"image_url\", \"image_url\": {\"url\": f\"data:image/png;base64,{matte_image_b64}\"}},\n",
    "                {\"type\": \"image_url\", \"image_url\": {\"url\": f\"data:image/png;base64,{segmentation_image_b64}\"}},\n",
    "            ]}\n",
    "        ]\n",
    "    )\n",
    "    return response.choices[0].message.content\n",
    "\n",
    "# ───────────────────────────────────────────────────────────\n",
    "# [4] 메인 루프\n",
    "# ───────────────────────────────────────────────────────────\n",
    "mesh_dirs = sorted(d for d in TARGET_DIR.iterdir() if d.is_dir())\n",
    "results   = []\n",
    "\n",
    "# ★변경: 어떤 모델을 쓰는지에 따라 파일 접미사 결정\n",
    "if USE_OLLAMA_GEMMA:\n",
    "    suffix = \"gemma\"\n",
    "elif USE_OLLAMA_DEEPSEEK:\n",
    "    suffix = \"deepseek\"\n",
    "elif USE_OPENAI:\n",
    "    suffix = \"gpt\"\n",
    "else:\n",
    "    suffix = \"unknown\"\n",
    "\n",
    "for mesh_dir in tqdm(mesh_dirs, desc=\"Captioning meshes\"):\n",
    "    mesh_id      = mesh_dir.name\n",
    "    matte_png    = mesh_dir / \"matte_collage_2048x2048.png\"\n",
    "    segm_png     = mesh_dir / \"segmented_collage_2048x2048.png\"\n",
    "    caption_path = mesh_dir / f\"caption_{suffix}.txt\"       # ★변경\n",
    "\n",
    "    rec = {\"mesh_id\": mesh_id, \"status\": \"success\", \"error_msg\": \"\"}\n",
    "\n",
    "    # ── 파일 존재 확인 ─────────────────────────────────────\n",
    "    if not matte_png.exists() or not segm_png.exists():\n",
    "        msg = \"필요한 이미지 파일이 존재하지 않음\"\n",
    "        rec.update(status=\"error\", error_msg=msg)\n",
    "        log.warning(f\"⚠️  {mesh_id}: {msg}\")\n",
    "        results.append(rec)\n",
    "        continue\n",
    "\n",
    "    try:\n",
    "        matte_b64 = encode_b64(matte_png)\n",
    "        segm_b64  = encode_b64(segm_png)\n",
    "\n",
    "        if USE_OLLAMA_GEMMA:\n",
    "            caption = call_ollama_gemma(PROMPT_TMPL, matte_b64, segm_b64)\n",
    "        elif USE_OLLAMA_DEEPSEEK:\n",
    "            caption = call_ollama_deepseek_api(PROMPT_TMPL, matte_b64, segm_b64)\n",
    "        elif USE_OPENAI:\n",
    "            caption = call_openai_api(PROMPT_TMPL, matte_b64, segm_b64)\n",
    "        else:\n",
    "            raise RuntimeError(\"LLM 플래그가 모두 False입니다.\")\n",
    "\n",
    "        caption_path.write_text(caption.strip() + \"\\n\", encoding=\"utf-8\")\n",
    "        log.info(f\"✅ {mesh_id} 완료 → {caption_path}\")\n",
    "\n",
    "    except Exception as e:\n",
    "        rec.update(status=\"error\", error_msg=str(e))\n",
    "        log.error(f\"❌ {mesh_id} 실패: {e}\")\n",
    "\n",
    "    results.append(rec)\n",
    "\n",
    "# ───────────────────────────────────────────────────────────\n",
    "# [5] CSV 저장\n",
    "# ───────────────────────────────────────────────────────────\n",
    "with CSV_PATH.open(\"w\", newline=\"\", encoding=\"utf-8\") as f:\n",
    "    writer = csv.DictWriter(f, fieldnames=[\"mesh_id\", \"status\", \"error_msg\"])\n",
    "    writer.writeheader()\n",
    "    writer.writerows(results)\n",
    "\n",
    "log.info(f\"=== 전체 완료. CSV: {CSV_PATH} ===\")"
   ]
  },
  {
   "cell_type": "code",
   "execution_count": null,
   "id": "f6388e22",
   "metadata": {},
   "outputs": [],
   "source": []
  }
 ],
 "metadata": {
  "kernelspec": {
   "display_name": "samesh",
   "language": "python",
   "name": "python3"
  },
  "language_info": {
   "codemirror_mode": {
    "name": "ipython",
    "version": 3
   },
   "file_extension": ".py",
   "mimetype": "text/x-python",
   "name": "python",
   "nbconvert_exporter": "python",
   "pygments_lexer": "ipython3",
   "version": "3.12.9"
  }
 },
 "nbformat": 4,
 "nbformat_minor": 5
}
