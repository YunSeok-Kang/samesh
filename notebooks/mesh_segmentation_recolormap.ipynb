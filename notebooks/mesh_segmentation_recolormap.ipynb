{
 "cells": [
  {
   "cell_type": "code",
   "execution_count": 1,
   "metadata": {},
   "outputs": [],
   "source": [
    "%load_ext autoreload\n",
    "%autoreload 2"
   ]
  },
  {
   "cell_type": "code",
   "execution_count": 2,
   "metadata": {},
   "outputs": [],
   "source": [
    "import glob\n",
    "import json\n",
    "import numpy as np\n",
    "import matplotlib.pyplot as plt\n",
    "from tqdm import tqdm\n",
    "from pathlib import Path\n",
    "from samesh.data.loaders import read_mesh\n",
    "from samesh.utils.mesh import duplicate_verts"
   ]
  },
  {
   "cell_type": "code",
   "execution_count": 7,
   "metadata": {},
   "outputs": [],
   "source": [
    "MESH_DIRS = [\n",
    "    '/home/ubuntu/meshseg/tests/mesh_segmentation_output-dynamic-0.125-6-0.5-sdf',\n",
    "    '/home/ubuntu/meshseg/tests/mesh_segmentation_output-dynamic-0.125-6-0.5-norm',\n",
    "    '/home/ubuntu/meshseg/tests/mesh_segmentation_output-dynamic-0.125-6-0.5-combined',\n",
    "    '/home/ubuntu/meshseg/tests/mesh_segmentation_output-dynamic-0.125-6-0.5-matte',\n",
    "    '/home/ubuntu/meshseg/tests/mesh_segmentation_output_shape_diameter_function-5-15',\n",
    "]"
   ]
  },
  {
   "cell_type": "code",
   "execution_count": 5,
   "metadata": {},
   "outputs": [
    {
     "data": {
      "image/png": "[encoded data removed]",
      "text/plain": [
       "<Figure size 1000x1000 with 1 Axes>"
      ]
     },
     "metadata": {},
     "output_type": "display_data"
    }
   ],
   "source": [
    "import random\n",
    "\n",
    "grid_size = 10\n",
    "\n",
    "COLORS = np.random.rand(grid_size ** 2, 3)\n",
    "\n",
    "fig, ax = plt.subplots(figsize=(grid_size, grid_size))\n",
    "\n",
    "for i in range(grid_size):\n",
    "    for j in range(grid_size):\n",
    "        idx = i * grid_size + j\n",
    "        rect = plt.Rectangle((j, grid_size - i - 1), 1, 1, color=COLORS[idx])\n",
    "        ax.add_patch(rect)\n",
    "\n",
    "ax.set_xlim(0, grid_size)\n",
    "ax.set_ylim(0, grid_size)\n",
    "ax.set_aspect('equal')\n",
    "ax.axis('off')\n",
    "plt.show()"
   ]
  },
  {
   "cell_type": "code",
   "execution_count": 8,
   "metadata": {},
   "outputs": [
    {
     "name": "stdout",
     "output_type": "stream",
     "text": [
      "Recoloring segmented meshes in  /home/ubuntu/meshseg/tests/mesh_segmentation_output-dynamic-0.125-6-0.5-sdf\n"
     ]
    },
    {
     "name": "stderr",
     "output_type": "stream",
     "text": [
      "0it [00:00, ?it/s]"
     ]
    },
    {
     "name": "stderr",
     "output_type": "stream",
     "text": [
      "75it [00:08,  8.96it/s]\n"
     ]
    },
    {
     "name": "stdout",
     "output_type": "stream",
     "text": [
      "Recoloring segmented meshes in  /home/ubuntu/meshseg/tests/mesh_segmentation_output-dynamic-0.125-6-0.5-norm\n"
     ]
    },
    {
     "name": "stderr",
     "output_type": "stream",
     "text": [
      "75it [00:08,  8.94it/s]\n"
     ]
    },
    {
     "name": "stdout",
     "output_type": "stream",
     "text": [
      "Recoloring segmented meshes in  /home/ubuntu/meshseg/tests/mesh_segmentation_output-dynamic-0.125-6-0.5-combined\n"
     ]
    },
    {
     "name": "stderr",
     "output_type": "stream",
     "text": [
      "75it [00:08,  8.97it/s]\n"
     ]
    },
    {
     "name": "stdout",
     "output_type": "stream",
     "text": [
      "Recoloring segmented meshes in  /home/ubuntu/meshseg/tests/mesh_segmentation_output-dynamic-0.125-6-0.5-matte\n"
     ]
    },
    {
     "name": "stderr",
     "output_type": "stream",
     "text": [
      "75it [00:08,  8.97it/s]\n"
     ]
    },
    {
     "name": "stdout",
     "output_type": "stream",
     "text": [
      "Recoloring segmented meshes in  /home/ubuntu/meshseg/tests/mesh_segmentation_output_shape_diameter_function-5-15\n"
     ]
    },
    {
     "name": "stderr",
     "output_type": "stream",
     "text": [
      "75it [00:08,  8.69it/s]\n"
     ]
    }
   ],
   "source": [
    "for dir in MESH_DIRS:\n",
    "    print('Recoloring segmented meshes in ', dir)\n",
    "    labels = glob.glob(f'{dir}/*/*.json')\n",
    "    meshes = glob.glob(f'{dir}/*/*segmented.glb') # only recolor original meshes\n",
    "\n",
    "    for filename_face2label, filename_mesh in tqdm(zip(labels, meshes)):\n",
    "        with open(filename_face2label, 'r') as f:\n",
    "            face2label = json.load(f)\n",
    "        face2label = {int(k): v for k, v in face2label.items()}\n",
    "        face2label = sorted(face2label.items())\n",
    "        face2label = np.array([v for (_, v) in face2label])\n",
    "        face2label_renumbered = np.zeros_like(face2label)\n",
    "        for i, v in enumerate(np.unique(face2label)):\n",
    "            face2label_renumbered[face2label == v] = i\n",
    "\n",
    "        mesh = read_mesh(filename_mesh)\n",
    "        mesh = duplicate_verts(mesh) # avoid face color interpolation due to OpenGL storing data in vertices\n",
    "        mesh.visual.face_colors = COLORS[face2label_renumbered[:mesh.faces.shape[0]]]\n",
    "        mesh.export(filename_mesh.replace('.glb', '_recolored.glb'))"
   ]
  }
 ],
 "metadata": {
  "kernelspec": {
   "display_name": "meshseg",
   "language": "python",
   "name": "python3"
  },
  "language_info": {
   "codemirror_mode": {
    "name": "ipython",
    "version": 3
   },
   "file_extension": ".py",
   "mimetype": "text/x-python",
   "name": "python",
   "nbconvert_exporter": "python",
   "pygments_lexer": "ipython3",
   "version": "3.12.4"
  }
 },
 "nbformat": 4,
 "nbformat_minor": 2
}
